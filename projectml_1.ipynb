{
 "cells": [
  {
   "cell_type": "markdown",
   "metadata": {
    "id": "eNx40NnZvxj1"
   },
   "source": [
    "# **IMPORTING LIBRARIES**"
   ]
  },
  {
   "cell_type": "code",
   "execution_count": 462,
   "metadata": {
    "id": "jid2QkdBvQLY"
   },
   "outputs": [],
   "source": [
    "import pandas as pd\n",
    "import numpy as np\n",
    "import plotly.express as px\n",
    "import seaborn as sns\n",
    "import matplotlib.pyplot as plt\n",
    "from sklearn.model_selection import train_test_split\n",
    "from sklearn.preprocessing import StandardScaler\n",
    "from sklearn.ensemble import RandomForestClassifier\n",
    "from sklearn.tree import DecisionTreeClassifier\n",
    "from sklearn.linear_model import LogisticRegression\n",
    "from sklearn.metrics import accuracy_score, classification_report, confusion_matrix\n",
    "from sklearn.svm import SVC\n",
    "from xgboost import XGBClassifier\n",
    "import warnings\n",
    "warnings.filterwarnings(\"ignore\")\n",
    "%matplotlib inline"
   ]
  },
  {
   "cell_type": "markdown",
   "metadata": {
    "id": "M41iMhcvwt9_"
   },
   "source": [
    "# **Read Dataset**"
   ]
  },
  {
   "cell_type": "code",
   "execution_count": 463,
   "metadata": {
    "colab": {
     "base_uri": "https://localhost:8080/",
     "height": 244
    },
    "id": "9pE0v6EGwFGV",
    "outputId": "1dfc6792-efec-491a-868a-f04b52c975d5"
   },
   "outputs": [
    {
     "data": {
      "text/html": [
       "<div>\n",
       "<style scoped>\n",
       "    .dataframe tbody tr th:only-of-type {\n",
       "        vertical-align: middle;\n",
       "    }\n",
       "\n",
       "    .dataframe tbody tr th {\n",
       "        vertical-align: top;\n",
       "    }\n",
       "\n",
       "    .dataframe thead th {\n",
       "        text-align: right;\n",
       "    }\n",
       "</style>\n",
       "<table border=\"1\" class=\"dataframe\">\n",
       "  <thead>\n",
       "    <tr style=\"text-align: right;\">\n",
       "      <th></th>\n",
       "      <th>Loan_ID</th>\n",
       "      <th>Gender</th>\n",
       "      <th>Married</th>\n",
       "      <th>Dependents</th>\n",
       "      <th>Education</th>\n",
       "      <th>Self_Employed</th>\n",
       "      <th>ApplicantIncome</th>\n",
       "      <th>CoapplicantIncome</th>\n",
       "      <th>LoanAmount</th>\n",
       "      <th>Loan_Amount_Term</th>\n",
       "      <th>Credit_History</th>\n",
       "      <th>Property_Area</th>\n",
       "      <th>Loan_Status</th>\n",
       "    </tr>\n",
       "  </thead>\n",
       "  <tbody>\n",
       "    <tr>\n",
       "      <th>0</th>\n",
       "      <td>LP001002</td>\n",
       "      <td>Male</td>\n",
       "      <td>No</td>\n",
       "      <td>0</td>\n",
       "      <td>Graduate</td>\n",
       "      <td>No</td>\n",
       "      <td>5849</td>\n",
       "      <td>0.0</td>\n",
       "      <td>NaN</td>\n",
       "      <td>360.0</td>\n",
       "      <td>1.0</td>\n",
       "      <td>Urban</td>\n",
       "      <td>Y</td>\n",
       "    </tr>\n",
       "    <tr>\n",
       "      <th>1</th>\n",
       "      <td>LP001003</td>\n",
       "      <td>Male</td>\n",
       "      <td>Yes</td>\n",
       "      <td>1</td>\n",
       "      <td>Graduate</td>\n",
       "      <td>No</td>\n",
       "      <td>4583</td>\n",
       "      <td>1508.0</td>\n",
       "      <td>128.0</td>\n",
       "      <td>360.0</td>\n",
       "      <td>1.0</td>\n",
       "      <td>Rural</td>\n",
       "      <td>N</td>\n",
       "    </tr>\n",
       "    <tr>\n",
       "      <th>2</th>\n",
       "      <td>LP001005</td>\n",
       "      <td>Male</td>\n",
       "      <td>Yes</td>\n",
       "      <td>0</td>\n",
       "      <td>Graduate</td>\n",
       "      <td>Yes</td>\n",
       "      <td>3000</td>\n",
       "      <td>0.0</td>\n",
       "      <td>66.0</td>\n",
       "      <td>360.0</td>\n",
       "      <td>1.0</td>\n",
       "      <td>Urban</td>\n",
       "      <td>Y</td>\n",
       "    </tr>\n",
       "    <tr>\n",
       "      <th>3</th>\n",
       "      <td>LP001006</td>\n",
       "      <td>Male</td>\n",
       "      <td>Yes</td>\n",
       "      <td>0</td>\n",
       "      <td>Not Graduate</td>\n",
       "      <td>No</td>\n",
       "      <td>2583</td>\n",
       "      <td>2358.0</td>\n",
       "      <td>120.0</td>\n",
       "      <td>360.0</td>\n",
       "      <td>1.0</td>\n",
       "      <td>Urban</td>\n",
       "      <td>Y</td>\n",
       "    </tr>\n",
       "    <tr>\n",
       "      <th>4</th>\n",
       "      <td>LP001008</td>\n",
       "      <td>Male</td>\n",
       "      <td>No</td>\n",
       "      <td>0</td>\n",
       "      <td>Graduate</td>\n",
       "      <td>No</td>\n",
       "      <td>6000</td>\n",
       "      <td>0.0</td>\n",
       "      <td>141.0</td>\n",
       "      <td>360.0</td>\n",
       "      <td>1.0</td>\n",
       "      <td>Urban</td>\n",
       "      <td>Y</td>\n",
       "    </tr>\n",
       "    <tr>\n",
       "      <th>5</th>\n",
       "      <td>LP001011</td>\n",
       "      <td>Male</td>\n",
       "      <td>Yes</td>\n",
       "      <td>2</td>\n",
       "      <td>Graduate</td>\n",
       "      <td>Yes</td>\n",
       "      <td>5417</td>\n",
       "      <td>4196.0</td>\n",
       "      <td>267.0</td>\n",
       "      <td>360.0</td>\n",
       "      <td>1.0</td>\n",
       "      <td>Urban</td>\n",
       "      <td>Y</td>\n",
       "    </tr>\n",
       "    <tr>\n",
       "      <th>6</th>\n",
       "      <td>LP001013</td>\n",
       "      <td>Male</td>\n",
       "      <td>Yes</td>\n",
       "      <td>0</td>\n",
       "      <td>Not Graduate</td>\n",
       "      <td>No</td>\n",
       "      <td>2333</td>\n",
       "      <td>1516.0</td>\n",
       "      <td>95.0</td>\n",
       "      <td>360.0</td>\n",
       "      <td>1.0</td>\n",
       "      <td>Urban</td>\n",
       "      <td>Y</td>\n",
       "    </tr>\n",
       "    <tr>\n",
       "      <th>7</th>\n",
       "      <td>LP001014</td>\n",
       "      <td>Male</td>\n",
       "      <td>Yes</td>\n",
       "      <td>3+</td>\n",
       "      <td>Graduate</td>\n",
       "      <td>No</td>\n",
       "      <td>3036</td>\n",
       "      <td>2504.0</td>\n",
       "      <td>158.0</td>\n",
       "      <td>360.0</td>\n",
       "      <td>0.0</td>\n",
       "      <td>Semiurban</td>\n",
       "      <td>N</td>\n",
       "    </tr>\n",
       "    <tr>\n",
       "      <th>8</th>\n",
       "      <td>LP001018</td>\n",
       "      <td>Male</td>\n",
       "      <td>Yes</td>\n",
       "      <td>2</td>\n",
       "      <td>Graduate</td>\n",
       "      <td>No</td>\n",
       "      <td>4006</td>\n",
       "      <td>1526.0</td>\n",
       "      <td>168.0</td>\n",
       "      <td>360.0</td>\n",
       "      <td>1.0</td>\n",
       "      <td>Urban</td>\n",
       "      <td>Y</td>\n",
       "    </tr>\n",
       "    <tr>\n",
       "      <th>9</th>\n",
       "      <td>LP001020</td>\n",
       "      <td>Male</td>\n",
       "      <td>Yes</td>\n",
       "      <td>1</td>\n",
       "      <td>Graduate</td>\n",
       "      <td>No</td>\n",
       "      <td>12841</td>\n",
       "      <td>10968.0</td>\n",
       "      <td>349.0</td>\n",
       "      <td>360.0</td>\n",
       "      <td>1.0</td>\n",
       "      <td>Semiurban</td>\n",
       "      <td>N</td>\n",
       "    </tr>\n",
       "    <tr>\n",
       "      <th>10</th>\n",
       "      <td>LP001024</td>\n",
       "      <td>Male</td>\n",
       "      <td>Yes</td>\n",
       "      <td>2</td>\n",
       "      <td>Graduate</td>\n",
       "      <td>No</td>\n",
       "      <td>3200</td>\n",
       "      <td>700.0</td>\n",
       "      <td>70.0</td>\n",
       "      <td>360.0</td>\n",
       "      <td>1.0</td>\n",
       "      <td>Urban</td>\n",
       "      <td>Y</td>\n",
       "    </tr>\n",
       "    <tr>\n",
       "      <th>11</th>\n",
       "      <td>LP001027</td>\n",
       "      <td>Male</td>\n",
       "      <td>Yes</td>\n",
       "      <td>2</td>\n",
       "      <td>Graduate</td>\n",
       "      <td>NaN</td>\n",
       "      <td>2500</td>\n",
       "      <td>1840.0</td>\n",
       "      <td>109.0</td>\n",
       "      <td>360.0</td>\n",
       "      <td>1.0</td>\n",
       "      <td>Urban</td>\n",
       "      <td>Y</td>\n",
       "    </tr>\n",
       "    <tr>\n",
       "      <th>12</th>\n",
       "      <td>LP001028</td>\n",
       "      <td>Male</td>\n",
       "      <td>Yes</td>\n",
       "      <td>2</td>\n",
       "      <td>Graduate</td>\n",
       "      <td>No</td>\n",
       "      <td>3073</td>\n",
       "      <td>8106.0</td>\n",
       "      <td>200.0</td>\n",
       "      <td>360.0</td>\n",
       "      <td>1.0</td>\n",
       "      <td>Urban</td>\n",
       "      <td>Y</td>\n",
       "    </tr>\n",
       "    <tr>\n",
       "      <th>13</th>\n",
       "      <td>LP001029</td>\n",
       "      <td>Male</td>\n",
       "      <td>No</td>\n",
       "      <td>0</td>\n",
       "      <td>Graduate</td>\n",
       "      <td>No</td>\n",
       "      <td>1853</td>\n",
       "      <td>2840.0</td>\n",
       "      <td>114.0</td>\n",
       "      <td>360.0</td>\n",
       "      <td>1.0</td>\n",
       "      <td>Rural</td>\n",
       "      <td>N</td>\n",
       "    </tr>\n",
       "    <tr>\n",
       "      <th>14</th>\n",
       "      <td>LP001030</td>\n",
       "      <td>Male</td>\n",
       "      <td>Yes</td>\n",
       "      <td>2</td>\n",
       "      <td>Graduate</td>\n",
       "      <td>No</td>\n",
       "      <td>1299</td>\n",
       "      <td>1086.0</td>\n",
       "      <td>17.0</td>\n",
       "      <td>120.0</td>\n",
       "      <td>1.0</td>\n",
       "      <td>Urban</td>\n",
       "      <td>Y</td>\n",
       "    </tr>\n",
       "  </tbody>\n",
       "</table>\n",
       "</div>"
      ],
      "text/plain": [
       "     Loan_ID Gender Married Dependents     Education Self_Employed  \\\n",
       "0   LP001002   Male      No          0      Graduate            No   \n",
       "1   LP001003   Male     Yes          1      Graduate            No   \n",
       "2   LP001005   Male     Yes          0      Graduate           Yes   \n",
       "3   LP001006   Male     Yes          0  Not Graduate            No   \n",
       "4   LP001008   Male      No          0      Graduate            No   \n",
       "5   LP001011   Male     Yes          2      Graduate           Yes   \n",
       "6   LP001013   Male     Yes          0  Not Graduate            No   \n",
       "7   LP001014   Male     Yes         3+      Graduate            No   \n",
       "8   LP001018   Male     Yes          2      Graduate            No   \n",
       "9   LP001020   Male     Yes          1      Graduate            No   \n",
       "10  LP001024   Male     Yes          2      Graduate            No   \n",
       "11  LP001027   Male     Yes          2      Graduate           NaN   \n",
       "12  LP001028   Male     Yes          2      Graduate            No   \n",
       "13  LP001029   Male      No          0      Graduate            No   \n",
       "14  LP001030   Male     Yes          2      Graduate            No   \n",
       "\n",
       "    ApplicantIncome  CoapplicantIncome  LoanAmount  Loan_Amount_Term  \\\n",
       "0              5849                0.0         NaN             360.0   \n",
       "1              4583             1508.0       128.0             360.0   \n",
       "2              3000                0.0        66.0             360.0   \n",
       "3              2583             2358.0       120.0             360.0   \n",
       "4              6000                0.0       141.0             360.0   \n",
       "5              5417             4196.0       267.0             360.0   \n",
       "6              2333             1516.0        95.0             360.0   \n",
       "7              3036             2504.0       158.0             360.0   \n",
       "8              4006             1526.0       168.0             360.0   \n",
       "9             12841            10968.0       349.0             360.0   \n",
       "10             3200              700.0        70.0             360.0   \n",
       "11             2500             1840.0       109.0             360.0   \n",
       "12             3073             8106.0       200.0             360.0   \n",
       "13             1853             2840.0       114.0             360.0   \n",
       "14             1299             1086.0        17.0             120.0   \n",
       "\n",
       "    Credit_History Property_Area Loan_Status  \n",
       "0              1.0         Urban           Y  \n",
       "1              1.0         Rural           N  \n",
       "2              1.0         Urban           Y  \n",
       "3              1.0         Urban           Y  \n",
       "4              1.0         Urban           Y  \n",
       "5              1.0         Urban           Y  \n",
       "6              1.0         Urban           Y  \n",
       "7              0.0     Semiurban           N  \n",
       "8              1.0         Urban           Y  \n",
       "9              1.0     Semiurban           N  \n",
       "10             1.0         Urban           Y  \n",
       "11             1.0         Urban           Y  \n",
       "12             1.0         Urban           Y  \n",
       "13             1.0         Rural           N  \n",
       "14             1.0         Urban           Y  "
      ]
     },
     "execution_count": 463,
     "metadata": {},
     "output_type": "execute_result"
    }
   ],
   "source": [
    "df = pd.read_excel('Copy of loan.xlsx')\n",
    "df.head(15)"
   ]
  },
  {
   "cell_type": "code",
   "execution_count": 464,
   "metadata": {},
   "outputs": [
    {
     "name": "stdout",
     "output_type": "stream",
     "text": [
      "<class 'pandas.core.frame.DataFrame'>\n",
      "RangeIndex: 614 entries, 0 to 613\n",
      "Data columns (total 13 columns):\n",
      " #   Column             Non-Null Count  Dtype  \n",
      "---  ------             --------------  -----  \n",
      " 0   Loan_ID            614 non-null    object \n",
      " 1   Gender             601 non-null    object \n",
      " 2   Married            611 non-null    object \n",
      " 3   Dependents         599 non-null    object \n",
      " 4   Education          614 non-null    object \n",
      " 5   Self_Employed      582 non-null    object \n",
      " 6   ApplicantIncome    614 non-null    int64  \n",
      " 7   CoapplicantIncome  614 non-null    float64\n",
      " 8   LoanAmount         592 non-null    float64\n",
      " 9   Loan_Amount_Term   600 non-null    float64\n",
      " 10  Credit_History     564 non-null    float64\n",
      " 11  Property_Area      614 non-null    object \n",
      " 12  Loan_Status        614 non-null    object \n",
      "dtypes: float64(4), int64(1), object(8)\n",
      "memory usage: 62.5+ KB\n"
     ]
    }
   ],
   "source": [
    "df.info()"
   ]
  },
  {
   "cell_type": "code",
   "execution_count": 465,
   "metadata": {
    "id": "gD6QTpuXx5kN"
   },
   "outputs": [],
   "source": [
    "df = df.drop('Loan_ID', axis=1)"
   ]
  },
  {
   "cell_type": "code",
   "execution_count": 466,
   "metadata": {
    "colab": {
     "base_uri": "https://localhost:8080/"
    },
    "id": "08Ao8YFSyMLy",
    "outputId": "fd8941a6-31ad-44ab-e366-a851510057d6"
   },
   "outputs": [
    {
     "data": {
      "text/plain": [
       "Gender                object\n",
       "Married               object\n",
       "Dependents            object\n",
       "Education             object\n",
       "Self_Employed         object\n",
       "ApplicantIncome        int64\n",
       "CoapplicantIncome    float64\n",
       "LoanAmount           float64\n",
       "Loan_Amount_Term     float64\n",
       "Credit_History       float64\n",
       "Property_Area         object\n",
       "Loan_Status           object\n",
       "dtype: object"
      ]
     },
     "execution_count": 466,
     "metadata": {},
     "output_type": "execute_result"
    }
   ],
   "source": [
    "#Checking the data types of columns\n",
    "df.dtypes"
   ]
  },
  {
   "cell_type": "code",
   "execution_count": 467,
   "metadata": {
    "colab": {
     "base_uri": "https://localhost:8080/"
    },
    "id": "QS4Y_KYUyTYL",
    "outputId": "b48903b2-99d5-46cf-9df4-3d307f80bec6"
   },
   "outputs": [
    {
     "data": {
      "text/plain": [
       "Gender               13\n",
       "Married               3\n",
       "Dependents           15\n",
       "Education             0\n",
       "Self_Employed        32\n",
       "ApplicantIncome       0\n",
       "CoapplicantIncome     0\n",
       "LoanAmount           22\n",
       "Loan_Amount_Term     14\n",
       "Credit_History       50\n",
       "Property_Area         0\n",
       "Loan_Status           0\n",
       "dtype: int64"
      ]
     },
     "execution_count": 467,
     "metadata": {},
     "output_type": "execute_result"
    }
   ],
   "source": [
    "#let’s have a look if the data has missing values or not:\n",
    "df.isnull().sum()"
   ]
  },
  {
   "cell_type": "code",
   "execution_count": 468,
   "metadata": {
    "colab": {
     "base_uri": "https://localhost:8080/",
     "height": 300
    },
    "id": "spHgdXRFyb1g",
    "outputId": "67efab82-90b6-427a-bce1-55adabc08830"
   },
   "outputs": [
    {
     "data": {
      "text/html": [
       "<div>\n",
       "<style scoped>\n",
       "    .dataframe tbody tr th:only-of-type {\n",
       "        vertical-align: middle;\n",
       "    }\n",
       "\n",
       "    .dataframe tbody tr th {\n",
       "        vertical-align: top;\n",
       "    }\n",
       "\n",
       "    .dataframe thead th {\n",
       "        text-align: right;\n",
       "    }\n",
       "</style>\n",
       "<table border=\"1\" class=\"dataframe\">\n",
       "  <thead>\n",
       "    <tr style=\"text-align: right;\">\n",
       "      <th></th>\n",
       "      <th>ApplicantIncome</th>\n",
       "      <th>CoapplicantIncome</th>\n",
       "      <th>LoanAmount</th>\n",
       "      <th>Loan_Amount_Term</th>\n",
       "      <th>Credit_History</th>\n",
       "    </tr>\n",
       "  </thead>\n",
       "  <tbody>\n",
       "    <tr>\n",
       "      <th>count</th>\n",
       "      <td>614.000000</td>\n",
       "      <td>614.000000</td>\n",
       "      <td>592.000000</td>\n",
       "      <td>600.00000</td>\n",
       "      <td>564.000000</td>\n",
       "    </tr>\n",
       "    <tr>\n",
       "      <th>mean</th>\n",
       "      <td>5403.459283</td>\n",
       "      <td>1621.245798</td>\n",
       "      <td>146.412162</td>\n",
       "      <td>342.00000</td>\n",
       "      <td>0.842199</td>\n",
       "    </tr>\n",
       "    <tr>\n",
       "      <th>std</th>\n",
       "      <td>6109.041673</td>\n",
       "      <td>2926.248369</td>\n",
       "      <td>85.587325</td>\n",
       "      <td>65.12041</td>\n",
       "      <td>0.364878</td>\n",
       "    </tr>\n",
       "    <tr>\n",
       "      <th>min</th>\n",
       "      <td>150.000000</td>\n",
       "      <td>0.000000</td>\n",
       "      <td>9.000000</td>\n",
       "      <td>12.00000</td>\n",
       "      <td>0.000000</td>\n",
       "    </tr>\n",
       "    <tr>\n",
       "      <th>25%</th>\n",
       "      <td>2877.500000</td>\n",
       "      <td>0.000000</td>\n",
       "      <td>100.000000</td>\n",
       "      <td>360.00000</td>\n",
       "      <td>1.000000</td>\n",
       "    </tr>\n",
       "    <tr>\n",
       "      <th>50%</th>\n",
       "      <td>3812.500000</td>\n",
       "      <td>1188.500000</td>\n",
       "      <td>128.000000</td>\n",
       "      <td>360.00000</td>\n",
       "      <td>1.000000</td>\n",
       "    </tr>\n",
       "    <tr>\n",
       "      <th>75%</th>\n",
       "      <td>5795.000000</td>\n",
       "      <td>2297.250000</td>\n",
       "      <td>168.000000</td>\n",
       "      <td>360.00000</td>\n",
       "      <td>1.000000</td>\n",
       "    </tr>\n",
       "    <tr>\n",
       "      <th>max</th>\n",
       "      <td>81000.000000</td>\n",
       "      <td>41667.000000</td>\n",
       "      <td>700.000000</td>\n",
       "      <td>480.00000</td>\n",
       "      <td>1.000000</td>\n",
       "    </tr>\n",
       "  </tbody>\n",
       "</table>\n",
       "</div>"
      ],
      "text/plain": [
       "       ApplicantIncome  CoapplicantIncome  LoanAmount  Loan_Amount_Term  \\\n",
       "count       614.000000         614.000000  592.000000         600.00000   \n",
       "mean       5403.459283        1621.245798  146.412162         342.00000   \n",
       "std        6109.041673        2926.248369   85.587325          65.12041   \n",
       "min         150.000000           0.000000    9.000000          12.00000   \n",
       "25%        2877.500000           0.000000  100.000000         360.00000   \n",
       "50%        3812.500000        1188.500000  128.000000         360.00000   \n",
       "75%        5795.000000        2297.250000  168.000000         360.00000   \n",
       "max       81000.000000       41667.000000  700.000000         480.00000   \n",
       "\n",
       "       Credit_History  \n",
       "count      564.000000  \n",
       "mean         0.842199  \n",
       "std          0.364878  \n",
       "min          0.000000  \n",
       "25%          1.000000  \n",
       "50%          1.000000  \n",
       "75%          1.000000  \n",
       "max          1.000000  "
      ]
     },
     "execution_count": 468,
     "metadata": {},
     "output_type": "execute_result"
    }
   ],
   "source": [
    "#let’s have a look at the descriptive statistics of the dataset before filling in the missing values:\n",
    "df.describe()"
   ]
  },
  {
   "cell_type": "code",
   "execution_count": 469,
   "metadata": {
    "id": "67HBFjrly1GZ"
   },
   "outputs": [],
   "source": [
    "df['Gender'].fillna(df['Gender'].mode()[0], inplace=True)\n",
    "df['Married'].fillna(df['Married'].mode()[0], inplace=True)\n",
    "df['Dependents'].fillna(df['Dependents'].mode()[0], inplace=True)\n",
    "df['Self_Employed'].fillna(df['Self_Employed'].mode()[0], inplace=True)"
   ]
  },
  {
   "cell_type": "code",
   "execution_count": 470,
   "metadata": {
    "id": "vYaY6IA30VFJ"
   },
   "outputs": [],
   "source": [
    "df['LoanAmount'].fillna(df['LoanAmount'].median(), inplace=True)\n",
    "df['Loan_Amount_Term'].fillna(df['Loan_Amount_Term'].mode()[0], inplace=True)\n",
    "df['Credit_History'].fillna(df['Credit_History'].mode()[0], inplace=True)"
   ]
  },
  {
   "cell_type": "markdown",
   "metadata": {
    "id": "uytenPCX2Ucc"
   },
   "source": [
    "# **Data Exploration and Visualization**"
   ]
  },
  {
   "cell_type": "markdown",
   "metadata": {
    "id": "1sfJ5A7b25Te"
   },
   "source": [
    "## *Distribution of the loan status*\n",
    "\n",
    "\n",
    "\n"
   ]
  },
  {
   "cell_type": "code",
   "execution_count": 471,
   "metadata": {
    "colab": {
     "base_uri": "https://localhost:8080/",
     "height": 542
    },
    "id": "-dvjA4_i5Keb",
    "outputId": "de387b54-c382-40d5-89e0-f9161472d29d"
   },
   "outputs": [
    {
     "data": {
      "application/vnd.plotly.v1+json": {
       "config": {
        "plotlyServerURL": "https://plot.ly"
       },
       "data": [
        {
         "alignmentgroup": "True",
         "bingroup": "x",
         "hovertemplate": "Loan_Status=%{x}<br>count=%{y}<extra></extra>",
         "legendgroup": "",
         "marker": {
          "color": "#636efa",
          "pattern": {
           "shape": ""
          }
         },
         "name": "",
         "offsetgroup": "",
         "orientation": "v",
         "showlegend": false,
         "type": "histogram",
         "x": [
          "Y",
          "N",
          "Y",
          "Y",
          "Y",
          "Y",
          "Y",
          "N",
          "Y",
          "N",
          "Y",
          "Y",
          "Y",
          "N",
          "Y",
          "Y",
          "Y",
          "N",
          "N",
          "Y",
          "N",
          "Y",
          "N",
          "N",
          "N",
          "Y",
          "Y",
          "Y",
          "N",
          "Y",
          "N",
          "N",
          "N",
          "Y",
          "N",
          "Y",
          "N",
          "Y",
          "Y",
          "Y",
          "N",
          "Y",
          "Y",
          "Y",
          "Y",
          "Y",
          "Y",
          "Y",
          "N",
          "Y",
          "Y",
          "Y",
          "N",
          "N",
          "N",
          "Y",
          "Y",
          "N",
          "Y",
          "Y",
          "Y",
          "Y",
          "N",
          "N",
          "N",
          "N",
          "N",
          "Y",
          "Y",
          "N",
          "Y",
          "Y",
          "Y",
          "N",
          "Y",
          "N",
          "N",
          "N",
          "N",
          "Y",
          "Y",
          "Y",
          "N",
          "N",
          "Y",
          "Y",
          "Y",
          "Y",
          "Y",
          "Y",
          "Y",
          "Y",
          "Y",
          "Y",
          "Y",
          "N",
          "Y",
          "Y",
          "Y",
          "Y",
          "Y",
          "Y",
          "Y",
          "Y",
          "Y",
          "Y",
          "Y",
          "N",
          "N",
          "Y",
          "Y",
          "Y",
          "N",
          "Y",
          "Y",
          "Y",
          "Y",
          "Y",
          "N",
          "Y",
          "Y",
          "Y",
          "Y",
          "Y",
          "Y",
          "Y",
          "Y",
          "Y",
          "N",
          "N",
          "Y",
          "Y",
          "Y",
          "Y",
          "Y",
          "N",
          "N",
          "Y",
          "N",
          "N",
          "N",
          "Y",
          "Y",
          "Y",
          "Y",
          "Y",
          "Y",
          "Y",
          "N",
          "Y",
          "N",
          "Y",
          "N",
          "N",
          "Y",
          "Y",
          "Y",
          "Y",
          "Y",
          "Y",
          "Y",
          "N",
          "N",
          "Y",
          "Y",
          "Y",
          "N",
          "Y",
          "N",
          "Y",
          "Y",
          "Y",
          "N",
          "Y",
          "N",
          "Y",
          "Y",
          "N",
          "Y",
          "N",
          "N",
          "N",
          "Y",
          "N",
          "Y",
          "Y",
          "N",
          "Y",
          "Y",
          "Y",
          "Y",
          "N",
          "N",
          "Y",
          "Y",
          "N",
          "Y",
          "Y",
          "Y",
          "N",
          "Y",
          "Y",
          "N",
          "Y",
          "Y",
          "Y",
          "Y",
          "Y",
          "Y",
          "N",
          "N",
          "N",
          "Y",
          "Y",
          "Y",
          "Y",
          "N",
          "Y",
          "N",
          "Y",
          "N",
          "Y",
          "Y",
          "Y",
          "Y",
          "N",
          "N",
          "Y",
          "Y",
          "Y",
          "Y",
          "Y",
          "Y",
          "Y",
          "Y",
          "Y",
          "N",
          "Y",
          "Y",
          "Y",
          "Y",
          "N",
          "Y",
          "Y",
          "Y",
          "N",
          "Y",
          "Y",
          "Y",
          "Y",
          "N",
          "N",
          "Y",
          "Y",
          "N",
          "Y",
          "N",
          "N",
          "N",
          "N",
          "Y",
          "Y",
          "N",
          "Y",
          "Y",
          "Y",
          "Y",
          "Y",
          "N",
          "Y",
          "Y",
          "Y",
          "Y",
          "Y",
          "Y",
          "Y",
          "Y",
          "Y",
          "Y",
          "Y",
          "N",
          "Y",
          "Y",
          "Y",
          "N",
          "Y",
          "N",
          "Y",
          "Y",
          "Y",
          "Y",
          "N",
          "Y",
          "N",
          "Y",
          "Y",
          "Y",
          "Y",
          "N",
          "N",
          "N",
          "Y",
          "Y",
          "Y",
          "Y",
          "N",
          "Y",
          "N",
          "N",
          "Y",
          "Y",
          "Y",
          "Y",
          "Y",
          "N",
          "Y",
          "Y",
          "Y",
          "Y",
          "N",
          "Y",
          "Y",
          "Y",
          "Y",
          "Y",
          "N",
          "Y",
          "Y",
          "N",
          "Y",
          "Y",
          "Y",
          "Y",
          "Y",
          "Y",
          "Y",
          "Y",
          "Y",
          "N",
          "Y",
          "N",
          "N",
          "Y",
          "Y",
          "Y",
          "Y",
          "N",
          "Y",
          "Y",
          "Y",
          "Y",
          "N",
          "Y",
          "N",
          "Y",
          "Y",
          "Y",
          "N",
          "N",
          "Y",
          "N",
          "Y",
          "Y",
          "Y",
          "Y",
          "N",
          "N",
          "N",
          "Y",
          "N",
          "Y",
          "Y",
          "Y",
          "N",
          "Y",
          "Y",
          "Y",
          "Y",
          "N",
          "Y",
          "Y",
          "Y",
          "Y",
          "Y",
          "N",
          "Y",
          "Y",
          "N",
          "Y",
          "Y",
          "Y",
          "Y",
          "Y",
          "Y",
          "Y",
          "Y",
          "N",
          "Y",
          "Y",
          "N",
          "N",
          "N",
          "Y",
          "Y",
          "N",
          "Y",
          "Y",
          "Y",
          "N",
          "N",
          "N",
          "Y",
          "N",
          "Y",
          "N",
          "Y",
          "N",
          "N",
          "Y",
          "Y",
          "Y",
          "N",
          "Y",
          "N",
          "Y",
          "Y",
          "N",
          "Y",
          "Y",
          "Y",
          "Y",
          "N",
          "Y",
          "Y",
          "Y",
          "Y",
          "Y",
          "Y",
          "N",
          "Y",
          "Y",
          "Y",
          "Y",
          "Y",
          "Y",
          "Y",
          "Y",
          "N",
          "N",
          "N",
          "N",
          "Y",
          "N",
          "Y",
          "Y",
          "Y",
          "Y",
          "N",
          "Y",
          "N",
          "Y",
          "Y",
          "Y",
          "Y",
          "N",
          "Y",
          "N",
          "Y",
          "Y",
          "N",
          "Y",
          "N",
          "Y",
          "Y",
          "Y",
          "Y",
          "Y",
          "N",
          "Y",
          "N",
          "Y",
          "Y",
          "Y",
          "Y",
          "Y",
          "Y",
          "N",
          "N",
          "Y",
          "N",
          "Y",
          "Y",
          "Y",
          "Y",
          "N",
          "Y",
          "Y",
          "Y",
          "Y",
          "N",
          "Y",
          "Y",
          "Y",
          "N",
          "Y",
          "Y",
          "Y",
          "N",
          "Y",
          "Y",
          "N",
          "Y",
          "Y",
          "N",
          "N",
          "Y",
          "Y",
          "N",
          "N",
          "N",
          "Y",
          "Y",
          "Y",
          "Y",
          "N",
          "Y",
          "Y",
          "Y",
          "Y",
          "Y",
          "Y",
          "Y",
          "N",
          "N",
          "Y",
          "Y",
          "Y",
          "Y",
          "N",
          "Y",
          "Y",
          "N",
          "Y",
          "Y",
          "Y",
          "Y",
          "N",
          "Y",
          "N",
          "Y",
          "N",
          "Y",
          "Y",
          "N",
          "N",
          "Y",
          "Y",
          "Y",
          "Y",
          "Y",
          "Y",
          "Y",
          "Y",
          "Y",
          "N",
          "Y",
          "Y",
          "N",
          "N",
          "N",
          "Y",
          "N",
          "Y",
          "N",
          "N",
          "Y",
          "N",
          "Y",
          "Y",
          "Y",
          "Y",
          "N",
          "Y",
          "N",
          "N",
          "N",
          "Y",
          "Y",
          "Y",
          "N",
          "Y",
          "N",
          "Y",
          "Y",
          "Y",
          "Y",
          "N",
          "N",
          "Y",
          "Y",
          "N",
          "Y",
          "Y",
          "Y",
          "Y",
          "N",
          "Y",
          "Y",
          "Y",
          "Y",
          "Y",
          "Y",
          "Y",
          "N"
         ],
         "xaxis": "x",
         "yaxis": "y"
        }
       ],
       "layout": {
        "barmode": "relative",
        "legend": {
         "tracegroupgap": 0
        },
        "template": {
         "data": {
          "bar": [
           {
            "error_x": {
             "color": "#2a3f5f"
            },
            "error_y": {
             "color": "#2a3f5f"
            },
            "marker": {
             "line": {
              "color": "#E5ECF6",
              "width": 0.5
             },
             "pattern": {
              "fillmode": "overlay",
              "size": 10,
              "solidity": 0.2
             }
            },
            "type": "bar"
           }
          ],
          "barpolar": [
           {
            "marker": {
             "line": {
              "color": "#E5ECF6",
              "width": 0.5
             },
             "pattern": {
              "fillmode": "overlay",
              "size": 10,
              "solidity": 0.2
             }
            },
            "type": "barpolar"
           }
          ],
          "carpet": [
           {
            "aaxis": {
             "endlinecolor": "#2a3f5f",
             "gridcolor": "white",
             "linecolor": "white",
             "minorgridcolor": "white",
             "startlinecolor": "#2a3f5f"
            },
            "baxis": {
             "endlinecolor": "#2a3f5f",
             "gridcolor": "white",
             "linecolor": "white",
             "minorgridcolor": "white",
             "startlinecolor": "#2a3f5f"
            },
            "type": "carpet"
           }
          ],
          "choropleth": [
           {
            "colorbar": {
             "outlinewidth": 0,
             "ticks": ""
            },
            "type": "choropleth"
           }
          ],
          "contour": [
           {
            "colorbar": {
             "outlinewidth": 0,
             "ticks": ""
            },
            "colorscale": [
             [
              0,
              "#0d0887"
             ],
             [
              0.1111111111111111,
              "#46039f"
             ],
             [
              0.2222222222222222,
              "#7201a8"
             ],
             [
              0.3333333333333333,
              "#9c179e"
             ],
             [
              0.4444444444444444,
              "#bd3786"
             ],
             [
              0.5555555555555556,
              "#d8576b"
             ],
             [
              0.6666666666666666,
              "#ed7953"
             ],
             [
              0.7777777777777778,
              "#fb9f3a"
             ],
             [
              0.8888888888888888,
              "#fdca26"
             ],
             [
              1,
              "#f0f921"
             ]
            ],
            "type": "contour"
           }
          ],
          "contourcarpet": [
           {
            "colorbar": {
             "outlinewidth": 0,
             "ticks": ""
            },
            "type": "contourcarpet"
           }
          ],
          "heatmap": [
           {
            "colorbar": {
             "outlinewidth": 0,
             "ticks": ""
            },
            "colorscale": [
             [
              0,
              "#0d0887"
             ],
             [
              0.1111111111111111,
              "#46039f"
             ],
             [
              0.2222222222222222,
              "#7201a8"
             ],
             [
              0.3333333333333333,
              "#9c179e"
             ],
             [
              0.4444444444444444,
              "#bd3786"
             ],
             [
              0.5555555555555556,
              "#d8576b"
             ],
             [
              0.6666666666666666,
              "#ed7953"
             ],
             [
              0.7777777777777778,
              "#fb9f3a"
             ],
             [
              0.8888888888888888,
              "#fdca26"
             ],
             [
              1,
              "#f0f921"
             ]
            ],
            "type": "heatmap"
           }
          ],
          "heatmapgl": [
           {
            "colorbar": {
             "outlinewidth": 0,
             "ticks": ""
            },
            "colorscale": [
             [
              0,
              "#0d0887"
             ],
             [
              0.1111111111111111,
              "#46039f"
             ],
             [
              0.2222222222222222,
              "#7201a8"
             ],
             [
              0.3333333333333333,
              "#9c179e"
             ],
             [
              0.4444444444444444,
              "#bd3786"
             ],
             [
              0.5555555555555556,
              "#d8576b"
             ],
             [
              0.6666666666666666,
              "#ed7953"
             ],
             [
              0.7777777777777778,
              "#fb9f3a"
             ],
             [
              0.8888888888888888,
              "#fdca26"
             ],
             [
              1,
              "#f0f921"
             ]
            ],
            "type": "heatmapgl"
           }
          ],
          "histogram": [
           {
            "marker": {
             "pattern": {
              "fillmode": "overlay",
              "size": 10,
              "solidity": 0.2
             }
            },
            "type": "histogram"
           }
          ],
          "histogram2d": [
           {
            "colorbar": {
             "outlinewidth": 0,
             "ticks": ""
            },
            "colorscale": [
             [
              0,
              "#0d0887"
             ],
             [
              0.1111111111111111,
              "#46039f"
             ],
             [
              0.2222222222222222,
              "#7201a8"
             ],
             [
              0.3333333333333333,
              "#9c179e"
             ],
             [
              0.4444444444444444,
              "#bd3786"
             ],
             [
              0.5555555555555556,
              "#d8576b"
             ],
             [
              0.6666666666666666,
              "#ed7953"
             ],
             [
              0.7777777777777778,
              "#fb9f3a"
             ],
             [
              0.8888888888888888,
              "#fdca26"
             ],
             [
              1,
              "#f0f921"
             ]
            ],
            "type": "histogram2d"
           }
          ],
          "histogram2dcontour": [
           {
            "colorbar": {
             "outlinewidth": 0,
             "ticks": ""
            },
            "colorscale": [
             [
              0,
              "#0d0887"
             ],
             [
              0.1111111111111111,
              "#46039f"
             ],
             [
              0.2222222222222222,
              "#7201a8"
             ],
             [
              0.3333333333333333,
              "#9c179e"
             ],
             [
              0.4444444444444444,
              "#bd3786"
             ],
             [
              0.5555555555555556,
              "#d8576b"
             ],
             [
              0.6666666666666666,
              "#ed7953"
             ],
             [
              0.7777777777777778,
              "#fb9f3a"
             ],
             [
              0.8888888888888888,
              "#fdca26"
             ],
             [
              1,
              "#f0f921"
             ]
            ],
            "type": "histogram2dcontour"
           }
          ],
          "mesh3d": [
           {
            "colorbar": {
             "outlinewidth": 0,
             "ticks": ""
            },
            "type": "mesh3d"
           }
          ],
          "parcoords": [
           {
            "line": {
             "colorbar": {
              "outlinewidth": 0,
              "ticks": ""
             }
            },
            "type": "parcoords"
           }
          ],
          "pie": [
           {
            "automargin": true,
            "type": "pie"
           }
          ],
          "scatter": [
           {
            "fillpattern": {
             "fillmode": "overlay",
             "size": 10,
             "solidity": 0.2
            },
            "type": "scatter"
           }
          ],
          "scatter3d": [
           {
            "line": {
             "colorbar": {
              "outlinewidth": 0,
              "ticks": ""
             }
            },
            "marker": {
             "colorbar": {
              "outlinewidth": 0,
              "ticks": ""
             }
            },
            "type": "scatter3d"
           }
          ],
          "scattercarpet": [
           {
            "marker": {
             "colorbar": {
              "outlinewidth": 0,
              "ticks": ""
             }
            },
            "type": "scattercarpet"
           }
          ],
          "scattergeo": [
           {
            "marker": {
             "colorbar": {
              "outlinewidth": 0,
              "ticks": ""
             }
            },
            "type": "scattergeo"
           }
          ],
          "scattergl": [
           {
            "marker": {
             "colorbar": {
              "outlinewidth": 0,
              "ticks": ""
             }
            },
            "type": "scattergl"
           }
          ],
          "scattermapbox": [
           {
            "marker": {
             "colorbar": {
              "outlinewidth": 0,
              "ticks": ""
             }
            },
            "type": "scattermapbox"
           }
          ],
          "scatterpolar": [
           {
            "marker": {
             "colorbar": {
              "outlinewidth": 0,
              "ticks": ""
             }
            },
            "type": "scatterpolar"
           }
          ],
          "scatterpolargl": [
           {
            "marker": {
             "colorbar": {
              "outlinewidth": 0,
              "ticks": ""
             }
            },
            "type": "scatterpolargl"
           }
          ],
          "scatterternary": [
           {
            "marker": {
             "colorbar": {
              "outlinewidth": 0,
              "ticks": ""
             }
            },
            "type": "scatterternary"
           }
          ],
          "surface": [
           {
            "colorbar": {
             "outlinewidth": 0,
             "ticks": ""
            },
            "colorscale": [
             [
              0,
              "#0d0887"
             ],
             [
              0.1111111111111111,
              "#46039f"
             ],
             [
              0.2222222222222222,
              "#7201a8"
             ],
             [
              0.3333333333333333,
              "#9c179e"
             ],
             [
              0.4444444444444444,
              "#bd3786"
             ],
             [
              0.5555555555555556,
              "#d8576b"
             ],
             [
              0.6666666666666666,
              "#ed7953"
             ],
             [
              0.7777777777777778,
              "#fb9f3a"
             ],
             [
              0.8888888888888888,
              "#fdca26"
             ],
             [
              1,
              "#f0f921"
             ]
            ],
            "type": "surface"
           }
          ],
          "table": [
           {
            "cells": {
             "fill": {
              "color": "#EBF0F8"
             },
             "line": {
              "color": "white"
             }
            },
            "header": {
             "fill": {
              "color": "#C8D4E3"
             },
             "line": {
              "color": "white"
             }
            },
            "type": "table"
           }
          ]
         },
         "layout": {
          "annotationdefaults": {
           "arrowcolor": "#2a3f5f",
           "arrowhead": 0,
           "arrowwidth": 1
          },
          "autotypenumbers": "strict",
          "coloraxis": {
           "colorbar": {
            "outlinewidth": 0,
            "ticks": ""
           }
          },
          "colorscale": {
           "diverging": [
            [
             0,
             "#8e0152"
            ],
            [
             0.1,
             "#c51b7d"
            ],
            [
             0.2,
             "#de77ae"
            ],
            [
             0.3,
             "#f1b6da"
            ],
            [
             0.4,
             "#fde0ef"
            ],
            [
             0.5,
             "#f7f7f7"
            ],
            [
             0.6,
             "#e6f5d0"
            ],
            [
             0.7,
             "#b8e186"
            ],
            [
             0.8,
             "#7fbc41"
            ],
            [
             0.9,
             "#4d9221"
            ],
            [
             1,
             "#276419"
            ]
           ],
           "sequential": [
            [
             0,
             "#0d0887"
            ],
            [
             0.1111111111111111,
             "#46039f"
            ],
            [
             0.2222222222222222,
             "#7201a8"
            ],
            [
             0.3333333333333333,
             "#9c179e"
            ],
            [
             0.4444444444444444,
             "#bd3786"
            ],
            [
             0.5555555555555556,
             "#d8576b"
            ],
            [
             0.6666666666666666,
             "#ed7953"
            ],
            [
             0.7777777777777778,
             "#fb9f3a"
            ],
            [
             0.8888888888888888,
             "#fdca26"
            ],
            [
             1,
             "#f0f921"
            ]
           ],
           "sequentialminus": [
            [
             0,
             "#0d0887"
            ],
            [
             0.1111111111111111,
             "#46039f"
            ],
            [
             0.2222222222222222,
             "#7201a8"
            ],
            [
             0.3333333333333333,
             "#9c179e"
            ],
            [
             0.4444444444444444,
             "#bd3786"
            ],
            [
             0.5555555555555556,
             "#d8576b"
            ],
            [
             0.6666666666666666,
             "#ed7953"
            ],
            [
             0.7777777777777778,
             "#fb9f3a"
            ],
            [
             0.8888888888888888,
             "#fdca26"
            ],
            [
             1,
             "#f0f921"
            ]
           ]
          },
          "colorway": [
           "#636efa",
           "#EF553B",
           "#00cc96",
           "#ab63fa",
           "#FFA15A",
           "#19d3f3",
           "#FF6692",
           "#B6E880",
           "#FF97FF",
           "#FECB52"
          ],
          "font": {
           "color": "#2a3f5f"
          },
          "geo": {
           "bgcolor": "white",
           "lakecolor": "white",
           "landcolor": "#E5ECF6",
           "showlakes": true,
           "showland": true,
           "subunitcolor": "white"
          },
          "hoverlabel": {
           "align": "left"
          },
          "hovermode": "closest",
          "mapbox": {
           "style": "light"
          },
          "paper_bgcolor": "white",
          "plot_bgcolor": "#E5ECF6",
          "polar": {
           "angularaxis": {
            "gridcolor": "white",
            "linecolor": "white",
            "ticks": ""
           },
           "bgcolor": "#E5ECF6",
           "radialaxis": {
            "gridcolor": "white",
            "linecolor": "white",
            "ticks": ""
           }
          },
          "scene": {
           "xaxis": {
            "backgroundcolor": "#E5ECF6",
            "gridcolor": "white",
            "gridwidth": 2,
            "linecolor": "white",
            "showbackground": true,
            "ticks": "",
            "zerolinecolor": "white"
           },
           "yaxis": {
            "backgroundcolor": "#E5ECF6",
            "gridcolor": "white",
            "gridwidth": 2,
            "linecolor": "white",
            "showbackground": true,
            "ticks": "",
            "zerolinecolor": "white"
           },
           "zaxis": {
            "backgroundcolor": "#E5ECF6",
            "gridcolor": "white",
            "gridwidth": 2,
            "linecolor": "white",
            "showbackground": true,
            "ticks": "",
            "zerolinecolor": "white"
           }
          },
          "shapedefaults": {
           "line": {
            "color": "#2a3f5f"
           }
          },
          "ternary": {
           "aaxis": {
            "gridcolor": "white",
            "linecolor": "white",
            "ticks": ""
           },
           "baxis": {
            "gridcolor": "white",
            "linecolor": "white",
            "ticks": ""
           },
           "bgcolor": "#E5ECF6",
           "caxis": {
            "gridcolor": "white",
            "linecolor": "white",
            "ticks": ""
           }
          },
          "title": {
           "x": 0.05
          },
          "xaxis": {
           "automargin": true,
           "gridcolor": "white",
           "linecolor": "white",
           "ticks": "",
           "title": {
            "standoff": 15
           },
           "zerolinecolor": "white",
           "zerolinewidth": 2
          },
          "yaxis": {
           "automargin": true,
           "gridcolor": "white",
           "linecolor": "white",
           "ticks": "",
           "title": {
            "standoff": 15
           },
           "zerolinecolor": "white",
           "zerolinewidth": 2
          }
         }
        },
        "title": {
         "text": "Loan Status Distribution"
        },
        "xaxis": {
         "anchor": "y",
         "domain": [
          0,
          1
         ],
         "title": {
          "text": "Loan_Status"
         }
        },
        "yaxis": {
         "anchor": "x",
         "domain": [
          0,
          1
         ],
         "title": {
          "text": "count"
         }
        }
       }
      }
     },
     "metadata": {},
     "output_type": "display_data"
    }
   ],
   "source": [
    "fig_loan_status=px.histogram(df,x='Loan_Status',title='Loan Status Distribution')\n",
    "fig_loan_status.show()"
   ]
  },
  {
   "cell_type": "markdown",
   "metadata": {
    "id": "q8uQX1RY6Ldu"
   },
   "source": [
    "## *Distribution of  Gender*"
   ]
  },
  {
   "cell_type": "code",
   "execution_count": 472,
   "metadata": {
    "colab": {
     "base_uri": "https://localhost:8080/",
     "height": 542
    },
    "id": "MCSdq-eT6V9m",
    "outputId": "fa460c24-999d-49c3-e7e3-f1d0b168d6a7"
   },
   "outputs": [
    {
     "data": {
      "application/vnd.plotly.v1+json": {
       "config": {
        "plotlyServerURL": "https://plot.ly"
       },
       "data": [
        {
         "alignmentgroup": "True",
         "bingroup": "x",
         "hovertemplate": "Gender=%{x}<br>count=%{y}<extra></extra>",
         "legendgroup": "",
         "marker": {
          "color": "darkseagreen",
          "pattern": {
           "shape": ""
          }
         },
         "name": "",
         "offsetgroup": "",
         "orientation": "v",
         "showlegend": false,
         "type": "histogram",
         "x": [
          "Male",
          "Male",
          "Male",
          "Male",
          "Male",
          "Male",
          "Male",
          "Male",
          "Male",
          "Male",
          "Male",
          "Male",
          "Male",
          "Male",
          "Male",
          "Male",
          "Male",
          "Female",
          "Male",
          "Male",
          "Male",
          "Male",
          "Male",
          "Male",
          "Male",
          "Male",
          "Male",
          "Male",
          "Male",
          "Female",
          "Male",
          "Male",
          "Male",
          "Male",
          "Male",
          "Male",
          "Male",
          "Female",
          "Male",
          "Male",
          "Male",
          "Male",
          "Male",
          "Male",
          "Male",
          "Female",
          "Male",
          "Male",
          "Female",
          "Female",
          "Female",
          "Female",
          "Female",
          "Male",
          "Female",
          "Male",
          "Male",
          "Male",
          "Male",
          "Male",
          "Male",
          "Male",
          "Male",
          "Male",
          "Female",
          "Male",
          "Male",
          "Male",
          "Male",
          "Female",
          "Male",
          "Male",
          "Male",
          "Male",
          "Male",
          "Male",
          "Male",
          "Male",
          "Male",
          "Male",
          "Female",
          "Male",
          "Female",
          "Male",
          "Male",
          "Male",
          "Male",
          "Male",
          "Male",
          "Male",
          "Male",
          "Male",
          "Male",
          "Male",
          "Male",
          "Male",
          "Female",
          "Male",
          "Male",
          "Male",
          "Male",
          "Male",
          "Male",
          "Male",
          "Male",
          "Male",
          "Male",
          "Male",
          "Male",
          "Male",
          "Male",
          "Female",
          "Male",
          "Female",
          "Male",
          "Male",
          "Female",
          "Male",
          "Male",
          "Female",
          "Male",
          "Female",
          "Female",
          "Male",
          "Male",
          "Female",
          "Male",
          "Male",
          "Male",
          "Male",
          "Male",
          "Male",
          "Male",
          "Male",
          "Male",
          "Male",
          "Female",
          "Male",
          "Male",
          "Male",
          "Male",
          "Male",
          "Male",
          "Male",
          "Male",
          "Female",
          "Female",
          "Male",
          "Female",
          "Male",
          "Male",
          "Male",
          "Male",
          "Male",
          "Male",
          "Male",
          "Male",
          "Male",
          "Male",
          "Male",
          "Male",
          "Male",
          "Male",
          "Male",
          "Male",
          "Male",
          "Female",
          "Male",
          "Male",
          "Male",
          "Male",
          "Male",
          "Male",
          "Male",
          "Male",
          "Male",
          "Male",
          "Male",
          "Male",
          "Male",
          "Male",
          "Male",
          "Male",
          "Male",
          "Female",
          "Male",
          "Male",
          "Male",
          "Male",
          "Male",
          "Male",
          "Male",
          "Male",
          "Male",
          "Male",
          "Male",
          "Male",
          "Female",
          "Female",
          "Male",
          "Male",
          "Male",
          "Male",
          "Male",
          "Male",
          "Female",
          "Female",
          "Male",
          "Male",
          "Male",
          "Female",
          "Male",
          "Male",
          "Male",
          "Male",
          "Male",
          "Male",
          "Male",
          "Male",
          "Female",
          "Male",
          "Male",
          "Male",
          "Male",
          "Male",
          "Male",
          "Male",
          "Male",
          "Male",
          "Male",
          "Male",
          "Male",
          "Male",
          "Female",
          "Male",
          "Male",
          "Male",
          "Female",
          "Female",
          "Male",
          "Male",
          "Male",
          "Male",
          "Male",
          "Male",
          "Male",
          "Male",
          "Male",
          "Male",
          "Male",
          "Male",
          "Female",
          "Male",
          "Male",
          "Male",
          "Female",
          "Male",
          "Male",
          "Male",
          "Male",
          "Male",
          "Male",
          "Female",
          "Female",
          "Male",
          "Male",
          "Male",
          "Male",
          "Female",
          "Female",
          "Female",
          "Male",
          "Male",
          "Male",
          "Male",
          "Male",
          "Male",
          "Male",
          "Male",
          "Female",
          "Male",
          "Male",
          "Male",
          "Female",
          "Male",
          "Male",
          "Female",
          "Male",
          "Female",
          "Male",
          "Male",
          "Male",
          "Male",
          "Female",
          "Male",
          "Male",
          "Male",
          "Female",
          "Female",
          "Male",
          "Male",
          "Male",
          "Female",
          "Male",
          "Male",
          "Male",
          "Female",
          "Female",
          "Male",
          "Male",
          "Female",
          "Male",
          "Female",
          "Male",
          "Male",
          "Male",
          "Male",
          "Male",
          "Female",
          "Male",
          "Male",
          "Male",
          "Male",
          "Female",
          "Male",
          "Male",
          "Male",
          "Male",
          "Female",
          "Female",
          "Male",
          "Male",
          "Male",
          "Male",
          "Male",
          "Male",
          "Male",
          "Male",
          "Female",
          "Female",
          "Male",
          "Female",
          "Male",
          "Male",
          "Male",
          "Male",
          "Male",
          "Male",
          "Male",
          "Male",
          "Male",
          "Male",
          "Male",
          "Female",
          "Female",
          "Female",
          "Male",
          "Male",
          "Male",
          "Male",
          "Female",
          "Male",
          "Male",
          "Male",
          "Male",
          "Male",
          "Male",
          "Male",
          "Male",
          "Male",
          "Female",
          "Male",
          "Male",
          "Male",
          "Female",
          "Male",
          "Male",
          "Male",
          "Male",
          "Male",
          "Male",
          "Male",
          "Female",
          "Male",
          "Male",
          "Male",
          "Male",
          "Male",
          "Male",
          "Male",
          "Male",
          "Male",
          "Male",
          "Male",
          "Male",
          "Male",
          "Female",
          "Male",
          "Male",
          "Female",
          "Male",
          "Male",
          "Male",
          "Female",
          "Female",
          "Female",
          "Male",
          "Female",
          "Male",
          "Male",
          "Female",
          "Male",
          "Male",
          "Male",
          "Female",
          "Female",
          "Female",
          "Male",
          "Male",
          "Male",
          "Male",
          "Female",
          "Male",
          "Male",
          "Male",
          "Male",
          "Female",
          "Male",
          "Male",
          "Male",
          "Female",
          "Male",
          "Male",
          "Male",
          "Male",
          "Female",
          "Male",
          "Male",
          "Male",
          "Female",
          "Male",
          "Male",
          "Male",
          "Male",
          "Male",
          "Male",
          "Male",
          "Male",
          "Male",
          "Male",
          "Male",
          "Male",
          "Male",
          "Male",
          "Male",
          "Male",
          "Male",
          "Male",
          "Male",
          "Male",
          "Male",
          "Male",
          "Male",
          "Female",
          "Male",
          "Male",
          "Male",
          "Male",
          "Female",
          "Male",
          "Male",
          "Male",
          "Male",
          "Female",
          "Male",
          "Male",
          "Male",
          "Male",
          "Male",
          "Male",
          "Female",
          "Male",
          "Male",
          "Male",
          "Male",
          "Male",
          "Male",
          "Male",
          "Male",
          "Male",
          "Male",
          "Male",
          "Male",
          "Female",
          "Male",
          "Female",
          "Male",
          "Male",
          "Male",
          "Male",
          "Female",
          "Female",
          "Male",
          "Male",
          "Male",
          "Male",
          "Male",
          "Male",
          "Male",
          "Female",
          "Male",
          "Male",
          "Male",
          "Male",
          "Male",
          "Male",
          "Female",
          "Male",
          "Male",
          "Female",
          "Male",
          "Male",
          "Male",
          "Male",
          "Male",
          "Male",
          "Male",
          "Male",
          "Male",
          "Male",
          "Male",
          "Male",
          "Male",
          "Male",
          "Female",
          "Male",
          "Male",
          "Male",
          "Male",
          "Male",
          "Female",
          "Female",
          "Female",
          "Male",
          "Female",
          "Male",
          "Male",
          "Male",
          "Female",
          "Male",
          "Male",
          "Male",
          "Male",
          "Male",
          "Male",
          "Male",
          "Female",
          "Male",
          "Male",
          "Female",
          "Male",
          "Female",
          "Male",
          "Male",
          "Male",
          "Male",
          "Male",
          "Male",
          "Female",
          "Male",
          "Male",
          "Male",
          "Male",
          "Male",
          "Male",
          "Male",
          "Male",
          "Male",
          "Male",
          "Male",
          "Male",
          "Male",
          "Female",
          "Male",
          "Male",
          "Male",
          "Male",
          "Female",
          "Male",
          "Male",
          "Male",
          "Male",
          "Male",
          "Male",
          "Male",
          "Male",
          "Male",
          "Male",
          "Male",
          "Male",
          "Female",
          "Male",
          "Male",
          "Male",
          "Female",
          "Male",
          "Male",
          "Male",
          "Male",
          "Female",
          "Male",
          "Male",
          "Male",
          "Female"
         ],
         "xaxis": "x",
         "yaxis": "y"
        }
       ],
       "layout": {
        "barmode": "relative",
        "legend": {
         "tracegroupgap": 0
        },
        "template": {
         "data": {
          "bar": [
           {
            "error_x": {
             "color": "#2a3f5f"
            },
            "error_y": {
             "color": "#2a3f5f"
            },
            "marker": {
             "line": {
              "color": "#E5ECF6",
              "width": 0.5
             },
             "pattern": {
              "fillmode": "overlay",
              "size": 10,
              "solidity": 0.2
             }
            },
            "type": "bar"
           }
          ],
          "barpolar": [
           {
            "marker": {
             "line": {
              "color": "#E5ECF6",
              "width": 0.5
             },
             "pattern": {
              "fillmode": "overlay",
              "size": 10,
              "solidity": 0.2
             }
            },
            "type": "barpolar"
           }
          ],
          "carpet": [
           {
            "aaxis": {
             "endlinecolor": "#2a3f5f",
             "gridcolor": "white",
             "linecolor": "white",
             "minorgridcolor": "white",
             "startlinecolor": "#2a3f5f"
            },
            "baxis": {
             "endlinecolor": "#2a3f5f",
             "gridcolor": "white",
             "linecolor": "white",
             "minorgridcolor": "white",
             "startlinecolor": "#2a3f5f"
            },
            "type": "carpet"
           }
          ],
          "choropleth": [
           {
            "colorbar": {
             "outlinewidth": 0,
             "ticks": ""
            },
            "type": "choropleth"
           }
          ],
          "contour": [
           {
            "colorbar": {
             "outlinewidth": 0,
             "ticks": ""
            },
            "colorscale": [
             [
              0,
              "#0d0887"
             ],
             [
              0.1111111111111111,
              "#46039f"
             ],
             [
              0.2222222222222222,
              "#7201a8"
             ],
             [
              0.3333333333333333,
              "#9c179e"
             ],
             [
              0.4444444444444444,
              "#bd3786"
             ],
             [
              0.5555555555555556,
              "#d8576b"
             ],
             [
              0.6666666666666666,
              "#ed7953"
             ],
             [
              0.7777777777777778,
              "#fb9f3a"
             ],
             [
              0.8888888888888888,
              "#fdca26"
             ],
             [
              1,
              "#f0f921"
             ]
            ],
            "type": "contour"
           }
          ],
          "contourcarpet": [
           {
            "colorbar": {
             "outlinewidth": 0,
             "ticks": ""
            },
            "type": "contourcarpet"
           }
          ],
          "heatmap": [
           {
            "colorbar": {
             "outlinewidth": 0,
             "ticks": ""
            },
            "colorscale": [
             [
              0,
              "#0d0887"
             ],
             [
              0.1111111111111111,
              "#46039f"
             ],
             [
              0.2222222222222222,
              "#7201a8"
             ],
             [
              0.3333333333333333,
              "#9c179e"
             ],
             [
              0.4444444444444444,
              "#bd3786"
             ],
             [
              0.5555555555555556,
              "#d8576b"
             ],
             [
              0.6666666666666666,
              "#ed7953"
             ],
             [
              0.7777777777777778,
              "#fb9f3a"
             ],
             [
              0.8888888888888888,
              "#fdca26"
             ],
             [
              1,
              "#f0f921"
             ]
            ],
            "type": "heatmap"
           }
          ],
          "heatmapgl": [
           {
            "colorbar": {
             "outlinewidth": 0,
             "ticks": ""
            },
            "colorscale": [
             [
              0,
              "#0d0887"
             ],
             [
              0.1111111111111111,
              "#46039f"
             ],
             [
              0.2222222222222222,
              "#7201a8"
             ],
             [
              0.3333333333333333,
              "#9c179e"
             ],
             [
              0.4444444444444444,
              "#bd3786"
             ],
             [
              0.5555555555555556,
              "#d8576b"
             ],
             [
              0.6666666666666666,
              "#ed7953"
             ],
             [
              0.7777777777777778,
              "#fb9f3a"
             ],
             [
              0.8888888888888888,
              "#fdca26"
             ],
             [
              1,
              "#f0f921"
             ]
            ],
            "type": "heatmapgl"
           }
          ],
          "histogram": [
           {
            "marker": {
             "pattern": {
              "fillmode": "overlay",
              "size": 10,
              "solidity": 0.2
             }
            },
            "type": "histogram"
           }
          ],
          "histogram2d": [
           {
            "colorbar": {
             "outlinewidth": 0,
             "ticks": ""
            },
            "colorscale": [
             [
              0,
              "#0d0887"
             ],
             [
              0.1111111111111111,
              "#46039f"
             ],
             [
              0.2222222222222222,
              "#7201a8"
             ],
             [
              0.3333333333333333,
              "#9c179e"
             ],
             [
              0.4444444444444444,
              "#bd3786"
             ],
             [
              0.5555555555555556,
              "#d8576b"
             ],
             [
              0.6666666666666666,
              "#ed7953"
             ],
             [
              0.7777777777777778,
              "#fb9f3a"
             ],
             [
              0.8888888888888888,
              "#fdca26"
             ],
             [
              1,
              "#f0f921"
             ]
            ],
            "type": "histogram2d"
           }
          ],
          "histogram2dcontour": [
           {
            "colorbar": {
             "outlinewidth": 0,
             "ticks": ""
            },
            "colorscale": [
             [
              0,
              "#0d0887"
             ],
             [
              0.1111111111111111,
              "#46039f"
             ],
             [
              0.2222222222222222,
              "#7201a8"
             ],
             [
              0.3333333333333333,
              "#9c179e"
             ],
             [
              0.4444444444444444,
              "#bd3786"
             ],
             [
              0.5555555555555556,
              "#d8576b"
             ],
             [
              0.6666666666666666,
              "#ed7953"
             ],
             [
              0.7777777777777778,
              "#fb9f3a"
             ],
             [
              0.8888888888888888,
              "#fdca26"
             ],
             [
              1,
              "#f0f921"
             ]
            ],
            "type": "histogram2dcontour"
           }
          ],
          "mesh3d": [
           {
            "colorbar": {
             "outlinewidth": 0,
             "ticks": ""
            },
            "type": "mesh3d"
           }
          ],
          "parcoords": [
           {
            "line": {
             "colorbar": {
              "outlinewidth": 0,
              "ticks": ""
             }
            },
            "type": "parcoords"
           }
          ],
          "pie": [
           {
            "automargin": true,
            "type": "pie"
           }
          ],
          "scatter": [
           {
            "fillpattern": {
             "fillmode": "overlay",
             "size": 10,
             "solidity": 0.2
            },
            "type": "scatter"
           }
          ],
          "scatter3d": [
           {
            "line": {
             "colorbar": {
              "outlinewidth": 0,
              "ticks": ""
             }
            },
            "marker": {
             "colorbar": {
              "outlinewidth": 0,
              "ticks": ""
             }
            },
            "type": "scatter3d"
           }
          ],
          "scattercarpet": [
           {
            "marker": {
             "colorbar": {
              "outlinewidth": 0,
              "ticks": ""
             }
            },
            "type": "scattercarpet"
           }
          ],
          "scattergeo": [
           {
            "marker": {
             "colorbar": {
              "outlinewidth": 0,
              "ticks": ""
             }
            },
            "type": "scattergeo"
           }
          ],
          "scattergl": [
           {
            "marker": {
             "colorbar": {
              "outlinewidth": 0,
              "ticks": ""
             }
            },
            "type": "scattergl"
           }
          ],
          "scattermapbox": [
           {
            "marker": {
             "colorbar": {
              "outlinewidth": 0,
              "ticks": ""
             }
            },
            "type": "scattermapbox"
           }
          ],
          "scatterpolar": [
           {
            "marker": {
             "colorbar": {
              "outlinewidth": 0,
              "ticks": ""
             }
            },
            "type": "scatterpolar"
           }
          ],
          "scatterpolargl": [
           {
            "marker": {
             "colorbar": {
              "outlinewidth": 0,
              "ticks": ""
             }
            },
            "type": "scatterpolargl"
           }
          ],
          "scatterternary": [
           {
            "marker": {
             "colorbar": {
              "outlinewidth": 0,
              "ticks": ""
             }
            },
            "type": "scatterternary"
           }
          ],
          "surface": [
           {
            "colorbar": {
             "outlinewidth": 0,
             "ticks": ""
            },
            "colorscale": [
             [
              0,
              "#0d0887"
             ],
             [
              0.1111111111111111,
              "#46039f"
             ],
             [
              0.2222222222222222,
              "#7201a8"
             ],
             [
              0.3333333333333333,
              "#9c179e"
             ],
             [
              0.4444444444444444,
              "#bd3786"
             ],
             [
              0.5555555555555556,
              "#d8576b"
             ],
             [
              0.6666666666666666,
              "#ed7953"
             ],
             [
              0.7777777777777778,
              "#fb9f3a"
             ],
             [
              0.8888888888888888,
              "#fdca26"
             ],
             [
              1,
              "#f0f921"
             ]
            ],
            "type": "surface"
           }
          ],
          "table": [
           {
            "cells": {
             "fill": {
              "color": "#EBF0F8"
             },
             "line": {
              "color": "white"
             }
            },
            "header": {
             "fill": {
              "color": "#C8D4E3"
             },
             "line": {
              "color": "white"
             }
            },
            "type": "table"
           }
          ]
         },
         "layout": {
          "annotationdefaults": {
           "arrowcolor": "#2a3f5f",
           "arrowhead": 0,
           "arrowwidth": 1
          },
          "autotypenumbers": "strict",
          "coloraxis": {
           "colorbar": {
            "outlinewidth": 0,
            "ticks": ""
           }
          },
          "colorscale": {
           "diverging": [
            [
             0,
             "#8e0152"
            ],
            [
             0.1,
             "#c51b7d"
            ],
            [
             0.2,
             "#de77ae"
            ],
            [
             0.3,
             "#f1b6da"
            ],
            [
             0.4,
             "#fde0ef"
            ],
            [
             0.5,
             "#f7f7f7"
            ],
            [
             0.6,
             "#e6f5d0"
            ],
            [
             0.7,
             "#b8e186"
            ],
            [
             0.8,
             "#7fbc41"
            ],
            [
             0.9,
             "#4d9221"
            ],
            [
             1,
             "#276419"
            ]
           ],
           "sequential": [
            [
             0,
             "#0d0887"
            ],
            [
             0.1111111111111111,
             "#46039f"
            ],
            [
             0.2222222222222222,
             "#7201a8"
            ],
            [
             0.3333333333333333,
             "#9c179e"
            ],
            [
             0.4444444444444444,
             "#bd3786"
            ],
            [
             0.5555555555555556,
             "#d8576b"
            ],
            [
             0.6666666666666666,
             "#ed7953"
            ],
            [
             0.7777777777777778,
             "#fb9f3a"
            ],
            [
             0.8888888888888888,
             "#fdca26"
            ],
            [
             1,
             "#f0f921"
            ]
           ],
           "sequentialminus": [
            [
             0,
             "#0d0887"
            ],
            [
             0.1111111111111111,
             "#46039f"
            ],
            [
             0.2222222222222222,
             "#7201a8"
            ],
            [
             0.3333333333333333,
             "#9c179e"
            ],
            [
             0.4444444444444444,
             "#bd3786"
            ],
            [
             0.5555555555555556,
             "#d8576b"
            ],
            [
             0.6666666666666666,
             "#ed7953"
            ],
            [
             0.7777777777777778,
             "#fb9f3a"
            ],
            [
             0.8888888888888888,
             "#fdca26"
            ],
            [
             1,
             "#f0f921"
            ]
           ]
          },
          "colorway": [
           "#636efa",
           "#EF553B",
           "#00cc96",
           "#ab63fa",
           "#FFA15A",
           "#19d3f3",
           "#FF6692",
           "#B6E880",
           "#FF97FF",
           "#FECB52"
          ],
          "font": {
           "color": "#2a3f5f"
          },
          "geo": {
           "bgcolor": "white",
           "lakecolor": "white",
           "landcolor": "#E5ECF6",
           "showlakes": true,
           "showland": true,
           "subunitcolor": "white"
          },
          "hoverlabel": {
           "align": "left"
          },
          "hovermode": "closest",
          "mapbox": {
           "style": "light"
          },
          "paper_bgcolor": "white",
          "plot_bgcolor": "#E5ECF6",
          "polar": {
           "angularaxis": {
            "gridcolor": "white",
            "linecolor": "white",
            "ticks": ""
           },
           "bgcolor": "#E5ECF6",
           "radialaxis": {
            "gridcolor": "white",
            "linecolor": "white",
            "ticks": ""
           }
          },
          "scene": {
           "xaxis": {
            "backgroundcolor": "#E5ECF6",
            "gridcolor": "white",
            "gridwidth": 2,
            "linecolor": "white",
            "showbackground": true,
            "ticks": "",
            "zerolinecolor": "white"
           },
           "yaxis": {
            "backgroundcolor": "#E5ECF6",
            "gridcolor": "white",
            "gridwidth": 2,
            "linecolor": "white",
            "showbackground": true,
            "ticks": "",
            "zerolinecolor": "white"
           },
           "zaxis": {
            "backgroundcolor": "#E5ECF6",
            "gridcolor": "white",
            "gridwidth": 2,
            "linecolor": "white",
            "showbackground": true,
            "ticks": "",
            "zerolinecolor": "white"
           }
          },
          "shapedefaults": {
           "line": {
            "color": "#2a3f5f"
           }
          },
          "ternary": {
           "aaxis": {
            "gridcolor": "white",
            "linecolor": "white",
            "ticks": ""
           },
           "baxis": {
            "gridcolor": "white",
            "linecolor": "white",
            "ticks": ""
           },
           "bgcolor": "#E5ECF6",
           "caxis": {
            "gridcolor": "white",
            "linecolor": "white",
            "ticks": ""
           }
          },
          "title": {
           "x": 0.05
          },
          "xaxis": {
           "automargin": true,
           "gridcolor": "white",
           "linecolor": "white",
           "ticks": "",
           "title": {
            "standoff": 15
           },
           "zerolinecolor": "white",
           "zerolinewidth": 2
          },
          "yaxis": {
           "automargin": true,
           "gridcolor": "white",
           "linecolor": "white",
           "ticks": "",
           "title": {
            "standoff": 15
           },
           "zerolinecolor": "white",
           "zerolinewidth": 2
          }
         }
        },
        "title": {
         "text": "Gender Distribution"
        },
        "xaxis": {
         "anchor": "y",
         "domain": [
          0,
          1
         ],
         "title": {
          "text": "Gender"
         }
        },
        "yaxis": {
         "anchor": "x",
         "domain": [
          0,
          1
         ],
         "title": {
          "text": "count"
         }
        }
       }
      }
     },
     "metadata": {},
     "output_type": "display_data"
    }
   ],
   "source": [
    "fig_gender=px.histogram(df,x='Gender',title='Gender Distribution',color_discrete_sequence = ['darkseagreen'])\n",
    "fig_gender.show()"
   ]
  },
  {
   "cell_type": "markdown",
   "metadata": {
    "id": "_0W8s6ne7pjz"
   },
   "source": [
    "## *Distribution of the Martial Status*"
   ]
  },
  {
   "cell_type": "code",
   "execution_count": 473,
   "metadata": {
    "colab": {
     "base_uri": "https://localhost:8080/",
     "height": 542
    },
    "id": "1aRnTtBE7o32",
    "outputId": "0346f158-823d-4047-ffdf-1669dc81d2ba"
   },
   "outputs": [
    {
     "data": {
      "application/vnd.plotly.v1+json": {
       "config": {
        "plotlyServerURL": "https://plot.ly"
       },
       "data": [
        {
         "alignmentgroup": "True",
         "hovertemplate": "Married=%{x}<br>y=%{y}<extra></extra>",
         "legendgroup": "",
         "marker": {
          "color": "red",
          "pattern": {
           "shape": ""
          }
         },
         "name": "",
         "offsetgroup": "",
         "orientation": "v",
         "showlegend": false,
         "textposition": "auto",
         "type": "bar",
         "x": [
          "Yes",
          "No"
         ],
         "xaxis": "x",
         "y": [
          401,
          213
         ],
         "yaxis": "y"
        }
       ],
       "layout": {
        "barmode": "relative",
        "legend": {
         "tracegroupgap": 0
        },
        "template": {
         "data": {
          "bar": [
           {
            "error_x": {
             "color": "#2a3f5f"
            },
            "error_y": {
             "color": "#2a3f5f"
            },
            "marker": {
             "line": {
              "color": "#E5ECF6",
              "width": 0.5
             },
             "pattern": {
              "fillmode": "overlay",
              "size": 10,
              "solidity": 0.2
             }
            },
            "type": "bar"
           }
          ],
          "barpolar": [
           {
            "marker": {
             "line": {
              "color": "#E5ECF6",
              "width": 0.5
             },
             "pattern": {
              "fillmode": "overlay",
              "size": 10,
              "solidity": 0.2
             }
            },
            "type": "barpolar"
           }
          ],
          "carpet": [
           {
            "aaxis": {
             "endlinecolor": "#2a3f5f",
             "gridcolor": "white",
             "linecolor": "white",
             "minorgridcolor": "white",
             "startlinecolor": "#2a3f5f"
            },
            "baxis": {
             "endlinecolor": "#2a3f5f",
             "gridcolor": "white",
             "linecolor": "white",
             "minorgridcolor": "white",
             "startlinecolor": "#2a3f5f"
            },
            "type": "carpet"
           }
          ],
          "choropleth": [
           {
            "colorbar": {
             "outlinewidth": 0,
             "ticks": ""
            },
            "type": "choropleth"
           }
          ],
          "contour": [
           {
            "colorbar": {
             "outlinewidth": 0,
             "ticks": ""
            },
            "colorscale": [
             [
              0,
              "#0d0887"
             ],
             [
              0.1111111111111111,
              "#46039f"
             ],
             [
              0.2222222222222222,
              "#7201a8"
             ],
             [
              0.3333333333333333,
              "#9c179e"
             ],
             [
              0.4444444444444444,
              "#bd3786"
             ],
             [
              0.5555555555555556,
              "#d8576b"
             ],
             [
              0.6666666666666666,
              "#ed7953"
             ],
             [
              0.7777777777777778,
              "#fb9f3a"
             ],
             [
              0.8888888888888888,
              "#fdca26"
             ],
             [
              1,
              "#f0f921"
             ]
            ],
            "type": "contour"
           }
          ],
          "contourcarpet": [
           {
            "colorbar": {
             "outlinewidth": 0,
             "ticks": ""
            },
            "type": "contourcarpet"
           }
          ],
          "heatmap": [
           {
            "colorbar": {
             "outlinewidth": 0,
             "ticks": ""
            },
            "colorscale": [
             [
              0,
              "#0d0887"
             ],
             [
              0.1111111111111111,
              "#46039f"
             ],
             [
              0.2222222222222222,
              "#7201a8"
             ],
             [
              0.3333333333333333,
              "#9c179e"
             ],
             [
              0.4444444444444444,
              "#bd3786"
             ],
             [
              0.5555555555555556,
              "#d8576b"
             ],
             [
              0.6666666666666666,
              "#ed7953"
             ],
             [
              0.7777777777777778,
              "#fb9f3a"
             ],
             [
              0.8888888888888888,
              "#fdca26"
             ],
             [
              1,
              "#f0f921"
             ]
            ],
            "type": "heatmap"
           }
          ],
          "heatmapgl": [
           {
            "colorbar": {
             "outlinewidth": 0,
             "ticks": ""
            },
            "colorscale": [
             [
              0,
              "#0d0887"
             ],
             [
              0.1111111111111111,
              "#46039f"
             ],
             [
              0.2222222222222222,
              "#7201a8"
             ],
             [
              0.3333333333333333,
              "#9c179e"
             ],
             [
              0.4444444444444444,
              "#bd3786"
             ],
             [
              0.5555555555555556,
              "#d8576b"
             ],
             [
              0.6666666666666666,
              "#ed7953"
             ],
             [
              0.7777777777777778,
              "#fb9f3a"
             ],
             [
              0.8888888888888888,
              "#fdca26"
             ],
             [
              1,
              "#f0f921"
             ]
            ],
            "type": "heatmapgl"
           }
          ],
          "histogram": [
           {
            "marker": {
             "pattern": {
              "fillmode": "overlay",
              "size": 10,
              "solidity": 0.2
             }
            },
            "type": "histogram"
           }
          ],
          "histogram2d": [
           {
            "colorbar": {
             "outlinewidth": 0,
             "ticks": ""
            },
            "colorscale": [
             [
              0,
              "#0d0887"
             ],
             [
              0.1111111111111111,
              "#46039f"
             ],
             [
              0.2222222222222222,
              "#7201a8"
             ],
             [
              0.3333333333333333,
              "#9c179e"
             ],
             [
              0.4444444444444444,
              "#bd3786"
             ],
             [
              0.5555555555555556,
              "#d8576b"
             ],
             [
              0.6666666666666666,
              "#ed7953"
             ],
             [
              0.7777777777777778,
              "#fb9f3a"
             ],
             [
              0.8888888888888888,
              "#fdca26"
             ],
             [
              1,
              "#f0f921"
             ]
            ],
            "type": "histogram2d"
           }
          ],
          "histogram2dcontour": [
           {
            "colorbar": {
             "outlinewidth": 0,
             "ticks": ""
            },
            "colorscale": [
             [
              0,
              "#0d0887"
             ],
             [
              0.1111111111111111,
              "#46039f"
             ],
             [
              0.2222222222222222,
              "#7201a8"
             ],
             [
              0.3333333333333333,
              "#9c179e"
             ],
             [
              0.4444444444444444,
              "#bd3786"
             ],
             [
              0.5555555555555556,
              "#d8576b"
             ],
             [
              0.6666666666666666,
              "#ed7953"
             ],
             [
              0.7777777777777778,
              "#fb9f3a"
             ],
             [
              0.8888888888888888,
              "#fdca26"
             ],
             [
              1,
              "#f0f921"
             ]
            ],
            "type": "histogram2dcontour"
           }
          ],
          "mesh3d": [
           {
            "colorbar": {
             "outlinewidth": 0,
             "ticks": ""
            },
            "type": "mesh3d"
           }
          ],
          "parcoords": [
           {
            "line": {
             "colorbar": {
              "outlinewidth": 0,
              "ticks": ""
             }
            },
            "type": "parcoords"
           }
          ],
          "pie": [
           {
            "automargin": true,
            "type": "pie"
           }
          ],
          "scatter": [
           {
            "fillpattern": {
             "fillmode": "overlay",
             "size": 10,
             "solidity": 0.2
            },
            "type": "scatter"
           }
          ],
          "scatter3d": [
           {
            "line": {
             "colorbar": {
              "outlinewidth": 0,
              "ticks": ""
             }
            },
            "marker": {
             "colorbar": {
              "outlinewidth": 0,
              "ticks": ""
             }
            },
            "type": "scatter3d"
           }
          ],
          "scattercarpet": [
           {
            "marker": {
             "colorbar": {
              "outlinewidth": 0,
              "ticks": ""
             }
            },
            "type": "scattercarpet"
           }
          ],
          "scattergeo": [
           {
            "marker": {
             "colorbar": {
              "outlinewidth": 0,
              "ticks": ""
             }
            },
            "type": "scattergeo"
           }
          ],
          "scattergl": [
           {
            "marker": {
             "colorbar": {
              "outlinewidth": 0,
              "ticks": ""
             }
            },
            "type": "scattergl"
           }
          ],
          "scattermapbox": [
           {
            "marker": {
             "colorbar": {
              "outlinewidth": 0,
              "ticks": ""
             }
            },
            "type": "scattermapbox"
           }
          ],
          "scatterpolar": [
           {
            "marker": {
             "colorbar": {
              "outlinewidth": 0,
              "ticks": ""
             }
            },
            "type": "scatterpolar"
           }
          ],
          "scatterpolargl": [
           {
            "marker": {
             "colorbar": {
              "outlinewidth": 0,
              "ticks": ""
             }
            },
            "type": "scatterpolargl"
           }
          ],
          "scatterternary": [
           {
            "marker": {
             "colorbar": {
              "outlinewidth": 0,
              "ticks": ""
             }
            },
            "type": "scatterternary"
           }
          ],
          "surface": [
           {
            "colorbar": {
             "outlinewidth": 0,
             "ticks": ""
            },
            "colorscale": [
             [
              0,
              "#0d0887"
             ],
             [
              0.1111111111111111,
              "#46039f"
             ],
             [
              0.2222222222222222,
              "#7201a8"
             ],
             [
              0.3333333333333333,
              "#9c179e"
             ],
             [
              0.4444444444444444,
              "#bd3786"
             ],
             [
              0.5555555555555556,
              "#d8576b"
             ],
             [
              0.6666666666666666,
              "#ed7953"
             ],
             [
              0.7777777777777778,
              "#fb9f3a"
             ],
             [
              0.8888888888888888,
              "#fdca26"
             ],
             [
              1,
              "#f0f921"
             ]
            ],
            "type": "surface"
           }
          ],
          "table": [
           {
            "cells": {
             "fill": {
              "color": "#EBF0F8"
             },
             "line": {
              "color": "white"
             }
            },
            "header": {
             "fill": {
              "color": "#C8D4E3"
             },
             "line": {
              "color": "white"
             }
            },
            "type": "table"
           }
          ]
         },
         "layout": {
          "annotationdefaults": {
           "arrowcolor": "#2a3f5f",
           "arrowhead": 0,
           "arrowwidth": 1
          },
          "autotypenumbers": "strict",
          "coloraxis": {
           "colorbar": {
            "outlinewidth": 0,
            "ticks": ""
           }
          },
          "colorscale": {
           "diverging": [
            [
             0,
             "#8e0152"
            ],
            [
             0.1,
             "#c51b7d"
            ],
            [
             0.2,
             "#de77ae"
            ],
            [
             0.3,
             "#f1b6da"
            ],
            [
             0.4,
             "#fde0ef"
            ],
            [
             0.5,
             "#f7f7f7"
            ],
            [
             0.6,
             "#e6f5d0"
            ],
            [
             0.7,
             "#b8e186"
            ],
            [
             0.8,
             "#7fbc41"
            ],
            [
             0.9,
             "#4d9221"
            ],
            [
             1,
             "#276419"
            ]
           ],
           "sequential": [
            [
             0,
             "#0d0887"
            ],
            [
             0.1111111111111111,
             "#46039f"
            ],
            [
             0.2222222222222222,
             "#7201a8"
            ],
            [
             0.3333333333333333,
             "#9c179e"
            ],
            [
             0.4444444444444444,
             "#bd3786"
            ],
            [
             0.5555555555555556,
             "#d8576b"
            ],
            [
             0.6666666666666666,
             "#ed7953"
            ],
            [
             0.7777777777777778,
             "#fb9f3a"
            ],
            [
             0.8888888888888888,
             "#fdca26"
            ],
            [
             1,
             "#f0f921"
            ]
           ],
           "sequentialminus": [
            [
             0,
             "#0d0887"
            ],
            [
             0.1111111111111111,
             "#46039f"
            ],
            [
             0.2222222222222222,
             "#7201a8"
            ],
            [
             0.3333333333333333,
             "#9c179e"
            ],
            [
             0.4444444444444444,
             "#bd3786"
            ],
            [
             0.5555555555555556,
             "#d8576b"
            ],
            [
             0.6666666666666666,
             "#ed7953"
            ],
            [
             0.7777777777777778,
             "#fb9f3a"
            ],
            [
             0.8888888888888888,
             "#fdca26"
            ],
            [
             1,
             "#f0f921"
            ]
           ]
          },
          "colorway": [
           "#636efa",
           "#EF553B",
           "#00cc96",
           "#ab63fa",
           "#FFA15A",
           "#19d3f3",
           "#FF6692",
           "#B6E880",
           "#FF97FF",
           "#FECB52"
          ],
          "font": {
           "color": "#2a3f5f"
          },
          "geo": {
           "bgcolor": "white",
           "lakecolor": "white",
           "landcolor": "#E5ECF6",
           "showlakes": true,
           "showland": true,
           "subunitcolor": "white"
          },
          "hoverlabel": {
           "align": "left"
          },
          "hovermode": "closest",
          "mapbox": {
           "style": "light"
          },
          "paper_bgcolor": "white",
          "plot_bgcolor": "#E5ECF6",
          "polar": {
           "angularaxis": {
            "gridcolor": "white",
            "linecolor": "white",
            "ticks": ""
           },
           "bgcolor": "#E5ECF6",
           "radialaxis": {
            "gridcolor": "white",
            "linecolor": "white",
            "ticks": ""
           }
          },
          "scene": {
           "xaxis": {
            "backgroundcolor": "#E5ECF6",
            "gridcolor": "white",
            "gridwidth": 2,
            "linecolor": "white",
            "showbackground": true,
            "ticks": "",
            "zerolinecolor": "white"
           },
           "yaxis": {
            "backgroundcolor": "#E5ECF6",
            "gridcolor": "white",
            "gridwidth": 2,
            "linecolor": "white",
            "showbackground": true,
            "ticks": "",
            "zerolinecolor": "white"
           },
           "zaxis": {
            "backgroundcolor": "#E5ECF6",
            "gridcolor": "white",
            "gridwidth": 2,
            "linecolor": "white",
            "showbackground": true,
            "ticks": "",
            "zerolinecolor": "white"
           }
          },
          "shapedefaults": {
           "line": {
            "color": "#2a3f5f"
           }
          },
          "ternary": {
           "aaxis": {
            "gridcolor": "white",
            "linecolor": "white",
            "ticks": ""
           },
           "baxis": {
            "gridcolor": "white",
            "linecolor": "white",
            "ticks": ""
           },
           "bgcolor": "#E5ECF6",
           "caxis": {
            "gridcolor": "white",
            "linecolor": "white",
            "ticks": ""
           }
          },
          "title": {
           "x": 0.05
          },
          "xaxis": {
           "automargin": true,
           "gridcolor": "white",
           "linecolor": "white",
           "ticks": "",
           "title": {
            "standoff": 15
           },
           "zerolinecolor": "white",
           "zerolinewidth": 2
          },
          "yaxis": {
           "automargin": true,
           "gridcolor": "white",
           "linecolor": "white",
           "ticks": "",
           "title": {
            "standoff": 15
           },
           "zerolinecolor": "white",
           "zerolinewidth": 2
          }
         }
        },
        "title": {
         "text": "Marital Status Distribution"
        },
        "xaxis": {
         "anchor": "y",
         "domain": [
          0,
          1
         ],
         "title": {
          "text": "Married"
         }
        },
        "yaxis": {
         "anchor": "x",
         "domain": [
          0,
          1
         ],
         "title": {
          "text": "y"
         }
        }
       }
      }
     },
     "metadata": {},
     "output_type": "display_data"
    }
   ],
   "source": [
    "married_count = df['Married'].value_counts()\n",
    "fig_married = px.bar(married_count,x=married_count.index,y=married_count.values,title='Marital Status Distribution')\n",
    "fig_married.update_traces(marker_color = 'red')\n",
    "fig_married.show()"
   ]
  },
  {
   "cell_type": "markdown",
   "metadata": {
    "id": "4NJwHUVj-Vw3"
   },
   "source": [
    "## *Distribution of the Self-employment*"
   ]
  },
  {
   "cell_type": "code",
   "execution_count": 474,
   "metadata": {
    "colab": {
     "base_uri": "https://localhost:8080/",
     "height": 542
    },
    "id": "f1OlT6wWHUQI",
    "outputId": "52893ead-49ae-48af-a1e0-b0ca5e546cc4"
   },
   "outputs": [
    {
     "data": {
      "application/vnd.plotly.v1+json": {
       "config": {
        "plotlyServerURL": "https://plot.ly"
       },
       "data": [
        {
         "alignmentgroup": "True",
         "hovertemplate": "Self_Employed=%{x}<br>y=%{y}<extra></extra>",
         "legendgroup": "",
         "marker": {
          "color": "navy",
          "pattern": {
           "shape": ""
          }
         },
         "name": "",
         "offsetgroup": "",
         "orientation": "v",
         "showlegend": false,
         "textposition": "auto",
         "type": "bar",
         "x": [
          "No",
          "Yes"
         ],
         "xaxis": "x",
         "y": [
          532,
          82
         ],
         "yaxis": "y"
        }
       ],
       "layout": {
        "barmode": "relative",
        "legend": {
         "tracegroupgap": 0
        },
        "template": {
         "data": {
          "bar": [
           {
            "error_x": {
             "color": "#2a3f5f"
            },
            "error_y": {
             "color": "#2a3f5f"
            },
            "marker": {
             "line": {
              "color": "#E5ECF6",
              "width": 0.5
             },
             "pattern": {
              "fillmode": "overlay",
              "size": 10,
              "solidity": 0.2
             }
            },
            "type": "bar"
           }
          ],
          "barpolar": [
           {
            "marker": {
             "line": {
              "color": "#E5ECF6",
              "width": 0.5
             },
             "pattern": {
              "fillmode": "overlay",
              "size": 10,
              "solidity": 0.2
             }
            },
            "type": "barpolar"
           }
          ],
          "carpet": [
           {
            "aaxis": {
             "endlinecolor": "#2a3f5f",
             "gridcolor": "white",
             "linecolor": "white",
             "minorgridcolor": "white",
             "startlinecolor": "#2a3f5f"
            },
            "baxis": {
             "endlinecolor": "#2a3f5f",
             "gridcolor": "white",
             "linecolor": "white",
             "minorgridcolor": "white",
             "startlinecolor": "#2a3f5f"
            },
            "type": "carpet"
           }
          ],
          "choropleth": [
           {
            "colorbar": {
             "outlinewidth": 0,
             "ticks": ""
            },
            "type": "choropleth"
           }
          ],
          "contour": [
           {
            "colorbar": {
             "outlinewidth": 0,
             "ticks": ""
            },
            "colorscale": [
             [
              0,
              "#0d0887"
             ],
             [
              0.1111111111111111,
              "#46039f"
             ],
             [
              0.2222222222222222,
              "#7201a8"
             ],
             [
              0.3333333333333333,
              "#9c179e"
             ],
             [
              0.4444444444444444,
              "#bd3786"
             ],
             [
              0.5555555555555556,
              "#d8576b"
             ],
             [
              0.6666666666666666,
              "#ed7953"
             ],
             [
              0.7777777777777778,
              "#fb9f3a"
             ],
             [
              0.8888888888888888,
              "#fdca26"
             ],
             [
              1,
              "#f0f921"
             ]
            ],
            "type": "contour"
           }
          ],
          "contourcarpet": [
           {
            "colorbar": {
             "outlinewidth": 0,
             "ticks": ""
            },
            "type": "contourcarpet"
           }
          ],
          "heatmap": [
           {
            "colorbar": {
             "outlinewidth": 0,
             "ticks": ""
            },
            "colorscale": [
             [
              0,
              "#0d0887"
             ],
             [
              0.1111111111111111,
              "#46039f"
             ],
             [
              0.2222222222222222,
              "#7201a8"
             ],
             [
              0.3333333333333333,
              "#9c179e"
             ],
             [
              0.4444444444444444,
              "#bd3786"
             ],
             [
              0.5555555555555556,
              "#d8576b"
             ],
             [
              0.6666666666666666,
              "#ed7953"
             ],
             [
              0.7777777777777778,
              "#fb9f3a"
             ],
             [
              0.8888888888888888,
              "#fdca26"
             ],
             [
              1,
              "#f0f921"
             ]
            ],
            "type": "heatmap"
           }
          ],
          "heatmapgl": [
           {
            "colorbar": {
             "outlinewidth": 0,
             "ticks": ""
            },
            "colorscale": [
             [
              0,
              "#0d0887"
             ],
             [
              0.1111111111111111,
              "#46039f"
             ],
             [
              0.2222222222222222,
              "#7201a8"
             ],
             [
              0.3333333333333333,
              "#9c179e"
             ],
             [
              0.4444444444444444,
              "#bd3786"
             ],
             [
              0.5555555555555556,
              "#d8576b"
             ],
             [
              0.6666666666666666,
              "#ed7953"
             ],
             [
              0.7777777777777778,
              "#fb9f3a"
             ],
             [
              0.8888888888888888,
              "#fdca26"
             ],
             [
              1,
              "#f0f921"
             ]
            ],
            "type": "heatmapgl"
           }
          ],
          "histogram": [
           {
            "marker": {
             "pattern": {
              "fillmode": "overlay",
              "size": 10,
              "solidity": 0.2
             }
            },
            "type": "histogram"
           }
          ],
          "histogram2d": [
           {
            "colorbar": {
             "outlinewidth": 0,
             "ticks": ""
            },
            "colorscale": [
             [
              0,
              "#0d0887"
             ],
             [
              0.1111111111111111,
              "#46039f"
             ],
             [
              0.2222222222222222,
              "#7201a8"
             ],
             [
              0.3333333333333333,
              "#9c179e"
             ],
             [
              0.4444444444444444,
              "#bd3786"
             ],
             [
              0.5555555555555556,
              "#d8576b"
             ],
             [
              0.6666666666666666,
              "#ed7953"
             ],
             [
              0.7777777777777778,
              "#fb9f3a"
             ],
             [
              0.8888888888888888,
              "#fdca26"
             ],
             [
              1,
              "#f0f921"
             ]
            ],
            "type": "histogram2d"
           }
          ],
          "histogram2dcontour": [
           {
            "colorbar": {
             "outlinewidth": 0,
             "ticks": ""
            },
            "colorscale": [
             [
              0,
              "#0d0887"
             ],
             [
              0.1111111111111111,
              "#46039f"
             ],
             [
              0.2222222222222222,
              "#7201a8"
             ],
             [
              0.3333333333333333,
              "#9c179e"
             ],
             [
              0.4444444444444444,
              "#bd3786"
             ],
             [
              0.5555555555555556,
              "#d8576b"
             ],
             [
              0.6666666666666666,
              "#ed7953"
             ],
             [
              0.7777777777777778,
              "#fb9f3a"
             ],
             [
              0.8888888888888888,
              "#fdca26"
             ],
             [
              1,
              "#f0f921"
             ]
            ],
            "type": "histogram2dcontour"
           }
          ],
          "mesh3d": [
           {
            "colorbar": {
             "outlinewidth": 0,
             "ticks": ""
            },
            "type": "mesh3d"
           }
          ],
          "parcoords": [
           {
            "line": {
             "colorbar": {
              "outlinewidth": 0,
              "ticks": ""
             }
            },
            "type": "parcoords"
           }
          ],
          "pie": [
           {
            "automargin": true,
            "type": "pie"
           }
          ],
          "scatter": [
           {
            "fillpattern": {
             "fillmode": "overlay",
             "size": 10,
             "solidity": 0.2
            },
            "type": "scatter"
           }
          ],
          "scatter3d": [
           {
            "line": {
             "colorbar": {
              "outlinewidth": 0,
              "ticks": ""
             }
            },
            "marker": {
             "colorbar": {
              "outlinewidth": 0,
              "ticks": ""
             }
            },
            "type": "scatter3d"
           }
          ],
          "scattercarpet": [
           {
            "marker": {
             "colorbar": {
              "outlinewidth": 0,
              "ticks": ""
             }
            },
            "type": "scattercarpet"
           }
          ],
          "scattergeo": [
           {
            "marker": {
             "colorbar": {
              "outlinewidth": 0,
              "ticks": ""
             }
            },
            "type": "scattergeo"
           }
          ],
          "scattergl": [
           {
            "marker": {
             "colorbar": {
              "outlinewidth": 0,
              "ticks": ""
             }
            },
            "type": "scattergl"
           }
          ],
          "scattermapbox": [
           {
            "marker": {
             "colorbar": {
              "outlinewidth": 0,
              "ticks": ""
             }
            },
            "type": "scattermapbox"
           }
          ],
          "scatterpolar": [
           {
            "marker": {
             "colorbar": {
              "outlinewidth": 0,
              "ticks": ""
             }
            },
            "type": "scatterpolar"
           }
          ],
          "scatterpolargl": [
           {
            "marker": {
             "colorbar": {
              "outlinewidth": 0,
              "ticks": ""
             }
            },
            "type": "scatterpolargl"
           }
          ],
          "scatterternary": [
           {
            "marker": {
             "colorbar": {
              "outlinewidth": 0,
              "ticks": ""
             }
            },
            "type": "scatterternary"
           }
          ],
          "surface": [
           {
            "colorbar": {
             "outlinewidth": 0,
             "ticks": ""
            },
            "colorscale": [
             [
              0,
              "#0d0887"
             ],
             [
              0.1111111111111111,
              "#46039f"
             ],
             [
              0.2222222222222222,
              "#7201a8"
             ],
             [
              0.3333333333333333,
              "#9c179e"
             ],
             [
              0.4444444444444444,
              "#bd3786"
             ],
             [
              0.5555555555555556,
              "#d8576b"
             ],
             [
              0.6666666666666666,
              "#ed7953"
             ],
             [
              0.7777777777777778,
              "#fb9f3a"
             ],
             [
              0.8888888888888888,
              "#fdca26"
             ],
             [
              1,
              "#f0f921"
             ]
            ],
            "type": "surface"
           }
          ],
          "table": [
           {
            "cells": {
             "fill": {
              "color": "#EBF0F8"
             },
             "line": {
              "color": "white"
             }
            },
            "header": {
             "fill": {
              "color": "#C8D4E3"
             },
             "line": {
              "color": "white"
             }
            },
            "type": "table"
           }
          ]
         },
         "layout": {
          "annotationdefaults": {
           "arrowcolor": "#2a3f5f",
           "arrowhead": 0,
           "arrowwidth": 1
          },
          "autotypenumbers": "strict",
          "coloraxis": {
           "colorbar": {
            "outlinewidth": 0,
            "ticks": ""
           }
          },
          "colorscale": {
           "diverging": [
            [
             0,
             "#8e0152"
            ],
            [
             0.1,
             "#c51b7d"
            ],
            [
             0.2,
             "#de77ae"
            ],
            [
             0.3,
             "#f1b6da"
            ],
            [
             0.4,
             "#fde0ef"
            ],
            [
             0.5,
             "#f7f7f7"
            ],
            [
             0.6,
             "#e6f5d0"
            ],
            [
             0.7,
             "#b8e186"
            ],
            [
             0.8,
             "#7fbc41"
            ],
            [
             0.9,
             "#4d9221"
            ],
            [
             1,
             "#276419"
            ]
           ],
           "sequential": [
            [
             0,
             "#0d0887"
            ],
            [
             0.1111111111111111,
             "#46039f"
            ],
            [
             0.2222222222222222,
             "#7201a8"
            ],
            [
             0.3333333333333333,
             "#9c179e"
            ],
            [
             0.4444444444444444,
             "#bd3786"
            ],
            [
             0.5555555555555556,
             "#d8576b"
            ],
            [
             0.6666666666666666,
             "#ed7953"
            ],
            [
             0.7777777777777778,
             "#fb9f3a"
            ],
            [
             0.8888888888888888,
             "#fdca26"
            ],
            [
             1,
             "#f0f921"
            ]
           ],
           "sequentialminus": [
            [
             0,
             "#0d0887"
            ],
            [
             0.1111111111111111,
             "#46039f"
            ],
            [
             0.2222222222222222,
             "#7201a8"
            ],
            [
             0.3333333333333333,
             "#9c179e"
            ],
            [
             0.4444444444444444,
             "#bd3786"
            ],
            [
             0.5555555555555556,
             "#d8576b"
            ],
            [
             0.6666666666666666,
             "#ed7953"
            ],
            [
             0.7777777777777778,
             "#fb9f3a"
            ],
            [
             0.8888888888888888,
             "#fdca26"
            ],
            [
             1,
             "#f0f921"
            ]
           ]
          },
          "colorway": [
           "#636efa",
           "#EF553B",
           "#00cc96",
           "#ab63fa",
           "#FFA15A",
           "#19d3f3",
           "#FF6692",
           "#B6E880",
           "#FF97FF",
           "#FECB52"
          ],
          "font": {
           "color": "#2a3f5f"
          },
          "geo": {
           "bgcolor": "white",
           "lakecolor": "white",
           "landcolor": "#E5ECF6",
           "showlakes": true,
           "showland": true,
           "subunitcolor": "white"
          },
          "hoverlabel": {
           "align": "left"
          },
          "hovermode": "closest",
          "mapbox": {
           "style": "light"
          },
          "paper_bgcolor": "white",
          "plot_bgcolor": "#E5ECF6",
          "polar": {
           "angularaxis": {
            "gridcolor": "white",
            "linecolor": "white",
            "ticks": ""
           },
           "bgcolor": "#E5ECF6",
           "radialaxis": {
            "gridcolor": "white",
            "linecolor": "white",
            "ticks": ""
           }
          },
          "scene": {
           "xaxis": {
            "backgroundcolor": "#E5ECF6",
            "gridcolor": "white",
            "gridwidth": 2,
            "linecolor": "white",
            "showbackground": true,
            "ticks": "",
            "zerolinecolor": "white"
           },
           "yaxis": {
            "backgroundcolor": "#E5ECF6",
            "gridcolor": "white",
            "gridwidth": 2,
            "linecolor": "white",
            "showbackground": true,
            "ticks": "",
            "zerolinecolor": "white"
           },
           "zaxis": {
            "backgroundcolor": "#E5ECF6",
            "gridcolor": "white",
            "gridwidth": 2,
            "linecolor": "white",
            "showbackground": true,
            "ticks": "",
            "zerolinecolor": "white"
           }
          },
          "shapedefaults": {
           "line": {
            "color": "#2a3f5f"
           }
          },
          "ternary": {
           "aaxis": {
            "gridcolor": "white",
            "linecolor": "white",
            "ticks": ""
           },
           "baxis": {
            "gridcolor": "white",
            "linecolor": "white",
            "ticks": ""
           },
           "bgcolor": "#E5ECF6",
           "caxis": {
            "gridcolor": "white",
            "linecolor": "white",
            "ticks": ""
           }
          },
          "title": {
           "x": 0.05
          },
          "xaxis": {
           "automargin": true,
           "gridcolor": "white",
           "linecolor": "white",
           "ticks": "",
           "title": {
            "standoff": 15
           },
           "zerolinecolor": "white",
           "zerolinewidth": 2
          },
          "yaxis": {
           "automargin": true,
           "gridcolor": "white",
           "linecolor": "white",
           "ticks": "",
           "title": {
            "standoff": 15
           },
           "zerolinecolor": "white",
           "zerolinewidth": 2
          }
         }
        },
        "title": {
         "text": "Self-Employment Distribution"
        },
        "xaxis": {
         "anchor": "y",
         "domain": [
          0,
          1
         ],
         "title": {
          "text": "Self_Employed"
         }
        },
        "yaxis": {
         "anchor": "x",
         "domain": [
          0,
          1
         ],
         "title": {
          "text": "y"
         }
        }
       }
      }
     },
     "metadata": {},
     "output_type": "display_data"
    }
   ],
   "source": [
    "self_employed_count = df['Self_Employed'].value_counts()\n",
    "fig_self_employed = px.bar(self_employed_count, x=self_employed_count.index, y=self_employed_count.values, title='Self-Employment Distribution')\n",
    "fig_self_employed.update_traces(marker_color = 'navy')\n",
    "fig_self_employed.show()"
   ]
  },
  {
   "cell_type": "markdown",
   "metadata": {
    "id": "HM3_KA8O3iql"
   },
   "source": [
    "## *Education Distribution*"
   ]
  },
  {
   "cell_type": "code",
   "execution_count": 475,
   "metadata": {
    "colab": {
     "base_uri": "https://localhost:8080/",
     "height": 542
    },
    "id": "w5PUFwKsHUcQ",
    "outputId": "c1429a07-d35d-42b7-9220-06f093210d65"
   },
   "outputs": [
    {
     "data": {
      "application/vnd.plotly.v1+json": {
       "config": {
        "plotlyServerURL": "https://plot.ly"
       },
       "data": [
        {
         "alignmentgroup": "True",
         "bingroup": "x",
         "hovertemplate": "Education=%{x}<br>count=%{y}<extra></extra>",
         "legendgroup": "",
         "marker": {
          "color": "darkseagreen",
          "pattern": {
           "shape": ""
          }
         },
         "name": "",
         "offsetgroup": "",
         "orientation": "v",
         "showlegend": false,
         "type": "histogram",
         "x": [
          "Graduate",
          "Graduate",
          "Graduate",
          "Not Graduate",
          "Graduate",
          "Graduate",
          "Not Graduate",
          "Graduate",
          "Graduate",
          "Graduate",
          "Graduate",
          "Graduate",
          "Graduate",
          "Graduate",
          "Graduate",
          "Graduate",
          "Not Graduate",
          "Graduate",
          "Not Graduate",
          "Graduate",
          "Not Graduate",
          "Graduate",
          "Not Graduate",
          "Not Graduate",
          "Graduate",
          "Graduate",
          "Graduate",
          "Not Graduate",
          "Not Graduate",
          "Graduate",
          "Graduate",
          "Graduate",
          "Graduate",
          "Graduate",
          "Graduate",
          "Graduate",
          "Graduate",
          "Graduate",
          "Graduate",
          "Not Graduate",
          "Graduate",
          "Graduate",
          "Graduate",
          "Graduate",
          "Not Graduate",
          "Graduate",
          "Graduate",
          "Graduate",
          "Graduate",
          "Graduate",
          "Not Graduate",
          "Graduate",
          "Graduate",
          "Graduate",
          "Graduate",
          "Graduate",
          "Graduate",
          "Graduate",
          "Graduate",
          "Not Graduate",
          "Graduate",
          "Graduate",
          "Not Graduate",
          "Graduate",
          "Graduate",
          "Graduate",
          "Not Graduate",
          "Graduate",
          "Not Graduate",
          "Graduate",
          "Graduate",
          "Not Graduate",
          "Graduate",
          "Not Graduate",
          "Graduate",
          "Graduate",
          "Graduate",
          "Graduate",
          "Graduate",
          "Not Graduate",
          "Graduate",
          "Graduate",
          "Graduate",
          "Graduate",
          "Graduate",
          "Graduate",
          "Not Graduate",
          "Graduate",
          "Graduate",
          "Graduate",
          "Graduate",
          "Graduate",
          "Not Graduate",
          "Graduate",
          "Not Graduate",
          "Graduate",
          "Graduate",
          "Graduate",
          "Not Graduate",
          "Graduate",
          "Not Graduate",
          "Graduate",
          "Graduate",
          "Graduate",
          "Graduate",
          "Graduate",
          "Graduate",
          "Not Graduate",
          "Graduate",
          "Not Graduate",
          "Graduate",
          "Graduate",
          "Not Graduate",
          "Graduate",
          "Graduate",
          "Graduate",
          "Graduate",
          "Graduate",
          "Graduate",
          "Graduate",
          "Graduate",
          "Graduate",
          "Graduate",
          "Graduate",
          "Not Graduate",
          "Graduate",
          "Graduate",
          "Graduate",
          "Graduate",
          "Graduate",
          "Graduate",
          "Graduate",
          "Graduate",
          "Graduate",
          "Graduate",
          "Graduate",
          "Graduate",
          "Graduate",
          "Graduate",
          "Not Graduate",
          "Graduate",
          "Graduate",
          "Graduate",
          "Graduate",
          "Graduate",
          "Graduate",
          "Graduate",
          "Graduate",
          "Graduate",
          "Graduate",
          "Graduate",
          "Graduate",
          "Graduate",
          "Not Graduate",
          "Graduate",
          "Graduate",
          "Graduate",
          "Graduate",
          "Graduate",
          "Graduate",
          "Not Graduate",
          "Graduate",
          "Graduate",
          "Graduate",
          "Graduate",
          "Graduate",
          "Graduate",
          "Graduate",
          "Graduate",
          "Graduate",
          "Not Graduate",
          "Graduate",
          "Not Graduate",
          "Graduate",
          "Not Graduate",
          "Graduate",
          "Graduate",
          "Graduate",
          "Graduate",
          "Not Graduate",
          "Graduate",
          "Graduate",
          "Graduate",
          "Graduate",
          "Graduate",
          "Graduate",
          "Graduate",
          "Graduate",
          "Graduate",
          "Graduate",
          "Not Graduate",
          "Graduate",
          "Not Graduate",
          "Graduate",
          "Graduate",
          "Graduate",
          "Graduate",
          "Not Graduate",
          "Graduate",
          "Graduate",
          "Not Graduate",
          "Graduate",
          "Not Graduate",
          "Not Graduate",
          "Not Graduate",
          "Not Graduate",
          "Graduate",
          "Not Graduate",
          "Graduate",
          "Graduate",
          "Graduate",
          "Graduate",
          "Graduate",
          "Not Graduate",
          "Graduate",
          "Not Graduate",
          "Graduate",
          "Graduate",
          "Graduate",
          "Graduate",
          "Graduate",
          "Graduate",
          "Graduate",
          "Graduate",
          "Graduate",
          "Graduate",
          "Not Graduate",
          "Graduate",
          "Graduate",
          "Graduate",
          "Graduate",
          "Graduate",
          "Not Graduate",
          "Graduate",
          "Graduate",
          "Graduate",
          "Graduate",
          "Graduate",
          "Graduate",
          "Graduate",
          "Graduate",
          "Not Graduate",
          "Graduate",
          "Graduate",
          "Not Graduate",
          "Graduate",
          "Graduate",
          "Not Graduate",
          "Graduate",
          "Graduate",
          "Not Graduate",
          "Graduate",
          "Not Graduate",
          "Not Graduate",
          "Graduate",
          "Graduate",
          "Not Graduate",
          "Graduate",
          "Graduate",
          "Not Graduate",
          "Graduate",
          "Graduate",
          "Graduate",
          "Graduate",
          "Graduate",
          "Graduate",
          "Graduate",
          "Graduate",
          "Graduate",
          "Graduate",
          "Graduate",
          "Graduate",
          "Graduate",
          "Graduate",
          "Graduate",
          "Graduate",
          "Graduate",
          "Graduate",
          "Graduate",
          "Not Graduate",
          "Not Graduate",
          "Graduate",
          "Graduate",
          "Graduate",
          "Graduate",
          "Graduate",
          "Graduate",
          "Graduate",
          "Graduate",
          "Graduate",
          "Graduate",
          "Graduate",
          "Graduate",
          "Graduate",
          "Graduate",
          "Graduate",
          "Graduate",
          "Graduate",
          "Graduate",
          "Graduate",
          "Not Graduate",
          "Not Graduate",
          "Graduate",
          "Graduate",
          "Graduate",
          "Not Graduate",
          "Graduate",
          "Graduate",
          "Graduate",
          "Not Graduate",
          "Graduate",
          "Not Graduate",
          "Graduate",
          "Graduate",
          "Graduate",
          "Not Graduate",
          "Graduate",
          "Graduate",
          "Graduate",
          "Graduate",
          "Graduate",
          "Graduate",
          "Not Graduate",
          "Graduate",
          "Graduate",
          "Graduate",
          "Graduate",
          "Graduate",
          "Graduate",
          "Graduate",
          "Graduate",
          "Graduate",
          "Graduate",
          "Graduate",
          "Graduate",
          "Graduate",
          "Graduate",
          "Graduate",
          "Not Graduate",
          "Graduate",
          "Not Graduate",
          "Graduate",
          "Not Graduate",
          "Not Graduate",
          "Graduate",
          "Graduate",
          "Not Graduate",
          "Not Graduate",
          "Graduate",
          "Graduate",
          "Graduate",
          "Graduate",
          "Graduate",
          "Graduate",
          "Graduate",
          "Graduate",
          "Graduate",
          "Graduate",
          "Not Graduate",
          "Graduate",
          "Graduate",
          "Graduate",
          "Graduate",
          "Graduate",
          "Graduate",
          "Not Graduate",
          "Graduate",
          "Graduate",
          "Graduate",
          "Graduate",
          "Graduate",
          "Graduate",
          "Graduate",
          "Graduate",
          "Graduate",
          "Graduate",
          "Graduate",
          "Graduate",
          "Graduate",
          "Graduate",
          "Graduate",
          "Graduate",
          "Graduate",
          "Graduate",
          "Graduate",
          "Graduate",
          "Not Graduate",
          "Not Graduate",
          "Graduate",
          "Graduate",
          "Graduate",
          "Graduate",
          "Graduate",
          "Not Graduate",
          "Graduate",
          "Graduate",
          "Graduate",
          "Graduate",
          "Not Graduate",
          "Graduate",
          "Not Graduate",
          "Not Graduate",
          "Graduate",
          "Not Graduate",
          "Graduate",
          "Graduate",
          "Not Graduate",
          "Not Graduate",
          "Graduate",
          "Graduate",
          "Not Graduate",
          "Graduate",
          "Not Graduate",
          "Not Graduate",
          "Not Graduate",
          "Graduate",
          "Graduate",
          "Graduate",
          "Graduate",
          "Graduate",
          "Graduate",
          "Not Graduate",
          "Graduate",
          "Graduate",
          "Graduate",
          "Graduate",
          "Not Graduate",
          "Graduate",
          "Graduate",
          "Not Graduate",
          "Graduate",
          "Graduate",
          "Graduate",
          "Graduate",
          "Graduate",
          "Graduate",
          "Graduate",
          "Graduate",
          "Graduate",
          "Not Graduate",
          "Graduate",
          "Graduate",
          "Not Graduate",
          "Graduate",
          "Graduate",
          "Graduate",
          "Not Graduate",
          "Graduate",
          "Graduate",
          "Not Graduate",
          "Not Graduate",
          "Not Graduate",
          "Graduate",
          "Graduate",
          "Graduate",
          "Graduate",
          "Graduate",
          "Graduate",
          "Graduate",
          "Graduate",
          "Graduate",
          "Graduate",
          "Graduate",
          "Not Graduate",
          "Graduate",
          "Graduate",
          "Not Graduate",
          "Graduate",
          "Not Graduate",
          "Graduate",
          "Graduate",
          "Not Graduate",
          "Graduate",
          "Graduate",
          "Graduate",
          "Graduate",
          "Graduate",
          "Graduate",
          "Graduate",
          "Graduate",
          "Not Graduate",
          "Not Graduate",
          "Graduate",
          "Graduate",
          "Graduate",
          "Not Graduate",
          "Graduate",
          "Graduate",
          "Graduate",
          "Graduate",
          "Not Graduate",
          "Not Graduate",
          "Not Graduate",
          "Not Graduate",
          "Graduate",
          "Graduate",
          "Not Graduate",
          "Graduate",
          "Graduate",
          "Graduate",
          "Graduate",
          "Graduate",
          "Graduate",
          "Not Graduate",
          "Not Graduate",
          "Graduate",
          "Graduate",
          "Graduate",
          "Graduate",
          "Graduate",
          "Not Graduate",
          "Graduate",
          "Graduate",
          "Graduate",
          "Graduate",
          "Graduate",
          "Graduate",
          "Not Graduate",
          "Graduate",
          "Not Graduate",
          "Not Graduate",
          "Graduate",
          "Graduate",
          "Graduate",
          "Graduate",
          "Graduate",
          "Graduate",
          "Not Graduate",
          "Not Graduate",
          "Not Graduate",
          "Graduate",
          "Graduate",
          "Graduate",
          "Graduate",
          "Not Graduate",
          "Not Graduate",
          "Graduate",
          "Graduate",
          "Not Graduate",
          "Graduate",
          "Graduate",
          "Graduate",
          "Graduate",
          "Not Graduate",
          "Not Graduate",
          "Graduate",
          "Not Graduate",
          "Graduate",
          "Graduate",
          "Graduate",
          "Graduate",
          "Not Graduate",
          "Graduate",
          "Not Graduate",
          "Graduate",
          "Graduate",
          "Graduate",
          "Graduate",
          "Graduate",
          "Graduate",
          "Not Graduate",
          "Graduate",
          "Graduate",
          "Not Graduate",
          "Graduate",
          "Not Graduate",
          "Graduate",
          "Graduate",
          "Graduate",
          "Graduate",
          "Graduate",
          "Graduate",
          "Graduate",
          "Not Graduate",
          "Graduate",
          "Graduate",
          "Graduate",
          "Graduate",
          "Graduate",
          "Graduate",
          "Graduate",
          "Graduate",
          "Graduate",
          "Graduate",
          "Graduate",
          "Graduate",
          "Graduate",
          "Not Graduate",
          "Graduate",
          "Graduate",
          "Graduate",
          "Graduate",
          "Graduate",
          "Graduate",
          "Graduate",
          "Not Graduate",
          "Not Graduate",
          "Graduate",
          "Graduate",
          "Graduate",
          "Graduate",
          "Not Graduate",
          "Graduate",
          "Graduate",
          "Graduate",
          "Not Graduate",
          "Graduate",
          "Not Graduate",
          "Graduate",
          "Graduate",
          "Graduate",
          "Graduate",
          "Graduate",
          "Graduate"
         ],
         "xaxis": "x",
         "yaxis": "y"
        }
       ],
       "layout": {
        "barmode": "relative",
        "legend": {
         "tracegroupgap": 0
        },
        "template": {
         "data": {
          "bar": [
           {
            "error_x": {
             "color": "#2a3f5f"
            },
            "error_y": {
             "color": "#2a3f5f"
            },
            "marker": {
             "line": {
              "color": "#E5ECF6",
              "width": 0.5
             },
             "pattern": {
              "fillmode": "overlay",
              "size": 10,
              "solidity": 0.2
             }
            },
            "type": "bar"
           }
          ],
          "barpolar": [
           {
            "marker": {
             "line": {
              "color": "#E5ECF6",
              "width": 0.5
             },
             "pattern": {
              "fillmode": "overlay",
              "size": 10,
              "solidity": 0.2
             }
            },
            "type": "barpolar"
           }
          ],
          "carpet": [
           {
            "aaxis": {
             "endlinecolor": "#2a3f5f",
             "gridcolor": "white",
             "linecolor": "white",
             "minorgridcolor": "white",
             "startlinecolor": "#2a3f5f"
            },
            "baxis": {
             "endlinecolor": "#2a3f5f",
             "gridcolor": "white",
             "linecolor": "white",
             "minorgridcolor": "white",
             "startlinecolor": "#2a3f5f"
            },
            "type": "carpet"
           }
          ],
          "choropleth": [
           {
            "colorbar": {
             "outlinewidth": 0,
             "ticks": ""
            },
            "type": "choropleth"
           }
          ],
          "contour": [
           {
            "colorbar": {
             "outlinewidth": 0,
             "ticks": ""
            },
            "colorscale": [
             [
              0,
              "#0d0887"
             ],
             [
              0.1111111111111111,
              "#46039f"
             ],
             [
              0.2222222222222222,
              "#7201a8"
             ],
             [
              0.3333333333333333,
              "#9c179e"
             ],
             [
              0.4444444444444444,
              "#bd3786"
             ],
             [
              0.5555555555555556,
              "#d8576b"
             ],
             [
              0.6666666666666666,
              "#ed7953"
             ],
             [
              0.7777777777777778,
              "#fb9f3a"
             ],
             [
              0.8888888888888888,
              "#fdca26"
             ],
             [
              1,
              "#f0f921"
             ]
            ],
            "type": "contour"
           }
          ],
          "contourcarpet": [
           {
            "colorbar": {
             "outlinewidth": 0,
             "ticks": ""
            },
            "type": "contourcarpet"
           }
          ],
          "heatmap": [
           {
            "colorbar": {
             "outlinewidth": 0,
             "ticks": ""
            },
            "colorscale": [
             [
              0,
              "#0d0887"
             ],
             [
              0.1111111111111111,
              "#46039f"
             ],
             [
              0.2222222222222222,
              "#7201a8"
             ],
             [
              0.3333333333333333,
              "#9c179e"
             ],
             [
              0.4444444444444444,
              "#bd3786"
             ],
             [
              0.5555555555555556,
              "#d8576b"
             ],
             [
              0.6666666666666666,
              "#ed7953"
             ],
             [
              0.7777777777777778,
              "#fb9f3a"
             ],
             [
              0.8888888888888888,
              "#fdca26"
             ],
             [
              1,
              "#f0f921"
             ]
            ],
            "type": "heatmap"
           }
          ],
          "heatmapgl": [
           {
            "colorbar": {
             "outlinewidth": 0,
             "ticks": ""
            },
            "colorscale": [
             [
              0,
              "#0d0887"
             ],
             [
              0.1111111111111111,
              "#46039f"
             ],
             [
              0.2222222222222222,
              "#7201a8"
             ],
             [
              0.3333333333333333,
              "#9c179e"
             ],
             [
              0.4444444444444444,
              "#bd3786"
             ],
             [
              0.5555555555555556,
              "#d8576b"
             ],
             [
              0.6666666666666666,
              "#ed7953"
             ],
             [
              0.7777777777777778,
              "#fb9f3a"
             ],
             [
              0.8888888888888888,
              "#fdca26"
             ],
             [
              1,
              "#f0f921"
             ]
            ],
            "type": "heatmapgl"
           }
          ],
          "histogram": [
           {
            "marker": {
             "pattern": {
              "fillmode": "overlay",
              "size": 10,
              "solidity": 0.2
             }
            },
            "type": "histogram"
           }
          ],
          "histogram2d": [
           {
            "colorbar": {
             "outlinewidth": 0,
             "ticks": ""
            },
            "colorscale": [
             [
              0,
              "#0d0887"
             ],
             [
              0.1111111111111111,
              "#46039f"
             ],
             [
              0.2222222222222222,
              "#7201a8"
             ],
             [
              0.3333333333333333,
              "#9c179e"
             ],
             [
              0.4444444444444444,
              "#bd3786"
             ],
             [
              0.5555555555555556,
              "#d8576b"
             ],
             [
              0.6666666666666666,
              "#ed7953"
             ],
             [
              0.7777777777777778,
              "#fb9f3a"
             ],
             [
              0.8888888888888888,
              "#fdca26"
             ],
             [
              1,
              "#f0f921"
             ]
            ],
            "type": "histogram2d"
           }
          ],
          "histogram2dcontour": [
           {
            "colorbar": {
             "outlinewidth": 0,
             "ticks": ""
            },
            "colorscale": [
             [
              0,
              "#0d0887"
             ],
             [
              0.1111111111111111,
              "#46039f"
             ],
             [
              0.2222222222222222,
              "#7201a8"
             ],
             [
              0.3333333333333333,
              "#9c179e"
             ],
             [
              0.4444444444444444,
              "#bd3786"
             ],
             [
              0.5555555555555556,
              "#d8576b"
             ],
             [
              0.6666666666666666,
              "#ed7953"
             ],
             [
              0.7777777777777778,
              "#fb9f3a"
             ],
             [
              0.8888888888888888,
              "#fdca26"
             ],
             [
              1,
              "#f0f921"
             ]
            ],
            "type": "histogram2dcontour"
           }
          ],
          "mesh3d": [
           {
            "colorbar": {
             "outlinewidth": 0,
             "ticks": ""
            },
            "type": "mesh3d"
           }
          ],
          "parcoords": [
           {
            "line": {
             "colorbar": {
              "outlinewidth": 0,
              "ticks": ""
             }
            },
            "type": "parcoords"
           }
          ],
          "pie": [
           {
            "automargin": true,
            "type": "pie"
           }
          ],
          "scatter": [
           {
            "fillpattern": {
             "fillmode": "overlay",
             "size": 10,
             "solidity": 0.2
            },
            "type": "scatter"
           }
          ],
          "scatter3d": [
           {
            "line": {
             "colorbar": {
              "outlinewidth": 0,
              "ticks": ""
             }
            },
            "marker": {
             "colorbar": {
              "outlinewidth": 0,
              "ticks": ""
             }
            },
            "type": "scatter3d"
           }
          ],
          "scattercarpet": [
           {
            "marker": {
             "colorbar": {
              "outlinewidth": 0,
              "ticks": ""
             }
            },
            "type": "scattercarpet"
           }
          ],
          "scattergeo": [
           {
            "marker": {
             "colorbar": {
              "outlinewidth": 0,
              "ticks": ""
             }
            },
            "type": "scattergeo"
           }
          ],
          "scattergl": [
           {
            "marker": {
             "colorbar": {
              "outlinewidth": 0,
              "ticks": ""
             }
            },
            "type": "scattergl"
           }
          ],
          "scattermapbox": [
           {
            "marker": {
             "colorbar": {
              "outlinewidth": 0,
              "ticks": ""
             }
            },
            "type": "scattermapbox"
           }
          ],
          "scatterpolar": [
           {
            "marker": {
             "colorbar": {
              "outlinewidth": 0,
              "ticks": ""
             }
            },
            "type": "scatterpolar"
           }
          ],
          "scatterpolargl": [
           {
            "marker": {
             "colorbar": {
              "outlinewidth": 0,
              "ticks": ""
             }
            },
            "type": "scatterpolargl"
           }
          ],
          "scatterternary": [
           {
            "marker": {
             "colorbar": {
              "outlinewidth": 0,
              "ticks": ""
             }
            },
            "type": "scatterternary"
           }
          ],
          "surface": [
           {
            "colorbar": {
             "outlinewidth": 0,
             "ticks": ""
            },
            "colorscale": [
             [
              0,
              "#0d0887"
             ],
             [
              0.1111111111111111,
              "#46039f"
             ],
             [
              0.2222222222222222,
              "#7201a8"
             ],
             [
              0.3333333333333333,
              "#9c179e"
             ],
             [
              0.4444444444444444,
              "#bd3786"
             ],
             [
              0.5555555555555556,
              "#d8576b"
             ],
             [
              0.6666666666666666,
              "#ed7953"
             ],
             [
              0.7777777777777778,
              "#fb9f3a"
             ],
             [
              0.8888888888888888,
              "#fdca26"
             ],
             [
              1,
              "#f0f921"
             ]
            ],
            "type": "surface"
           }
          ],
          "table": [
           {
            "cells": {
             "fill": {
              "color": "#EBF0F8"
             },
             "line": {
              "color": "white"
             }
            },
            "header": {
             "fill": {
              "color": "#C8D4E3"
             },
             "line": {
              "color": "white"
             }
            },
            "type": "table"
           }
          ]
         },
         "layout": {
          "annotationdefaults": {
           "arrowcolor": "#2a3f5f",
           "arrowhead": 0,
           "arrowwidth": 1
          },
          "autotypenumbers": "strict",
          "coloraxis": {
           "colorbar": {
            "outlinewidth": 0,
            "ticks": ""
           }
          },
          "colorscale": {
           "diverging": [
            [
             0,
             "#8e0152"
            ],
            [
             0.1,
             "#c51b7d"
            ],
            [
             0.2,
             "#de77ae"
            ],
            [
             0.3,
             "#f1b6da"
            ],
            [
             0.4,
             "#fde0ef"
            ],
            [
             0.5,
             "#f7f7f7"
            ],
            [
             0.6,
             "#e6f5d0"
            ],
            [
             0.7,
             "#b8e186"
            ],
            [
             0.8,
             "#7fbc41"
            ],
            [
             0.9,
             "#4d9221"
            ],
            [
             1,
             "#276419"
            ]
           ],
           "sequential": [
            [
             0,
             "#0d0887"
            ],
            [
             0.1111111111111111,
             "#46039f"
            ],
            [
             0.2222222222222222,
             "#7201a8"
            ],
            [
             0.3333333333333333,
             "#9c179e"
            ],
            [
             0.4444444444444444,
             "#bd3786"
            ],
            [
             0.5555555555555556,
             "#d8576b"
            ],
            [
             0.6666666666666666,
             "#ed7953"
            ],
            [
             0.7777777777777778,
             "#fb9f3a"
            ],
            [
             0.8888888888888888,
             "#fdca26"
            ],
            [
             1,
             "#f0f921"
            ]
           ],
           "sequentialminus": [
            [
             0,
             "#0d0887"
            ],
            [
             0.1111111111111111,
             "#46039f"
            ],
            [
             0.2222222222222222,
             "#7201a8"
            ],
            [
             0.3333333333333333,
             "#9c179e"
            ],
            [
             0.4444444444444444,
             "#bd3786"
            ],
            [
             0.5555555555555556,
             "#d8576b"
            ],
            [
             0.6666666666666666,
             "#ed7953"
            ],
            [
             0.7777777777777778,
             "#fb9f3a"
            ],
            [
             0.8888888888888888,
             "#fdca26"
            ],
            [
             1,
             "#f0f921"
            ]
           ]
          },
          "colorway": [
           "#636efa",
           "#EF553B",
           "#00cc96",
           "#ab63fa",
           "#FFA15A",
           "#19d3f3",
           "#FF6692",
           "#B6E880",
           "#FF97FF",
           "#FECB52"
          ],
          "font": {
           "color": "#2a3f5f"
          },
          "geo": {
           "bgcolor": "white",
           "lakecolor": "white",
           "landcolor": "#E5ECF6",
           "showlakes": true,
           "showland": true,
           "subunitcolor": "white"
          },
          "hoverlabel": {
           "align": "left"
          },
          "hovermode": "closest",
          "mapbox": {
           "style": "light"
          },
          "paper_bgcolor": "white",
          "plot_bgcolor": "#E5ECF6",
          "polar": {
           "angularaxis": {
            "gridcolor": "white",
            "linecolor": "white",
            "ticks": ""
           },
           "bgcolor": "#E5ECF6",
           "radialaxis": {
            "gridcolor": "white",
            "linecolor": "white",
            "ticks": ""
           }
          },
          "scene": {
           "xaxis": {
            "backgroundcolor": "#E5ECF6",
            "gridcolor": "white",
            "gridwidth": 2,
            "linecolor": "white",
            "showbackground": true,
            "ticks": "",
            "zerolinecolor": "white"
           },
           "yaxis": {
            "backgroundcolor": "#E5ECF6",
            "gridcolor": "white",
            "gridwidth": 2,
            "linecolor": "white",
            "showbackground": true,
            "ticks": "",
            "zerolinecolor": "white"
           },
           "zaxis": {
            "backgroundcolor": "#E5ECF6",
            "gridcolor": "white",
            "gridwidth": 2,
            "linecolor": "white",
            "showbackground": true,
            "ticks": "",
            "zerolinecolor": "white"
           }
          },
          "shapedefaults": {
           "line": {
            "color": "#2a3f5f"
           }
          },
          "ternary": {
           "aaxis": {
            "gridcolor": "white",
            "linecolor": "white",
            "ticks": ""
           },
           "baxis": {
            "gridcolor": "white",
            "linecolor": "white",
            "ticks": ""
           },
           "bgcolor": "#E5ECF6",
           "caxis": {
            "gridcolor": "white",
            "linecolor": "white",
            "ticks": ""
           }
          },
          "title": {
           "x": 0.05
          },
          "xaxis": {
           "automargin": true,
           "gridcolor": "white",
           "linecolor": "white",
           "ticks": "",
           "title": {
            "standoff": 15
           },
           "zerolinecolor": "white",
           "zerolinewidth": 2
          },
          "yaxis": {
           "automargin": true,
           "gridcolor": "white",
           "linecolor": "white",
           "ticks": "",
           "title": {
            "standoff": 15
           },
           "zerolinecolor": "white",
           "zerolinewidth": 2
          }
         }
        },
        "title": {
         "text": "Education Distribution"
        },
        "xaxis": {
         "anchor": "y",
         "domain": [
          0,
          1
         ],
         "title": {
          "text": "Education"
         }
        },
        "yaxis": {
         "anchor": "x",
         "domain": [
          0,
          1
         ],
         "title": {
          "text": "count"
         }
        }
       }
      }
     },
     "metadata": {},
     "output_type": "display_data"
    }
   ],
   "source": [
    "fig_education=px.histogram(df,x='Education',title='Education Distribution',color_discrete_sequence = ['darkseagreen'])\n",
    "fig_education.show()"
   ]
  },
  {
   "cell_type": "markdown",
   "metadata": {
    "id": "T-YbZlqPvIxA"
   },
   "source": [
    "## *Distribution of the Applicant Income*"
   ]
  },
  {
   "cell_type": "code",
   "execution_count": 476,
   "metadata": {
    "colab": {
     "base_uri": "https://localhost:8080/",
     "height": 542
    },
    "id": "EV4FNanEISkc",
    "outputId": "bf397a2c-72a7-4244-9d84-783ab9850ed4"
   },
   "outputs": [
    {
     "data": {
      "application/vnd.plotly.v1+json": {
       "config": {
        "plotlyServerURL": "https://plot.ly"
       },
       "data": [
        {
         "alignmentgroup": "True",
         "bingroup": "x",
         "hovertemplate": "ApplicantIncome=%{x}<br>count=%{y}<extra></extra>",
         "legendgroup": "",
         "marker": {
          "color": "#636efa",
          "pattern": {
           "shape": ""
          }
         },
         "name": "",
         "offsetgroup": "",
         "orientation": "v",
         "showlegend": false,
         "type": "histogram",
         "x": [
          5849,
          4583,
          3000,
          2583,
          6000,
          5417,
          2333,
          3036,
          4006,
          12841,
          3200,
          2500,
          3073,
          1853,
          1299,
          4950,
          3596,
          3510,
          4887,
          2600,
          7660,
          5955,
          2600,
          3365,
          3717,
          9560,
          2799,
          4226,
          1442,
          3750,
          4166,
          3167,
          4692,
          3500,
          12500,
          2275,
          1828,
          3667,
          4166,
          3748,
          3600,
          1800,
          2400,
          3941,
          4695,
          3410,
          5649,
          5821,
          2645,
          4000,
          1928,
          3086,
          4230,
          4616,
          11500,
          2708,
          2132,
          3366,
          8080,
          3357,
          2500,
          3029,
          2609,
          4945,
          4166,
          5726,
          3200,
          10750,
          7100,
          4300,
          3208,
          1875,
          3500,
          4755,
          5266,
          3750,
          3750,
          1000,
          3167,
          3333,
          3846,
          2395,
          1378,
          6000,
          3988,
          2366,
          3333,
          2500,
          8566,
          5695,
          2958,
          6250,
          3273,
          4133,
          3620,
          6782,
          2484,
          1977,
          4188,
          1759,
          4288,
          4843,
          13650,
          4652,
          3816,
          3052,
          11417,
          7333,
          3800,
          2071,
          5316,
          2929,
          3572,
          7451,
          5050,
          14583,
          3167,
          2214,
          5568,
          10408,
          5667,
          4166,
          2137,
          2957,
          4300,
          3692,
          23803,
          3865,
          10513,
          6080,
          20166,
          2014,
          2718,
          3459,
          4895,
          4000,
          4583,
          3316,
          14999,
          4200,
          5042,
          5417,
          6950,
          2698,
          11757,
          2330,
          14866,
          1538,
          10000,
          4860,
          6277,
          2577,
          9166,
          2281,
          3254,
          39999,
          6000,
          9538,
          2980,
          4583,
          1863,
          7933,
          3089,
          4167,
          9323,
          3707,
          4583,
          2439,
          2237,
          8000,
          1820,
          51763,
          3522,
          5708,
          4344,
          3497,
          2045,
          5516,
          3750,
          2333,
          6400,
          1916,
          4600,
          33846,
          3625,
          39147,
          2178,
          2383,
          674,
          9328,
          4885,
          12000,
          6033,
          3858,
          4191,
          3125,
          8333,
          1907,
          3416,
          11000,
          2600,
          4923,
          3992,
          3500,
          3917,
          4408,
          3244,
          3975,
          2479,
          3418,
          10000,
          3430,
          7787,
          5703,
          3173,
          3850,
          150,
          3727,
          5000,
          4283,
          2221,
          4009,
          2971,
          7578,
          6250,
          3250,
          4735,
          6250,
          4758,
          6400,
          2491,
          3716,
          3189,
          8333,
          3155,
          5500,
          5746,
          3463,
          3812,
          3315,
          5819,
          2510,
          2965,
          6250,
          3406,
          6050,
          9703,
          6608,
          2882,
          1809,
          1668,
          3427,
          2583,
          2661,
          16250,
          3083,
          6045,
          5250,
          14683,
          4931,
          6083,
          2060,
          3481,
          7200,
          5166,
          4095,
          4708,
          4333,
          3418,
          2876,
          3237,
          11146,
          2833,
          2620,
          3900,
          2750,
          3993,
          3103,
          14583,
          4100,
          4053,
          3927,
          2301,
          1811,
          20667,
          3158,
          2600,
          3704,
          4124,
          9508,
          3075,
          4400,
          3153,
          5417,
          2383,
          4416,
          6875,
          4666,
          5000,
          2014,
          1800,
          2875,
          5000,
          1625,
          4000,
          2000,
          3762,
          2400,
          20233,
          7667,
          2917,
          2927,
          2507,
          5746,
          2473,
          3399,
          3717,
          2058,
          3541,
          10000,
          2400,
          4342,
          3601,
          3166,
          15000,
          8666,
          4917,
          5818,
          4333,
          2500,
          4384,
          2935,
          2833,
          63337,
          9833,
          5503,
          5250,
          2500,
          1830,
          4160,
          2647,
          2378,
          4554,
          3173,
          2583,
          2499,
          3523,
          3083,
          6333,
          2625,
          9083,
          8750,
          2666,
          5500,
          2423,
          3813,
          8333,
          3875,
          3000,
          5167,
          4723,
          5000,
          4750,
          3013,
          6822,
          6216,
          2500,
          5124,
          6325,
          19730,
          15759,
          5185,
          9323,
          3062,
          2764,
          4817,
          8750,
          4310,
          3069,
          5391,
          3333,
          5941,
          6000,
          7167,
          4566,
          3667,
          2346,
          3010,
          2333,
          5488,
          9167,
          9504,
          2583,
          1993,
          3100,
          3276,
          3180,
          3033,
          3902,
          1500,
          2889,
          2755,
          2500,
          1963,
          7441,
          4547,
          2167,
          2213,
          8300,
          81000,
          3867,
          6256,
          6096,
          2253,
          2149,
          2995,
          2600,
          1600,
          1025,
          3246,
          5829,
          2720,
          1820,
          7250,
          14880,
          2666,
          4606,
          5935,
          2920,
          2717,
          8624,
          6500,
          12876,
          2425,
          3750,
          10047,
          1926,
          2213,
          10416,
          7142,
          3660,
          7901,
          4707,
          37719,
          7333,
          3466,
          4652,
          3539,
          3340,
          2769,
          2309,
          1958,
          3948,
          2483,
          7085,
          3859,
          4301,
          3708,
          4354,
          8334,
          2083,
          7740,
          3015,
          5191,
          4166,
          6000,
          2947,
          16692,
          210,
          4333,
          3450,
          2653,
          4691,
          2500,
          5532,
          16525,
          6700,
          2873,
          16667,
          2947,
          4350,
          3095,
          2083,
          10833,
          8333,
          1958,
          3547,
          18333,
          4583,
          2435,
          2699,
          5333,
          3691,
          17263,
          3597,
          3326,
          2600,
          4625,
          2895,
          6283,
          645,
          3159,
          4865,
          4050,
          3814,
          3510,
          20833,
          3583,
          2479,
          13262,
          3598,
          6065,
          3283,
          2130,
          5815,
          3466,
          2031,
          3074,
          4683,
          3400,
          2192,
          2500,
          5677,
          7948,
          4680,
          17500,
          3775,
          5285,
          2679,
          6783,
          1025,
          4281,
          3588,
          11250,
          18165,
          2550,
          6133,
          3617,
          2917,
          6417,
          4608,
          2138,
          3652,
          2239,
          3017,
          2768,
          3358,
          2526,
          5000,
          2785,
          6633,
          2492,
          3333,
          2454,
          3593,
          5468,
          2667,
          10139,
          3887,
          4180,
          3675,
          19484,
          5923,
          5800,
          8799,
          4467,
          3333,
          3400,
          2378,
          3166,
          3417,
          5116,
          16666,
          6125,
          6406,
          3159,
          3087,
          3229,
          1782,
          3182,
          6540,
          1836,
          3166,
          1880,
          2787,
          4283,
          2297,
          2165,
          4750,
          2726,
          3000,
          6000,
          9357,
          3859,
          16120,
          3833,
          6383,
          2987,
          9963,
          5780,
          416,
          2894,
          5703,
          3676,
          12000,
          2400,
          3400,
          3987,
          3232,
          2900,
          4106,
          8072,
          7583,
          4583
         ],
         "xaxis": "x",
         "yaxis": "y"
        }
       ],
       "layout": {
        "barmode": "relative",
        "legend": {
         "tracegroupgap": 0
        },
        "template": {
         "data": {
          "bar": [
           {
            "error_x": {
             "color": "#2a3f5f"
            },
            "error_y": {
             "color": "#2a3f5f"
            },
            "marker": {
             "line": {
              "color": "#E5ECF6",
              "width": 0.5
             },
             "pattern": {
              "fillmode": "overlay",
              "size": 10,
              "solidity": 0.2
             }
            },
            "type": "bar"
           }
          ],
          "barpolar": [
           {
            "marker": {
             "line": {
              "color": "#E5ECF6",
              "width": 0.5
             },
             "pattern": {
              "fillmode": "overlay",
              "size": 10,
              "solidity": 0.2
             }
            },
            "type": "barpolar"
           }
          ],
          "carpet": [
           {
            "aaxis": {
             "endlinecolor": "#2a3f5f",
             "gridcolor": "white",
             "linecolor": "white",
             "minorgridcolor": "white",
             "startlinecolor": "#2a3f5f"
            },
            "baxis": {
             "endlinecolor": "#2a3f5f",
             "gridcolor": "white",
             "linecolor": "white",
             "minorgridcolor": "white",
             "startlinecolor": "#2a3f5f"
            },
            "type": "carpet"
           }
          ],
          "choropleth": [
           {
            "colorbar": {
             "outlinewidth": 0,
             "ticks": ""
            },
            "type": "choropleth"
           }
          ],
          "contour": [
           {
            "colorbar": {
             "outlinewidth": 0,
             "ticks": ""
            },
            "colorscale": [
             [
              0,
              "#0d0887"
             ],
             [
              0.1111111111111111,
              "#46039f"
             ],
             [
              0.2222222222222222,
              "#7201a8"
             ],
             [
              0.3333333333333333,
              "#9c179e"
             ],
             [
              0.4444444444444444,
              "#bd3786"
             ],
             [
              0.5555555555555556,
              "#d8576b"
             ],
             [
              0.6666666666666666,
              "#ed7953"
             ],
             [
              0.7777777777777778,
              "#fb9f3a"
             ],
             [
              0.8888888888888888,
              "#fdca26"
             ],
             [
              1,
              "#f0f921"
             ]
            ],
            "type": "contour"
           }
          ],
          "contourcarpet": [
           {
            "colorbar": {
             "outlinewidth": 0,
             "ticks": ""
            },
            "type": "contourcarpet"
           }
          ],
          "heatmap": [
           {
            "colorbar": {
             "outlinewidth": 0,
             "ticks": ""
            },
            "colorscale": [
             [
              0,
              "#0d0887"
             ],
             [
              0.1111111111111111,
              "#46039f"
             ],
             [
              0.2222222222222222,
              "#7201a8"
             ],
             [
              0.3333333333333333,
              "#9c179e"
             ],
             [
              0.4444444444444444,
              "#bd3786"
             ],
             [
              0.5555555555555556,
              "#d8576b"
             ],
             [
              0.6666666666666666,
              "#ed7953"
             ],
             [
              0.7777777777777778,
              "#fb9f3a"
             ],
             [
              0.8888888888888888,
              "#fdca26"
             ],
             [
              1,
              "#f0f921"
             ]
            ],
            "type": "heatmap"
           }
          ],
          "heatmapgl": [
           {
            "colorbar": {
             "outlinewidth": 0,
             "ticks": ""
            },
            "colorscale": [
             [
              0,
              "#0d0887"
             ],
             [
              0.1111111111111111,
              "#46039f"
             ],
             [
              0.2222222222222222,
              "#7201a8"
             ],
             [
              0.3333333333333333,
              "#9c179e"
             ],
             [
              0.4444444444444444,
              "#bd3786"
             ],
             [
              0.5555555555555556,
              "#d8576b"
             ],
             [
              0.6666666666666666,
              "#ed7953"
             ],
             [
              0.7777777777777778,
              "#fb9f3a"
             ],
             [
              0.8888888888888888,
              "#fdca26"
             ],
             [
              1,
              "#f0f921"
             ]
            ],
            "type": "heatmapgl"
           }
          ],
          "histogram": [
           {
            "marker": {
             "pattern": {
              "fillmode": "overlay",
              "size": 10,
              "solidity": 0.2
             }
            },
            "type": "histogram"
           }
          ],
          "histogram2d": [
           {
            "colorbar": {
             "outlinewidth": 0,
             "ticks": ""
            },
            "colorscale": [
             [
              0,
              "#0d0887"
             ],
             [
              0.1111111111111111,
              "#46039f"
             ],
             [
              0.2222222222222222,
              "#7201a8"
             ],
             [
              0.3333333333333333,
              "#9c179e"
             ],
             [
              0.4444444444444444,
              "#bd3786"
             ],
             [
              0.5555555555555556,
              "#d8576b"
             ],
             [
              0.6666666666666666,
              "#ed7953"
             ],
             [
              0.7777777777777778,
              "#fb9f3a"
             ],
             [
              0.8888888888888888,
              "#fdca26"
             ],
             [
              1,
              "#f0f921"
             ]
            ],
            "type": "histogram2d"
           }
          ],
          "histogram2dcontour": [
           {
            "colorbar": {
             "outlinewidth": 0,
             "ticks": ""
            },
            "colorscale": [
             [
              0,
              "#0d0887"
             ],
             [
              0.1111111111111111,
              "#46039f"
             ],
             [
              0.2222222222222222,
              "#7201a8"
             ],
             [
              0.3333333333333333,
              "#9c179e"
             ],
             [
              0.4444444444444444,
              "#bd3786"
             ],
             [
              0.5555555555555556,
              "#d8576b"
             ],
             [
              0.6666666666666666,
              "#ed7953"
             ],
             [
              0.7777777777777778,
              "#fb9f3a"
             ],
             [
              0.8888888888888888,
              "#fdca26"
             ],
             [
              1,
              "#f0f921"
             ]
            ],
            "type": "histogram2dcontour"
           }
          ],
          "mesh3d": [
           {
            "colorbar": {
             "outlinewidth": 0,
             "ticks": ""
            },
            "type": "mesh3d"
           }
          ],
          "parcoords": [
           {
            "line": {
             "colorbar": {
              "outlinewidth": 0,
              "ticks": ""
             }
            },
            "type": "parcoords"
           }
          ],
          "pie": [
           {
            "automargin": true,
            "type": "pie"
           }
          ],
          "scatter": [
           {
            "fillpattern": {
             "fillmode": "overlay",
             "size": 10,
             "solidity": 0.2
            },
            "type": "scatter"
           }
          ],
          "scatter3d": [
           {
            "line": {
             "colorbar": {
              "outlinewidth": 0,
              "ticks": ""
             }
            },
            "marker": {
             "colorbar": {
              "outlinewidth": 0,
              "ticks": ""
             }
            },
            "type": "scatter3d"
           }
          ],
          "scattercarpet": [
           {
            "marker": {
             "colorbar": {
              "outlinewidth": 0,
              "ticks": ""
             }
            },
            "type": "scattercarpet"
           }
          ],
          "scattergeo": [
           {
            "marker": {
             "colorbar": {
              "outlinewidth": 0,
              "ticks": ""
             }
            },
            "type": "scattergeo"
           }
          ],
          "scattergl": [
           {
            "marker": {
             "colorbar": {
              "outlinewidth": 0,
              "ticks": ""
             }
            },
            "type": "scattergl"
           }
          ],
          "scattermapbox": [
           {
            "marker": {
             "colorbar": {
              "outlinewidth": 0,
              "ticks": ""
             }
            },
            "type": "scattermapbox"
           }
          ],
          "scatterpolar": [
           {
            "marker": {
             "colorbar": {
              "outlinewidth": 0,
              "ticks": ""
             }
            },
            "type": "scatterpolar"
           }
          ],
          "scatterpolargl": [
           {
            "marker": {
             "colorbar": {
              "outlinewidth": 0,
              "ticks": ""
             }
            },
            "type": "scatterpolargl"
           }
          ],
          "scatterternary": [
           {
            "marker": {
             "colorbar": {
              "outlinewidth": 0,
              "ticks": ""
             }
            },
            "type": "scatterternary"
           }
          ],
          "surface": [
           {
            "colorbar": {
             "outlinewidth": 0,
             "ticks": ""
            },
            "colorscale": [
             [
              0,
              "#0d0887"
             ],
             [
              0.1111111111111111,
              "#46039f"
             ],
             [
              0.2222222222222222,
              "#7201a8"
             ],
             [
              0.3333333333333333,
              "#9c179e"
             ],
             [
              0.4444444444444444,
              "#bd3786"
             ],
             [
              0.5555555555555556,
              "#d8576b"
             ],
             [
              0.6666666666666666,
              "#ed7953"
             ],
             [
              0.7777777777777778,
              "#fb9f3a"
             ],
             [
              0.8888888888888888,
              "#fdca26"
             ],
             [
              1,
              "#f0f921"
             ]
            ],
            "type": "surface"
           }
          ],
          "table": [
           {
            "cells": {
             "fill": {
              "color": "#EBF0F8"
             },
             "line": {
              "color": "white"
             }
            },
            "header": {
             "fill": {
              "color": "#C8D4E3"
             },
             "line": {
              "color": "white"
             }
            },
            "type": "table"
           }
          ]
         },
         "layout": {
          "annotationdefaults": {
           "arrowcolor": "#2a3f5f",
           "arrowhead": 0,
           "arrowwidth": 1
          },
          "autotypenumbers": "strict",
          "coloraxis": {
           "colorbar": {
            "outlinewidth": 0,
            "ticks": ""
           }
          },
          "colorscale": {
           "diverging": [
            [
             0,
             "#8e0152"
            ],
            [
             0.1,
             "#c51b7d"
            ],
            [
             0.2,
             "#de77ae"
            ],
            [
             0.3,
             "#f1b6da"
            ],
            [
             0.4,
             "#fde0ef"
            ],
            [
             0.5,
             "#f7f7f7"
            ],
            [
             0.6,
             "#e6f5d0"
            ],
            [
             0.7,
             "#b8e186"
            ],
            [
             0.8,
             "#7fbc41"
            ],
            [
             0.9,
             "#4d9221"
            ],
            [
             1,
             "#276419"
            ]
           ],
           "sequential": [
            [
             0,
             "#0d0887"
            ],
            [
             0.1111111111111111,
             "#46039f"
            ],
            [
             0.2222222222222222,
             "#7201a8"
            ],
            [
             0.3333333333333333,
             "#9c179e"
            ],
            [
             0.4444444444444444,
             "#bd3786"
            ],
            [
             0.5555555555555556,
             "#d8576b"
            ],
            [
             0.6666666666666666,
             "#ed7953"
            ],
            [
             0.7777777777777778,
             "#fb9f3a"
            ],
            [
             0.8888888888888888,
             "#fdca26"
            ],
            [
             1,
             "#f0f921"
            ]
           ],
           "sequentialminus": [
            [
             0,
             "#0d0887"
            ],
            [
             0.1111111111111111,
             "#46039f"
            ],
            [
             0.2222222222222222,
             "#7201a8"
            ],
            [
             0.3333333333333333,
             "#9c179e"
            ],
            [
             0.4444444444444444,
             "#bd3786"
            ],
            [
             0.5555555555555556,
             "#d8576b"
            ],
            [
             0.6666666666666666,
             "#ed7953"
            ],
            [
             0.7777777777777778,
             "#fb9f3a"
            ],
            [
             0.8888888888888888,
             "#fdca26"
            ],
            [
             1,
             "#f0f921"
            ]
           ]
          },
          "colorway": [
           "#636efa",
           "#EF553B",
           "#00cc96",
           "#ab63fa",
           "#FFA15A",
           "#19d3f3",
           "#FF6692",
           "#B6E880",
           "#FF97FF",
           "#FECB52"
          ],
          "font": {
           "color": "#2a3f5f"
          },
          "geo": {
           "bgcolor": "white",
           "lakecolor": "white",
           "landcolor": "#E5ECF6",
           "showlakes": true,
           "showland": true,
           "subunitcolor": "white"
          },
          "hoverlabel": {
           "align": "left"
          },
          "hovermode": "closest",
          "mapbox": {
           "style": "light"
          },
          "paper_bgcolor": "white",
          "plot_bgcolor": "#E5ECF6",
          "polar": {
           "angularaxis": {
            "gridcolor": "white",
            "linecolor": "white",
            "ticks": ""
           },
           "bgcolor": "#E5ECF6",
           "radialaxis": {
            "gridcolor": "white",
            "linecolor": "white",
            "ticks": ""
           }
          },
          "scene": {
           "xaxis": {
            "backgroundcolor": "#E5ECF6",
            "gridcolor": "white",
            "gridwidth": 2,
            "linecolor": "white",
            "showbackground": true,
            "ticks": "",
            "zerolinecolor": "white"
           },
           "yaxis": {
            "backgroundcolor": "#E5ECF6",
            "gridcolor": "white",
            "gridwidth": 2,
            "linecolor": "white",
            "showbackground": true,
            "ticks": "",
            "zerolinecolor": "white"
           },
           "zaxis": {
            "backgroundcolor": "#E5ECF6",
            "gridcolor": "white",
            "gridwidth": 2,
            "linecolor": "white",
            "showbackground": true,
            "ticks": "",
            "zerolinecolor": "white"
           }
          },
          "shapedefaults": {
           "line": {
            "color": "#2a3f5f"
           }
          },
          "ternary": {
           "aaxis": {
            "gridcolor": "white",
            "linecolor": "white",
            "ticks": ""
           },
           "baxis": {
            "gridcolor": "white",
            "linecolor": "white",
            "ticks": ""
           },
           "bgcolor": "#E5ECF6",
           "caxis": {
            "gridcolor": "white",
            "linecolor": "white",
            "ticks": ""
           }
          },
          "title": {
           "x": 0.05
          },
          "xaxis": {
           "automargin": true,
           "gridcolor": "white",
           "linecolor": "white",
           "ticks": "",
           "title": {
            "standoff": 15
           },
           "zerolinecolor": "white",
           "zerolinewidth": 2
          },
          "yaxis": {
           "automargin": true,
           "gridcolor": "white",
           "linecolor": "white",
           "ticks": "",
           "title": {
            "standoff": 15
           },
           "zerolinecolor": "white",
           "zerolinewidth": 2
          }
         }
        },
        "title": {
         "text": "Applicant Income Distribution"
        },
        "xaxis": {
         "anchor": "y",
         "domain": [
          0,
          1
         ],
         "title": {
          "text": "ApplicantIncome"
         }
        },
        "yaxis": {
         "anchor": "x",
         "domain": [
          0,
          1
         ],
         "title": {
          "text": "count"
         }
        }
       }
      }
     },
     "metadata": {},
     "output_type": "display_data"
    }
   ],
   "source": [
    "fig_applicant_income = px.histogram(df, x='ApplicantIncome', title='Applicant Income Distribution')\n",
    "fig_applicant_income.show()"
   ]
  },
  {
   "cell_type": "markdown",
   "metadata": {
    "id": "oioxAI4J8Srv"
   },
   "source": [
    "## *Distribution of Coapplicant Income*"
   ]
  },
  {
   "cell_type": "code",
   "execution_count": 477,
   "metadata": {},
   "outputs": [
    {
     "data": {
      "application/vnd.plotly.v1+json": {
       "config": {
        "plotlyServerURL": "https://plot.ly"
       },
       "data": [
        {
         "alignmentgroup": "True",
         "bingroup": "x",
         "hovertemplate": "CoapplicantIncome=%{x}<br>count=%{y}<extra></extra>",
         "legendgroup": "",
         "marker": {
          "color": "#636efa",
          "pattern": {
           "shape": ""
          }
         },
         "name": "",
         "offsetgroup": "",
         "orientation": "v",
         "showlegend": false,
         "type": "histogram",
         "x": [
          0,
          1508,
          0,
          2358,
          0,
          4196,
          1516,
          2504,
          1526,
          10968,
          700,
          1840,
          8106,
          2840,
          1086,
          0,
          0,
          0,
          0,
          3500,
          0,
          5625,
          1911,
          1917,
          2925,
          0,
          2253,
          1040,
          0,
          2083,
          3369,
          0,
          0,
          1667,
          3000,
          2067,
          1330,
          1459,
          7210,
          1668,
          0,
          1213,
          0,
          2336,
          0,
          0,
          0,
          0,
          3440,
          2275,
          1644,
          0,
          0,
          0,
          0,
          1167,
          1591,
          2200,
          2250,
          2859,
          3796,
          0,
          3449,
          0,
          0,
          4595,
          2254,
          0,
          0,
          0,
          3066,
          1875,
          0,
          0,
          1774,
          0,
          4750,
          3022,
          4000,
          2166,
          0,
          0,
          1881,
          2250,
          0,
          2531,
          2000,
          2118,
          0,
          4167,
          2900,
          5654,
          1820,
          0,
          0,
          0,
          2302,
          997,
          0,
          3541,
          3263,
          3806,
          0,
          3583,
          754,
          1030,
          1126,
          0,
          3600,
          754,
          0,
          2333,
          4114,
          0,
          0,
          0,
          2283,
          1398,
          2142,
          0,
          2667,
          0,
          8980,
          0,
          2014,
          0,
          0,
          1640,
          3850,
          2569,
          0,
          1929,
          0,
          0,
          0,
          7750,
          0,
          3500,
          0,
          1430,
          2083,
          0,
          0,
          2034,
          0,
          4486,
          0,
          1425,
          1666,
          830,
          0,
          3750,
          0,
          0,
          0,
          0,
          0,
          0,
          2083,
          5625,
          1041,
          0,
          1280,
          1447,
          0,
          3166,
          0,
          3333,
          0,
          0,
          1769,
          0,
          0,
          5625,
          736,
          1964,
          1619,
          11300,
          0,
          1451,
          7250,
          5063,
          0,
          0,
          0,
          4750,
          0,
          2138,
          5296,
          0,
          0,
          0,
          0,
          0,
          0,
          2583,
          3750,
          2365,
          2816,
          0,
          2500,
          0,
          0,
          1083,
          0,
          0,
          0,
          2531,
          0,
          0,
          0,
          1250,
          0,
          0,
          3021,
          983,
          1800,
          1775,
          0,
          2383,
          0,
          1717,
          2791,
          1010,
          0,
          0,
          0,
          1695,
          0,
          0,
          2054,
          0,
          2598,
          0,
          1779,
          1260,
          0,
          0,
          0,
          0,
          5000,
          1983,
          5701,
          1300,
          4417,
          4333,
          0,
          0,
          1843,
          1868,
          3890,
          0,
          2167,
          7101,
          0,
          0,
          0,
          0,
          2100,
          0,
          4250,
          2209,
          0,
          0,
          0,
          3447,
          1387,
          1811,
          0,
          1560,
          0,
          0,
          1857,
          2223,
          0,
          1842,
          3274,
          1300,
          0,
          0,
          2426,
          800,
          985.7999878,
          1666,
          0,
          3053,
          1717,
          2000,
          0,
          0,
          2416,
          0,
          1560,
          0,
          3334,
          1250,
          0,
          0,
          2541,
          2925,
          2934,
          1750,
          0,
          1803,
          2500,
          0,
          1666,
          1863,
          0,
          0,
          0,
          2405,
          0,
          0,
          1843,
          1640,
          0,
          2134,
          0,
          0,
          2167,
          189,
          1590,
          2985,
          0,
          4983,
          0,
          2160,
          2451,
          0,
          1793,
          0,
          0,
          0,
          1833,
          4490,
          688,
          4600,
          0,
          0,
          1587,
          0,
          1229,
          0,
          2330,
          2458,
          3230,
          2168,
          4583,
          6250,
          0,
          4167,
          2083,
          0,
          505,
          0,
          3167,
          0,
          1666,
          3167,
          0,
          3667,
          2333,
          3033,
          0,
          0,
          0,
          0,
          0,
          5266,
          0,
          0,
          7873,
          1987,
          1459,
          923,
          4996,
          0,
          0,
          0,
          2500,
          4232,
          0,
          0,
          0,
          0,
          1600,
          3136,
          2417,
          0,
          0,
          0,
          2115,
          1625,
          1400,
          484,
          0,
          1459,
          1666,
          1800,
          0,
          0,
          20000,
          0,
          0,
          0,
          2400,
          0,
          0,
          0,
          0,
          0,
          0,
          2033,
          3237,
          0,
          0,
          20000,
          2773,
          1417,
          0,
          0,
          1719,
          1667,
          0,
          4300,
          0,
          0,
          16.12000084,
          0,
          0,
          0,
          0,
          2340,
          0,
          0,
          1851,
          1125,
          0,
          0,
          5064,
          1833,
          1993,
          0,
          8333,
          1210,
          0,
          1376,
          1710,
          1542,
          1255,
          1456,
          1733,
          2466,
          0,
          0,
          0,
          2569,
          0,
          0,
          4083,
          0,
          2188,
          0,
          0,
          0,
          1664,
          0,
          2917,
          2451,
          2079,
          1500,
          0,
          0,
          4648,
          1014,
          1750,
          1872,
          2250,
          1603,
          0,
          0,
          3150,
          0,
          0,
          2436,
          0,
          0,
          2083,
          0,
          2785,
          1131,
          0,
          0,
          2157,
          913,
          1700,
          2857,
          0,
          4416,
          3683,
          0,
          5624,
          5302,
          1483,
          4416,
          6667,
          0,
          3013,
          0,
          1287,
          2004,
          2035,
          6666,
          3666,
          3428,
          1632,
          1800,
          1915,
          0,
          1742,
          0,
          1424,
          7166,
          2087,
          0,
          0,
          1430,
          1302,
          0,
          5500,
          0,
          0,
          0,
          0,
          2042,
          3906,
          0,
          536,
          0,
          2845,
          0,
          0,
          2524,
          663,
          1950,
          0,
          1783,
          0,
          2016,
          0,
          2375,
          3250,
          2333,
          4266,
          1032,
          1625,
          0,
          2669,
          2306,
          242,
          0,
          2054,
          0,
          0,
          0,
          0,
          2500,
          0,
          2064,
          1750,
          1451,
          0,
          1625,
          0,
          461,
          2210,
          2739,
          2232,
          2917,
          0,
          33837,
          0,
          0,
          1917,
          3000,
          1522,
          0,
          0,
          0,
          3416,
          0,
          0,
          3300,
          0,
          0,
          1000,
          0,
          0,
          0,
          41667,
          2792,
          0,
          4301,
          0,
          3800,
          2500,
          1411,
          1950,
          0,
          0,
          240,
          0,
          0
         ],
         "xaxis": "x",
         "yaxis": "y"
        }
       ],
       "layout": {
        "barmode": "relative",
        "legend": {
         "tracegroupgap": 0
        },
        "template": {
         "data": {
          "bar": [
           {
            "error_x": {
             "color": "#2a3f5f"
            },
            "error_y": {
             "color": "#2a3f5f"
            },
            "marker": {
             "line": {
              "color": "#E5ECF6",
              "width": 0.5
             },
             "pattern": {
              "fillmode": "overlay",
              "size": 10,
              "solidity": 0.2
             }
            },
            "type": "bar"
           }
          ],
          "barpolar": [
           {
            "marker": {
             "line": {
              "color": "#E5ECF6",
              "width": 0.5
             },
             "pattern": {
              "fillmode": "overlay",
              "size": 10,
              "solidity": 0.2
             }
            },
            "type": "barpolar"
           }
          ],
          "carpet": [
           {
            "aaxis": {
             "endlinecolor": "#2a3f5f",
             "gridcolor": "white",
             "linecolor": "white",
             "minorgridcolor": "white",
             "startlinecolor": "#2a3f5f"
            },
            "baxis": {
             "endlinecolor": "#2a3f5f",
             "gridcolor": "white",
             "linecolor": "white",
             "minorgridcolor": "white",
             "startlinecolor": "#2a3f5f"
            },
            "type": "carpet"
           }
          ],
          "choropleth": [
           {
            "colorbar": {
             "outlinewidth": 0,
             "ticks": ""
            },
            "type": "choropleth"
           }
          ],
          "contour": [
           {
            "colorbar": {
             "outlinewidth": 0,
             "ticks": ""
            },
            "colorscale": [
             [
              0,
              "#0d0887"
             ],
             [
              0.1111111111111111,
              "#46039f"
             ],
             [
              0.2222222222222222,
              "#7201a8"
             ],
             [
              0.3333333333333333,
              "#9c179e"
             ],
             [
              0.4444444444444444,
              "#bd3786"
             ],
             [
              0.5555555555555556,
              "#d8576b"
             ],
             [
              0.6666666666666666,
              "#ed7953"
             ],
             [
              0.7777777777777778,
              "#fb9f3a"
             ],
             [
              0.8888888888888888,
              "#fdca26"
             ],
             [
              1,
              "#f0f921"
             ]
            ],
            "type": "contour"
           }
          ],
          "contourcarpet": [
           {
            "colorbar": {
             "outlinewidth": 0,
             "ticks": ""
            },
            "type": "contourcarpet"
           }
          ],
          "heatmap": [
           {
            "colorbar": {
             "outlinewidth": 0,
             "ticks": ""
            },
            "colorscale": [
             [
              0,
              "#0d0887"
             ],
             [
              0.1111111111111111,
              "#46039f"
             ],
             [
              0.2222222222222222,
              "#7201a8"
             ],
             [
              0.3333333333333333,
              "#9c179e"
             ],
             [
              0.4444444444444444,
              "#bd3786"
             ],
             [
              0.5555555555555556,
              "#d8576b"
             ],
             [
              0.6666666666666666,
              "#ed7953"
             ],
             [
              0.7777777777777778,
              "#fb9f3a"
             ],
             [
              0.8888888888888888,
              "#fdca26"
             ],
             [
              1,
              "#f0f921"
             ]
            ],
            "type": "heatmap"
           }
          ],
          "heatmapgl": [
           {
            "colorbar": {
             "outlinewidth": 0,
             "ticks": ""
            },
            "colorscale": [
             [
              0,
              "#0d0887"
             ],
             [
              0.1111111111111111,
              "#46039f"
             ],
             [
              0.2222222222222222,
              "#7201a8"
             ],
             [
              0.3333333333333333,
              "#9c179e"
             ],
             [
              0.4444444444444444,
              "#bd3786"
             ],
             [
              0.5555555555555556,
              "#d8576b"
             ],
             [
              0.6666666666666666,
              "#ed7953"
             ],
             [
              0.7777777777777778,
              "#fb9f3a"
             ],
             [
              0.8888888888888888,
              "#fdca26"
             ],
             [
              1,
              "#f0f921"
             ]
            ],
            "type": "heatmapgl"
           }
          ],
          "histogram": [
           {
            "marker": {
             "pattern": {
              "fillmode": "overlay",
              "size": 10,
              "solidity": 0.2
             }
            },
            "type": "histogram"
           }
          ],
          "histogram2d": [
           {
            "colorbar": {
             "outlinewidth": 0,
             "ticks": ""
            },
            "colorscale": [
             [
              0,
              "#0d0887"
             ],
             [
              0.1111111111111111,
              "#46039f"
             ],
             [
              0.2222222222222222,
              "#7201a8"
             ],
             [
              0.3333333333333333,
              "#9c179e"
             ],
             [
              0.4444444444444444,
              "#bd3786"
             ],
             [
              0.5555555555555556,
              "#d8576b"
             ],
             [
              0.6666666666666666,
              "#ed7953"
             ],
             [
              0.7777777777777778,
              "#fb9f3a"
             ],
             [
              0.8888888888888888,
              "#fdca26"
             ],
             [
              1,
              "#f0f921"
             ]
            ],
            "type": "histogram2d"
           }
          ],
          "histogram2dcontour": [
           {
            "colorbar": {
             "outlinewidth": 0,
             "ticks": ""
            },
            "colorscale": [
             [
              0,
              "#0d0887"
             ],
             [
              0.1111111111111111,
              "#46039f"
             ],
             [
              0.2222222222222222,
              "#7201a8"
             ],
             [
              0.3333333333333333,
              "#9c179e"
             ],
             [
              0.4444444444444444,
              "#bd3786"
             ],
             [
              0.5555555555555556,
              "#d8576b"
             ],
             [
              0.6666666666666666,
              "#ed7953"
             ],
             [
              0.7777777777777778,
              "#fb9f3a"
             ],
             [
              0.8888888888888888,
              "#fdca26"
             ],
             [
              1,
              "#f0f921"
             ]
            ],
            "type": "histogram2dcontour"
           }
          ],
          "mesh3d": [
           {
            "colorbar": {
             "outlinewidth": 0,
             "ticks": ""
            },
            "type": "mesh3d"
           }
          ],
          "parcoords": [
           {
            "line": {
             "colorbar": {
              "outlinewidth": 0,
              "ticks": ""
             }
            },
            "type": "parcoords"
           }
          ],
          "pie": [
           {
            "automargin": true,
            "type": "pie"
           }
          ],
          "scatter": [
           {
            "fillpattern": {
             "fillmode": "overlay",
             "size": 10,
             "solidity": 0.2
            },
            "type": "scatter"
           }
          ],
          "scatter3d": [
           {
            "line": {
             "colorbar": {
              "outlinewidth": 0,
              "ticks": ""
             }
            },
            "marker": {
             "colorbar": {
              "outlinewidth": 0,
              "ticks": ""
             }
            },
            "type": "scatter3d"
           }
          ],
          "scattercarpet": [
           {
            "marker": {
             "colorbar": {
              "outlinewidth": 0,
              "ticks": ""
             }
            },
            "type": "scattercarpet"
           }
          ],
          "scattergeo": [
           {
            "marker": {
             "colorbar": {
              "outlinewidth": 0,
              "ticks": ""
             }
            },
            "type": "scattergeo"
           }
          ],
          "scattergl": [
           {
            "marker": {
             "colorbar": {
              "outlinewidth": 0,
              "ticks": ""
             }
            },
            "type": "scattergl"
           }
          ],
          "scattermapbox": [
           {
            "marker": {
             "colorbar": {
              "outlinewidth": 0,
              "ticks": ""
             }
            },
            "type": "scattermapbox"
           }
          ],
          "scatterpolar": [
           {
            "marker": {
             "colorbar": {
              "outlinewidth": 0,
              "ticks": ""
             }
            },
            "type": "scatterpolar"
           }
          ],
          "scatterpolargl": [
           {
            "marker": {
             "colorbar": {
              "outlinewidth": 0,
              "ticks": ""
             }
            },
            "type": "scatterpolargl"
           }
          ],
          "scatterternary": [
           {
            "marker": {
             "colorbar": {
              "outlinewidth": 0,
              "ticks": ""
             }
            },
            "type": "scatterternary"
           }
          ],
          "surface": [
           {
            "colorbar": {
             "outlinewidth": 0,
             "ticks": ""
            },
            "colorscale": [
             [
              0,
              "#0d0887"
             ],
             [
              0.1111111111111111,
              "#46039f"
             ],
             [
              0.2222222222222222,
              "#7201a8"
             ],
             [
              0.3333333333333333,
              "#9c179e"
             ],
             [
              0.4444444444444444,
              "#bd3786"
             ],
             [
              0.5555555555555556,
              "#d8576b"
             ],
             [
              0.6666666666666666,
              "#ed7953"
             ],
             [
              0.7777777777777778,
              "#fb9f3a"
             ],
             [
              0.8888888888888888,
              "#fdca26"
             ],
             [
              1,
              "#f0f921"
             ]
            ],
            "type": "surface"
           }
          ],
          "table": [
           {
            "cells": {
             "fill": {
              "color": "#EBF0F8"
             },
             "line": {
              "color": "white"
             }
            },
            "header": {
             "fill": {
              "color": "#C8D4E3"
             },
             "line": {
              "color": "white"
             }
            },
            "type": "table"
           }
          ]
         },
         "layout": {
          "annotationdefaults": {
           "arrowcolor": "#2a3f5f",
           "arrowhead": 0,
           "arrowwidth": 1
          },
          "autotypenumbers": "strict",
          "coloraxis": {
           "colorbar": {
            "outlinewidth": 0,
            "ticks": ""
           }
          },
          "colorscale": {
           "diverging": [
            [
             0,
             "#8e0152"
            ],
            [
             0.1,
             "#c51b7d"
            ],
            [
             0.2,
             "#de77ae"
            ],
            [
             0.3,
             "#f1b6da"
            ],
            [
             0.4,
             "#fde0ef"
            ],
            [
             0.5,
             "#f7f7f7"
            ],
            [
             0.6,
             "#e6f5d0"
            ],
            [
             0.7,
             "#b8e186"
            ],
            [
             0.8,
             "#7fbc41"
            ],
            [
             0.9,
             "#4d9221"
            ],
            [
             1,
             "#276419"
            ]
           ],
           "sequential": [
            [
             0,
             "#0d0887"
            ],
            [
             0.1111111111111111,
             "#46039f"
            ],
            [
             0.2222222222222222,
             "#7201a8"
            ],
            [
             0.3333333333333333,
             "#9c179e"
            ],
            [
             0.4444444444444444,
             "#bd3786"
            ],
            [
             0.5555555555555556,
             "#d8576b"
            ],
            [
             0.6666666666666666,
             "#ed7953"
            ],
            [
             0.7777777777777778,
             "#fb9f3a"
            ],
            [
             0.8888888888888888,
             "#fdca26"
            ],
            [
             1,
             "#f0f921"
            ]
           ],
           "sequentialminus": [
            [
             0,
             "#0d0887"
            ],
            [
             0.1111111111111111,
             "#46039f"
            ],
            [
             0.2222222222222222,
             "#7201a8"
            ],
            [
             0.3333333333333333,
             "#9c179e"
            ],
            [
             0.4444444444444444,
             "#bd3786"
            ],
            [
             0.5555555555555556,
             "#d8576b"
            ],
            [
             0.6666666666666666,
             "#ed7953"
            ],
            [
             0.7777777777777778,
             "#fb9f3a"
            ],
            [
             0.8888888888888888,
             "#fdca26"
            ],
            [
             1,
             "#f0f921"
            ]
           ]
          },
          "colorway": [
           "#636efa",
           "#EF553B",
           "#00cc96",
           "#ab63fa",
           "#FFA15A",
           "#19d3f3",
           "#FF6692",
           "#B6E880",
           "#FF97FF",
           "#FECB52"
          ],
          "font": {
           "color": "#2a3f5f"
          },
          "geo": {
           "bgcolor": "white",
           "lakecolor": "white",
           "landcolor": "#E5ECF6",
           "showlakes": true,
           "showland": true,
           "subunitcolor": "white"
          },
          "hoverlabel": {
           "align": "left"
          },
          "hovermode": "closest",
          "mapbox": {
           "style": "light"
          },
          "paper_bgcolor": "white",
          "plot_bgcolor": "#E5ECF6",
          "polar": {
           "angularaxis": {
            "gridcolor": "white",
            "linecolor": "white",
            "ticks": ""
           },
           "bgcolor": "#E5ECF6",
           "radialaxis": {
            "gridcolor": "white",
            "linecolor": "white",
            "ticks": ""
           }
          },
          "scene": {
           "xaxis": {
            "backgroundcolor": "#E5ECF6",
            "gridcolor": "white",
            "gridwidth": 2,
            "linecolor": "white",
            "showbackground": true,
            "ticks": "",
            "zerolinecolor": "white"
           },
           "yaxis": {
            "backgroundcolor": "#E5ECF6",
            "gridcolor": "white",
            "gridwidth": 2,
            "linecolor": "white",
            "showbackground": true,
            "ticks": "",
            "zerolinecolor": "white"
           },
           "zaxis": {
            "backgroundcolor": "#E5ECF6",
            "gridcolor": "white",
            "gridwidth": 2,
            "linecolor": "white",
            "showbackground": true,
            "ticks": "",
            "zerolinecolor": "white"
           }
          },
          "shapedefaults": {
           "line": {
            "color": "#2a3f5f"
           }
          },
          "ternary": {
           "aaxis": {
            "gridcolor": "white",
            "linecolor": "white",
            "ticks": ""
           },
           "baxis": {
            "gridcolor": "white",
            "linecolor": "white",
            "ticks": ""
           },
           "bgcolor": "#E5ECF6",
           "caxis": {
            "gridcolor": "white",
            "linecolor": "white",
            "ticks": ""
           }
          },
          "title": {
           "x": 0.05
          },
          "xaxis": {
           "automargin": true,
           "gridcolor": "white",
           "linecolor": "white",
           "ticks": "",
           "title": {
            "standoff": 15
           },
           "zerolinecolor": "white",
           "zerolinewidth": 2
          },
          "yaxis": {
           "automargin": true,
           "gridcolor": "white",
           "linecolor": "white",
           "ticks": "",
           "title": {
            "standoff": 15
           },
           "zerolinecolor": "white",
           "zerolinewidth": 2
          }
         }
        },
        "title": {
         "text": "Coapplicant Income Distribution"
        },
        "xaxis": {
         "anchor": "y",
         "domain": [
          0,
          1
         ],
         "title": {
          "text": "CoapplicantIncome"
         }
        },
        "yaxis": {
         "anchor": "x",
         "domain": [
          0,
          1
         ],
         "title": {
          "text": "count"
         }
        }
       }
      }
     },
     "metadata": {},
     "output_type": "display_data"
    }
   ],
   "source": [
    "fig_coapplicant_income = px.histogram(df, x='CoapplicantIncome', title='Coapplicant Income Distribution')\n",
    "fig_coapplicant_income.show()"
   ]
  },
  {
   "cell_type": "markdown",
   "metadata": {
    "id": "YcyMtnDS37-O"
   },
   "source": [
    "## Loan Amount Distribution"
   ]
  },
  {
   "cell_type": "code",
   "execution_count": 478,
   "metadata": {},
   "outputs": [
    {
     "data": {
      "application/vnd.plotly.v1+json": {
       "config": {
        "plotlyServerURL": "https://plot.ly"
       },
       "data": [
        {
         "alignmentgroup": "True",
         "bingroup": "x",
         "hovertemplate": "LoanAmount=%{x}<br>count=%{y}<extra></extra>",
         "legendgroup": "",
         "marker": {
          "color": "#636efa",
          "pattern": {
           "shape": ""
          }
         },
         "name": "",
         "offsetgroup": "",
         "orientation": "v",
         "showlegend": false,
         "type": "histogram",
         "x": [
          128,
          128,
          66,
          120,
          141,
          267,
          95,
          158,
          168,
          349,
          70,
          109,
          200,
          114,
          17,
          125,
          100,
          76,
          133,
          115,
          104,
          315,
          116,
          112,
          151,
          191,
          122,
          110,
          35,
          120,
          201,
          74,
          106,
          114,
          320,
          128,
          100,
          144,
          184,
          110,
          80,
          47,
          75,
          134,
          96,
          88,
          44,
          144,
          120,
          144,
          100,
          120,
          112,
          134,
          286,
          97,
          96,
          135,
          180,
          144,
          120,
          99,
          165,
          128,
          116,
          258,
          126,
          312,
          125,
          136,
          172,
          97,
          81,
          95,
          187,
          113,
          176,
          110,
          180,
          130,
          111,
          128,
          167,
          265,
          50,
          136,
          99,
          104,
          210,
          175,
          131,
          188,
          81,
          122,
          25,
          128,
          137,
          50,
          115,
          131,
          133,
          151,
          128,
          128,
          160,
          100,
          225,
          120,
          216,
          94,
          136,
          139,
          152,
          128,
          118,
          185,
          154,
          85,
          175,
          259,
          180,
          44,
          137,
          81,
          194,
          93,
          370,
          128,
          160,
          182,
          650,
          74,
          70,
          25,
          102,
          290,
          84,
          88,
          242,
          129,
          185,
          168,
          175,
          122,
          187,
          100,
          70,
          30,
          225,
          125,
          118,
          152,
          244,
          113,
          50,
          600,
          160,
          187,
          120,
          255,
          98,
          275,
          121,
          158,
          75,
          182,
          112,
          129,
          63,
          200,
          95,
          700,
          81,
          187,
          87,
          116,
          101,
          495,
          116,
          102,
          180,
          67,
          73,
          260,
          108,
          120,
          66,
          58,
          168,
          188,
          48,
          164,
          160,
          76,
          120,
          170,
          187,
          120,
          113,
          83,
          90,
          166,
          128,
          135,
          124,
          120,
          80,
          55,
          59,
          127,
          214,
          128,
          240,
          130,
          137,
          100,
          135,
          131,
          72,
          127,
          60,
          116,
          144,
          175,
          128,
          170,
          138,
          210,
          158,
          200,
          104,
          42,
          120,
          280,
          140,
          170,
          255,
          122,
          112,
          96,
          120,
          140,
          155,
          108,
          123,
          120,
          112,
          137,
          123,
          90,
          201,
          138,
          104,
          279,
          192,
          255,
          115,
          94,
          304,
          128,
          330,
          134,
          155,
          120,
          128,
          151,
          150,
          160,
          135,
          90,
          30,
          136,
          126,
          150,
          90,
          115,
          207,
          80,
          436,
          124,
          158,
          112,
          78,
          54,
          128,
          89,
          99,
          120,
          115,
          187,
          139,
          127,
          134,
          143,
          172,
          110,
          200,
          135,
          151,
          113,
          93,
          105,
          132,
          96,
          140,
          128,
          135,
          104,
          480,
          185,
          84,
          111,
          56,
          144,
          159,
          111,
          120,
          88,
          112,
          155,
          115,
          124,
          128,
          132,
          300,
          376,
          130,
          184,
          110,
          67,
          117,
          98,
          71,
          490,
          182,
          70,
          160,
          176,
          128,
          71,
          173,
          46,
          158,
          74,
          125,
          160,
          152,
          126,
          259,
          187,
          228,
          308,
          95,
          105,
          130,
          116,
          165,
          67,
          100,
          200,
          81,
          236,
          130,
          95,
          141,
          133,
          96,
          124,
          175,
          570,
          55,
          155,
          380,
          111,
          110,
          120,
          130,
          130,
          71,
          130,
          128,
          296,
          156,
          128,
          100,
          113,
          132,
          128,
          136,
          125,
          185,
          275,
          120,
          113,
          113,
          135,
          71,
          95,
          109,
          103,
          45,
          65,
          103,
          53,
          194,
          115,
          115,
          66,
          152,
          360,
          62,
          160,
          218,
          110,
          178,
          60,
          160,
          239,
          112,
          138,
          138,
          80,
          100,
          110,
          96,
          121,
          81,
          133,
          87,
          60,
          150,
          105,
          405,
          143,
          100,
          128,
          50,
          128,
          187,
          138,
          187,
          180,
          148,
          152,
          175,
          130,
          110,
          55,
          150,
          190,
          125,
          60,
          149,
          90,
          84,
          96,
          118,
          173,
          136,
          160,
          160,
          128,
          153,
          132,
          98,
          140,
          70,
          110,
          98,
          110,
          162,
          113,
          100,
          93,
          162,
          150,
          230,
          132,
          86,
          128,
          154,
          113,
          128,
          234,
          246,
          131,
          80,
          500,
          160,
          75,
          96,
          186,
          110,
          225,
          119,
          105,
          107,
          111,
          95,
          209,
          113,
          100,
          208,
          138,
          124,
          243,
          480,
          96,
          188,
          40,
          100,
          250,
          148,
          70,
          311,
          150,
          113,
          123,
          185,
          95,
          45,
          55,
          100,
          480,
          128,
          400,
          110,
          161,
          94,
          130,
          216,
          100,
          110,
          196,
          125,
          126,
          324,
          107,
          66,
          157,
          140,
          99,
          95,
          128,
          102,
          155,
          80,
          145,
          103,
          110,
          128,
          128,
          158,
          181,
          132,
          26,
          84,
          260,
          162,
          182,
          108,
          600,
          211,
          132,
          258,
          120,
          70,
          123,
          9,
          104,
          186,
          165,
          275,
          187,
          150,
          108,
          136,
          110,
          107,
          161,
          205,
          90,
          36,
          61,
          146,
          172,
          104,
          70,
          94,
          106,
          56,
          205,
          292,
          142,
          260,
          110,
          187,
          88,
          180,
          192,
          350,
          155,
          128,
          172,
          496,
          128,
          173,
          157,
          108,
          71,
          40,
          253,
          187,
          133
         ],
         "xaxis": "x",
         "yaxis": "y"
        }
       ],
       "layout": {
        "barmode": "relative",
        "legend": {
         "tracegroupgap": 0
        },
        "template": {
         "data": {
          "bar": [
           {
            "error_x": {
             "color": "#2a3f5f"
            },
            "error_y": {
             "color": "#2a3f5f"
            },
            "marker": {
             "line": {
              "color": "#E5ECF6",
              "width": 0.5
             },
             "pattern": {
              "fillmode": "overlay",
              "size": 10,
              "solidity": 0.2
             }
            },
            "type": "bar"
           }
          ],
          "barpolar": [
           {
            "marker": {
             "line": {
              "color": "#E5ECF6",
              "width": 0.5
             },
             "pattern": {
              "fillmode": "overlay",
              "size": 10,
              "solidity": 0.2
             }
            },
            "type": "barpolar"
           }
          ],
          "carpet": [
           {
            "aaxis": {
             "endlinecolor": "#2a3f5f",
             "gridcolor": "white",
             "linecolor": "white",
             "minorgridcolor": "white",
             "startlinecolor": "#2a3f5f"
            },
            "baxis": {
             "endlinecolor": "#2a3f5f",
             "gridcolor": "white",
             "linecolor": "white",
             "minorgridcolor": "white",
             "startlinecolor": "#2a3f5f"
            },
            "type": "carpet"
           }
          ],
          "choropleth": [
           {
            "colorbar": {
             "outlinewidth": 0,
             "ticks": ""
            },
            "type": "choropleth"
           }
          ],
          "contour": [
           {
            "colorbar": {
             "outlinewidth": 0,
             "ticks": ""
            },
            "colorscale": [
             [
              0,
              "#0d0887"
             ],
             [
              0.1111111111111111,
              "#46039f"
             ],
             [
              0.2222222222222222,
              "#7201a8"
             ],
             [
              0.3333333333333333,
              "#9c179e"
             ],
             [
              0.4444444444444444,
              "#bd3786"
             ],
             [
              0.5555555555555556,
              "#d8576b"
             ],
             [
              0.6666666666666666,
              "#ed7953"
             ],
             [
              0.7777777777777778,
              "#fb9f3a"
             ],
             [
              0.8888888888888888,
              "#fdca26"
             ],
             [
              1,
              "#f0f921"
             ]
            ],
            "type": "contour"
           }
          ],
          "contourcarpet": [
           {
            "colorbar": {
             "outlinewidth": 0,
             "ticks": ""
            },
            "type": "contourcarpet"
           }
          ],
          "heatmap": [
           {
            "colorbar": {
             "outlinewidth": 0,
             "ticks": ""
            },
            "colorscale": [
             [
              0,
              "#0d0887"
             ],
             [
              0.1111111111111111,
              "#46039f"
             ],
             [
              0.2222222222222222,
              "#7201a8"
             ],
             [
              0.3333333333333333,
              "#9c179e"
             ],
             [
              0.4444444444444444,
              "#bd3786"
             ],
             [
              0.5555555555555556,
              "#d8576b"
             ],
             [
              0.6666666666666666,
              "#ed7953"
             ],
             [
              0.7777777777777778,
              "#fb9f3a"
             ],
             [
              0.8888888888888888,
              "#fdca26"
             ],
             [
              1,
              "#f0f921"
             ]
            ],
            "type": "heatmap"
           }
          ],
          "heatmapgl": [
           {
            "colorbar": {
             "outlinewidth": 0,
             "ticks": ""
            },
            "colorscale": [
             [
              0,
              "#0d0887"
             ],
             [
              0.1111111111111111,
              "#46039f"
             ],
             [
              0.2222222222222222,
              "#7201a8"
             ],
             [
              0.3333333333333333,
              "#9c179e"
             ],
             [
              0.4444444444444444,
              "#bd3786"
             ],
             [
              0.5555555555555556,
              "#d8576b"
             ],
             [
              0.6666666666666666,
              "#ed7953"
             ],
             [
              0.7777777777777778,
              "#fb9f3a"
             ],
             [
              0.8888888888888888,
              "#fdca26"
             ],
             [
              1,
              "#f0f921"
             ]
            ],
            "type": "heatmapgl"
           }
          ],
          "histogram": [
           {
            "marker": {
             "pattern": {
              "fillmode": "overlay",
              "size": 10,
              "solidity": 0.2
             }
            },
            "type": "histogram"
           }
          ],
          "histogram2d": [
           {
            "colorbar": {
             "outlinewidth": 0,
             "ticks": ""
            },
            "colorscale": [
             [
              0,
              "#0d0887"
             ],
             [
              0.1111111111111111,
              "#46039f"
             ],
             [
              0.2222222222222222,
              "#7201a8"
             ],
             [
              0.3333333333333333,
              "#9c179e"
             ],
             [
              0.4444444444444444,
              "#bd3786"
             ],
             [
              0.5555555555555556,
              "#d8576b"
             ],
             [
              0.6666666666666666,
              "#ed7953"
             ],
             [
              0.7777777777777778,
              "#fb9f3a"
             ],
             [
              0.8888888888888888,
              "#fdca26"
             ],
             [
              1,
              "#f0f921"
             ]
            ],
            "type": "histogram2d"
           }
          ],
          "histogram2dcontour": [
           {
            "colorbar": {
             "outlinewidth": 0,
             "ticks": ""
            },
            "colorscale": [
             [
              0,
              "#0d0887"
             ],
             [
              0.1111111111111111,
              "#46039f"
             ],
             [
              0.2222222222222222,
              "#7201a8"
             ],
             [
              0.3333333333333333,
              "#9c179e"
             ],
             [
              0.4444444444444444,
              "#bd3786"
             ],
             [
              0.5555555555555556,
              "#d8576b"
             ],
             [
              0.6666666666666666,
              "#ed7953"
             ],
             [
              0.7777777777777778,
              "#fb9f3a"
             ],
             [
              0.8888888888888888,
              "#fdca26"
             ],
             [
              1,
              "#f0f921"
             ]
            ],
            "type": "histogram2dcontour"
           }
          ],
          "mesh3d": [
           {
            "colorbar": {
             "outlinewidth": 0,
             "ticks": ""
            },
            "type": "mesh3d"
           }
          ],
          "parcoords": [
           {
            "line": {
             "colorbar": {
              "outlinewidth": 0,
              "ticks": ""
             }
            },
            "type": "parcoords"
           }
          ],
          "pie": [
           {
            "automargin": true,
            "type": "pie"
           }
          ],
          "scatter": [
           {
            "fillpattern": {
             "fillmode": "overlay",
             "size": 10,
             "solidity": 0.2
            },
            "type": "scatter"
           }
          ],
          "scatter3d": [
           {
            "line": {
             "colorbar": {
              "outlinewidth": 0,
              "ticks": ""
             }
            },
            "marker": {
             "colorbar": {
              "outlinewidth": 0,
              "ticks": ""
             }
            },
            "type": "scatter3d"
           }
          ],
          "scattercarpet": [
           {
            "marker": {
             "colorbar": {
              "outlinewidth": 0,
              "ticks": ""
             }
            },
            "type": "scattercarpet"
           }
          ],
          "scattergeo": [
           {
            "marker": {
             "colorbar": {
              "outlinewidth": 0,
              "ticks": ""
             }
            },
            "type": "scattergeo"
           }
          ],
          "scattergl": [
           {
            "marker": {
             "colorbar": {
              "outlinewidth": 0,
              "ticks": ""
             }
            },
            "type": "scattergl"
           }
          ],
          "scattermapbox": [
           {
            "marker": {
             "colorbar": {
              "outlinewidth": 0,
              "ticks": ""
             }
            },
            "type": "scattermapbox"
           }
          ],
          "scatterpolar": [
           {
            "marker": {
             "colorbar": {
              "outlinewidth": 0,
              "ticks": ""
             }
            },
            "type": "scatterpolar"
           }
          ],
          "scatterpolargl": [
           {
            "marker": {
             "colorbar": {
              "outlinewidth": 0,
              "ticks": ""
             }
            },
            "type": "scatterpolargl"
           }
          ],
          "scatterternary": [
           {
            "marker": {
             "colorbar": {
              "outlinewidth": 0,
              "ticks": ""
             }
            },
            "type": "scatterternary"
           }
          ],
          "surface": [
           {
            "colorbar": {
             "outlinewidth": 0,
             "ticks": ""
            },
            "colorscale": [
             [
              0,
              "#0d0887"
             ],
             [
              0.1111111111111111,
              "#46039f"
             ],
             [
              0.2222222222222222,
              "#7201a8"
             ],
             [
              0.3333333333333333,
              "#9c179e"
             ],
             [
              0.4444444444444444,
              "#bd3786"
             ],
             [
              0.5555555555555556,
              "#d8576b"
             ],
             [
              0.6666666666666666,
              "#ed7953"
             ],
             [
              0.7777777777777778,
              "#fb9f3a"
             ],
             [
              0.8888888888888888,
              "#fdca26"
             ],
             [
              1,
              "#f0f921"
             ]
            ],
            "type": "surface"
           }
          ],
          "table": [
           {
            "cells": {
             "fill": {
              "color": "#EBF0F8"
             },
             "line": {
              "color": "white"
             }
            },
            "header": {
             "fill": {
              "color": "#C8D4E3"
             },
             "line": {
              "color": "white"
             }
            },
            "type": "table"
           }
          ]
         },
         "layout": {
          "annotationdefaults": {
           "arrowcolor": "#2a3f5f",
           "arrowhead": 0,
           "arrowwidth": 1
          },
          "autotypenumbers": "strict",
          "coloraxis": {
           "colorbar": {
            "outlinewidth": 0,
            "ticks": ""
           }
          },
          "colorscale": {
           "diverging": [
            [
             0,
             "#8e0152"
            ],
            [
             0.1,
             "#c51b7d"
            ],
            [
             0.2,
             "#de77ae"
            ],
            [
             0.3,
             "#f1b6da"
            ],
            [
             0.4,
             "#fde0ef"
            ],
            [
             0.5,
             "#f7f7f7"
            ],
            [
             0.6,
             "#e6f5d0"
            ],
            [
             0.7,
             "#b8e186"
            ],
            [
             0.8,
             "#7fbc41"
            ],
            [
             0.9,
             "#4d9221"
            ],
            [
             1,
             "#276419"
            ]
           ],
           "sequential": [
            [
             0,
             "#0d0887"
            ],
            [
             0.1111111111111111,
             "#46039f"
            ],
            [
             0.2222222222222222,
             "#7201a8"
            ],
            [
             0.3333333333333333,
             "#9c179e"
            ],
            [
             0.4444444444444444,
             "#bd3786"
            ],
            [
             0.5555555555555556,
             "#d8576b"
            ],
            [
             0.6666666666666666,
             "#ed7953"
            ],
            [
             0.7777777777777778,
             "#fb9f3a"
            ],
            [
             0.8888888888888888,
             "#fdca26"
            ],
            [
             1,
             "#f0f921"
            ]
           ],
           "sequentialminus": [
            [
             0,
             "#0d0887"
            ],
            [
             0.1111111111111111,
             "#46039f"
            ],
            [
             0.2222222222222222,
             "#7201a8"
            ],
            [
             0.3333333333333333,
             "#9c179e"
            ],
            [
             0.4444444444444444,
             "#bd3786"
            ],
            [
             0.5555555555555556,
             "#d8576b"
            ],
            [
             0.6666666666666666,
             "#ed7953"
            ],
            [
             0.7777777777777778,
             "#fb9f3a"
            ],
            [
             0.8888888888888888,
             "#fdca26"
            ],
            [
             1,
             "#f0f921"
            ]
           ]
          },
          "colorway": [
           "#636efa",
           "#EF553B",
           "#00cc96",
           "#ab63fa",
           "#FFA15A",
           "#19d3f3",
           "#FF6692",
           "#B6E880",
           "#FF97FF",
           "#FECB52"
          ],
          "font": {
           "color": "#2a3f5f"
          },
          "geo": {
           "bgcolor": "white",
           "lakecolor": "white",
           "landcolor": "#E5ECF6",
           "showlakes": true,
           "showland": true,
           "subunitcolor": "white"
          },
          "hoverlabel": {
           "align": "left"
          },
          "hovermode": "closest",
          "mapbox": {
           "style": "light"
          },
          "paper_bgcolor": "white",
          "plot_bgcolor": "#E5ECF6",
          "polar": {
           "angularaxis": {
            "gridcolor": "white",
            "linecolor": "white",
            "ticks": ""
           },
           "bgcolor": "#E5ECF6",
           "radialaxis": {
            "gridcolor": "white",
            "linecolor": "white",
            "ticks": ""
           }
          },
          "scene": {
           "xaxis": {
            "backgroundcolor": "#E5ECF6",
            "gridcolor": "white",
            "gridwidth": 2,
            "linecolor": "white",
            "showbackground": true,
            "ticks": "",
            "zerolinecolor": "white"
           },
           "yaxis": {
            "backgroundcolor": "#E5ECF6",
            "gridcolor": "white",
            "gridwidth": 2,
            "linecolor": "white",
            "showbackground": true,
            "ticks": "",
            "zerolinecolor": "white"
           },
           "zaxis": {
            "backgroundcolor": "#E5ECF6",
            "gridcolor": "white",
            "gridwidth": 2,
            "linecolor": "white",
            "showbackground": true,
            "ticks": "",
            "zerolinecolor": "white"
           }
          },
          "shapedefaults": {
           "line": {
            "color": "#2a3f5f"
           }
          },
          "ternary": {
           "aaxis": {
            "gridcolor": "white",
            "linecolor": "white",
            "ticks": ""
           },
           "baxis": {
            "gridcolor": "white",
            "linecolor": "white",
            "ticks": ""
           },
           "bgcolor": "#E5ECF6",
           "caxis": {
            "gridcolor": "white",
            "linecolor": "white",
            "ticks": ""
           }
          },
          "title": {
           "x": 0.05
          },
          "xaxis": {
           "automargin": true,
           "gridcolor": "white",
           "linecolor": "white",
           "ticks": "",
           "title": {
            "standoff": 15
           },
           "zerolinecolor": "white",
           "zerolinewidth": 2
          },
          "yaxis": {
           "automargin": true,
           "gridcolor": "white",
           "linecolor": "white",
           "ticks": "",
           "title": {
            "standoff": 15
           },
           "zerolinecolor": "white",
           "zerolinewidth": 2
          }
         }
        },
        "title": {
         "text": "Loan Amount Distribution"
        },
        "xaxis": {
         "anchor": "y",
         "domain": [
          0,
          1
         ],
         "title": {
          "text": "LoanAmount"
         }
        },
        "yaxis": {
         "anchor": "x",
         "domain": [
          0,
          1
         ],
         "title": {
          "text": "count"
         }
        }
       }
      }
     },
     "metadata": {},
     "output_type": "display_data"
    }
   ],
   "source": [
    "fig_loan_amount = px.histogram(df, x='LoanAmount', title='Loan Amount Distribution')\n",
    "fig_loan_amount.show()"
   ]
  },
  {
   "cell_type": "markdown",
   "metadata": {
    "id": "znrnrLh170pJ"
   },
   "source": [
    "## *Applicant Income vs.Loan Amount*"
   ]
  },
  {
   "cell_type": "code",
   "execution_count": 479,
   "metadata": {
    "colab": {
     "base_uri": "https://localhost:8080/",
     "height": 564
    },
    "id": "bYd0rWfX_ZaB",
    "outputId": "8a234390-4a57-4eca-c6aa-7e9358a116c5"
   },
   "outputs": [
    {
     "data": {
      "image/png": "[encoded data removed]",
      "text/plain": [
       "<Figure size 1000x600 with 1 Axes>"
      ]
     },
     "metadata": {},
     "output_type": "display_data"
    }
   ],
   "source": [
    "\n",
    "plt.figure(figsize=(10, 6))\n",
    "sns.scatterplot(data=df, x='ApplicantIncome', y='LoanAmount')\n",
    "plt.xlabel('Applicant Income')\n",
    "plt.ylabel('Loan Amount')\n",
    "plt.title('Scatter Plot: Applicant Income vs. Loan Amount')\n",
    "plt.show()\n"
   ]
  },
  {
   "cell_type": "markdown",
   "metadata": {
    "id": "Z2L1Lvid7-HA"
   },
   "source": [
    "## *Married vs. Applicant Income*"
   ]
  },
  {
   "cell_type": "code",
   "execution_count": 480,
   "metadata": {
    "colab": {
     "base_uri": "https://localhost:8080/",
     "height": 564
    },
    "id": "pw9o9KicA83B",
    "outputId": "3b0d87fc-a51c-41a0-f356-b4a3c8b70d6d"
   },
   "outputs": [
    {
     "data": {
      "image/png": "[encoded data removed]",
      "text/plain": [
       "<Figure size 1000x600 with 1 Axes>"
      ]
     },
     "metadata": {},
     "output_type": "display_data"
    }
   ],
   "source": [
    "plt.figure(figsize=(10,6))\n",
    "sns.barplot(data=df, x='Married', y='ApplicantIncome')\n",
    "plt.xlabel('Married')\n",
    "plt.ylabel('Applicant Income')\n",
    "plt.title('Bar Plot: Married vs. Applicant Income')\n",
    "plt.show()"
   ]
  },
  {
   "cell_type": "markdown",
   "metadata": {
    "id": "9a2mWUC5m0gf"
   },
   "source": [
    "## *Applicant Income vs. Education*"
   ]
  },
  {
   "cell_type": "code",
   "execution_count": 481,
   "metadata": {
    "colab": {
     "base_uri": "https://localhost:8080/",
     "height": 564
    },
    "id": "TmNrsLOOBowz",
    "outputId": "60278734-e961-4fd1-e888-6141e89f61b3"
   },
   "outputs": [
    {
     "data": {
      "image/png": "[encoded data removed]",
      "text/plain": [
       "<Figure size 1000x600 with 1 Axes>"
      ]
     },
     "metadata": {},
     "output_type": "display_data"
    }
   ],
   "source": [
    "\n",
    "plt.figure(figsize=(10, 6))\n",
    "sns.boxplot(data=df, x='Education', y='ApplicantIncome')\n",
    "plt.ylabel('Applicant Income')\n",
    "plt.xlabel('Education')\n",
    "plt.title('Box Plot: Applicant Income vs. Education')\n",
    "plt.show()"
   ]
  },
  {
   "cell_type": "markdown",
   "metadata": {
    "id": "3vriKXNnm_9o"
   },
   "source": [
    "## *Credit History vs. Loan Status*"
   ]
  },
  {
   "cell_type": "code",
   "execution_count": 482,
   "metadata": {
    "colab": {
     "base_uri": "https://localhost:8080/",
     "height": 564
    },
    "id": "z3Ny0hmbB1lL",
    "outputId": "207a15ff-d1df-4c98-b104-e865b6b85de4"
   },
   "outputs": [
    {
     "data": {
      "image/png": "[encoded data removed]",
      "text/plain": [
       "<Figure size 800x600 with 2 Axes>"
      ]
     },
     "metadata": {},
     "output_type": "display_data"
    }
   ],
   "source": [
    "df['Credit_History'] = pd.to_numeric(df['Credit_History'], errors='coerce')\n",
    "cross_tab = pd.crosstab(df['Credit_History'], df['Loan_Status'])\n",
    "plt.figure(figsize=(8,6))\n",
    "sns.heatmap(cross_tab, annot=True, cmap='Blues')\n",
    "plt.xlabel('Loan Status')\n",
    "plt.ylabel(\"Credit History\")\n",
    "plt.title('Heatmap: Credit History vs. Loan Status')\n",
    "plt.show()\n"
   ]
  },
  {
   "cell_type": "markdown",
   "metadata": {
    "id": "FAdkvyKwnXT4"
   },
   "source": [
    "## *Loan_Status vs Property_Area*"
   ]
  },
  {
   "cell_type": "code",
   "execution_count": 483,
   "metadata": {
    "colab": {
     "base_uri": "https://localhost:8080/",
     "height": 542
    },
    "id": "hMYVAnsrBo3R",
    "outputId": "3f78e018-40a5-428b-854c-33db217dba9b"
   },
   "outputs": [
    {
     "data": {
      "application/vnd.plotly.v1+json": {
       "config": {
        "plotlyServerURL": "https://plot.ly"
       },
       "data": [
        {
         "alignmentgroup": "True",
         "bingroup": "x",
         "hovertemplate": "Loan_Status=Y<br>Property_Area=%{x}<br>count=%{y}<extra></extra>",
         "legendgroup": "Y",
         "marker": {
          "color": "#636efa",
          "pattern": {
           "shape": ""
          }
         },
         "name": "Y",
         "offsetgroup": "Y",
         "orientation": "v",
         "showlegend": true,
         "type": "histogram",
         "x": [
          "Urban",
          "Urban",
          "Urban",
          "Urban",
          "Urban",
          "Urban",
          "Urban",
          "Urban",
          "Urban",
          "Urban",
          "Urban",
          "Urban",
          "Urban",
          "Urban",
          "Urban",
          "Semiurban",
          "Semiurban",
          "Urban",
          "Semiurban",
          "Semiurban",
          "Urban",
          "Semiurban",
          "Urban",
          "Semiurban",
          "Urban",
          "Urban",
          "Semiurban",
          "Urban",
          "Urban",
          "Urban",
          "Urban",
          "Semiurban",
          "Semiurban",
          "Semiurban",
          "Semiurban",
          "Semiurban",
          "Urban",
          "Urban",
          "Urban",
          "Urban",
          "Urban",
          "Urban",
          "Urban",
          "Semiurban",
          "Semiurban",
          "Semiurban",
          "Semiurban",
          "Semiurban",
          "Semiurban",
          "Urban",
          "Semiurban",
          "Semiurban",
          "Semiurban",
          "Urban",
          "Semiurban",
          "Semiurban",
          "Semiurban",
          "Urban",
          "Semiurban",
          "Semiurban",
          "Semiurban",
          "Semiurban",
          "Semiurban",
          "Semiurban",
          "Urban",
          "Semiurban",
          "Urban",
          "Semiurban",
          "Urban",
          "Urban",
          "Urban",
          "Semiurban",
          "Urban",
          "Semiurban",
          "Semiurban",
          "Semiurban",
          "Rural",
          "Semiurban",
          "Urban",
          "Urban",
          "Rural",
          "Semiurban",
          "Semiurban",
          "Semiurban",
          "Rural",
          "Rural",
          "Rural",
          "Rural",
          "Urban",
          "Urban",
          "Semiurban",
          "Semiurban",
          "Semiurban",
          "Urban",
          "Urban",
          "Semiurban",
          "Semiurban",
          "Urban",
          "Semiurban",
          "Urban",
          "Urban",
          "Semiurban",
          "Rural",
          "Urban",
          "Semiurban",
          "Rural",
          "Urban",
          "Rural",
          "Semiurban",
          "Semiurban",
          "Rural",
          "Urban",
          "Rural",
          "Rural",
          "Semiurban",
          "Rural",
          "Urban",
          "Semiurban",
          "Rural",
          "Rural",
          "Semiurban",
          "Semiurban",
          "Semiurban",
          "Semiurban",
          "Rural",
          "Rural",
          "Rural",
          "Rural",
          "Semiurban",
          "Rural",
          "Rural",
          "Urban",
          "Semiurban",
          "Semiurban",
          "Semiurban",
          "Urban",
          "Semiurban",
          "Semiurban",
          "Urban",
          "Rural",
          "Urban",
          "Urban",
          "Rural",
          "Urban",
          "Semiurban",
          "Semiurban",
          "Semiurban",
          "Semiurban",
          "Semiurban",
          "Semiurban",
          "Semiurban",
          "Semiurban",
          "Semiurban",
          "Rural",
          "Semiurban",
          "Rural",
          "Rural",
          "Semiurban",
          "Semiurban",
          "Rural",
          "Urban",
          "Rural",
          "Semiurban",
          "Rural",
          "Urban",
          "Rural",
          "Semiurban",
          "Urban",
          "Urban",
          "Semiurban",
          "Urban",
          "Rural",
          "Semiurban",
          "Rural",
          "Urban",
          "Semiurban",
          "Rural",
          "Semiurban",
          "Rural",
          "Semiurban",
          "Urban",
          "Urban",
          "Urban",
          "Urban",
          "Rural",
          "Semiurban",
          "Semiurban",
          "Semiurban",
          "Semiurban",
          "Urban",
          "Semiurban",
          "Rural",
          "Semiurban",
          "Urban",
          "Urban",
          "Rural",
          "Rural",
          "Semiurban",
          "Rural",
          "Rural",
          "Urban",
          "Semiurban",
          "Urban",
          "Semiurban",
          "Urban",
          "Semiurban",
          "Rural",
          "Urban",
          "Rural",
          "Rural",
          "Rural",
          "Semiurban",
          "Semiurban",
          "Rural",
          "Rural",
          "Urban",
          "Semiurban",
          "Urban",
          "Semiurban",
          "Semiurban",
          "Semiurban",
          "Rural",
          "Rural",
          "Rural",
          "Rural",
          "Semiurban",
          "Urban",
          "Urban",
          "Semiurban",
          "Urban",
          "Urban",
          "Urban",
          "Semiurban",
          "Rural",
          "Rural",
          "Semiurban",
          "Urban",
          "Semiurban",
          "Rural",
          "Semiurban",
          "Urban",
          "Semiurban",
          "Rural",
          "Semiurban",
          "Rural",
          "Semiurban",
          "Urban",
          "Rural",
          "Semiurban",
          "Semiurban",
          "Urban",
          "Urban",
          "Rural",
          "Semiurban",
          "Semiurban",
          "Semiurban",
          "Rural",
          "Urban",
          "Urban",
          "Rural",
          "Semiurban",
          "Urban",
          "Semiurban",
          "Semiurban",
          "Urban",
          "Urban",
          "Urban",
          "Semiurban",
          "Urban",
          "Rural",
          "Rural",
          "Rural",
          "Urban",
          "Semiurban",
          "Urban",
          "Semiurban",
          "Urban",
          "Rural",
          "Semiurban",
          "Semiurban",
          "Semiurban",
          "Urban",
          "Rural",
          "Urban",
          "Rural",
          "Urban",
          "Rural",
          "Semiurban",
          "Rural",
          "Urban",
          "Semiurban",
          "Rural",
          "Semiurban",
          "Rural",
          "Urban",
          "Semiurban",
          "Semiurban",
          "Semiurban",
          "Urban",
          "Semiurban",
          "Semiurban",
          "Urban",
          "Rural",
          "Semiurban",
          "Rural",
          "Semiurban",
          "Semiurban",
          "Rural",
          "Rural",
          "Rural",
          "Urban",
          "Rural",
          "Semiurban",
          "Semiurban",
          "Urban",
          "Rural",
          "Semiurban",
          "Urban",
          "Rural",
          "Semiurban",
          "Rural",
          "Semiurban",
          "Semiurban",
          "Semiurban",
          "Semiurban",
          "Urban",
          "Rural",
          "Rural",
          "Semiurban",
          "Semiurban",
          "Rural",
          "Rural",
          "Semiurban",
          "Semiurban",
          "Semiurban",
          "Rural",
          "Semiurban",
          "Semiurban",
          "Urban",
          "Rural",
          "Semiurban",
          "Semiurban",
          "Rural",
          "Urban",
          "Semiurban",
          "Rural",
          "Semiurban",
          "Semiurban",
          "Semiurban",
          "Rural",
          "Urban",
          "Urban",
          "Urban",
          "Semiurban",
          "Urban",
          "Rural",
          "Semiurban",
          "Semiurban",
          "Semiurban",
          "Rural",
          "Rural",
          "Rural",
          "Semiurban",
          "Semiurban",
          "Semiurban",
          "Semiurban",
          "Rural",
          "Urban",
          "Urban",
          "Rural",
          "Urban",
          "Semiurban",
          "Rural",
          "Semiurban",
          "Semiurban",
          "Urban",
          "Semiurban",
          "Rural",
          "Rural",
          "Rural",
          "Rural",
          "Urban",
          "Semiurban",
          "Urban",
          "Semiurban",
          "Semiurban",
          "Semiurban",
          "Semiurban",
          "Semiurban",
          "Rural",
          "Semiurban",
          "Rural",
          "Urban",
          "Urban",
          "Urban",
          "Urban",
          "Urban",
          "Rural",
          "Urban",
          "Semiurban",
          "Semiurban",
          "Urban",
          "Semiurban",
          "Semiurban",
          "Semiurban",
          "Semiurban",
          "Rural",
          "Urban",
          "Rural",
          "Rural",
          "Urban",
          "Rural",
          "Urban",
          "Rural",
          "Semiurban",
          "Semiurban",
          "Rural",
          "Rural",
          "Rural",
          "Rural",
          "Urban",
          "Urban"
         ],
         "xaxis": "x",
         "yaxis": "y"
        },
        {
         "alignmentgroup": "True",
         "bingroup": "x",
         "hovertemplate": "Loan_Status=N<br>Property_Area=%{x}<br>count=%{y}<extra></extra>",
         "legendgroup": "N",
         "marker": {
          "color": "#EF553B",
          "pattern": {
           "shape": ""
          }
         },
         "name": "N",
         "offsetgroup": "N",
         "orientation": "v",
         "showlegend": true,
         "type": "histogram",
         "x": [
          "Rural",
          "Semiurban",
          "Semiurban",
          "Rural",
          "Urban",
          "Rural",
          "Urban",
          "Semiurban",
          "Rural",
          "Semiurban",
          "Urban",
          "Urban",
          "Urban",
          "Rural",
          "Rural",
          "Urban",
          "Urban",
          "Urban",
          "Semiurban",
          "Urban",
          "Urban",
          "Rural",
          "Rural",
          "Rural",
          "Semiurban",
          "Semiurban",
          "Urban",
          "Semiurban",
          "Semiurban",
          "Urban",
          "Urban",
          "Urban",
          "Semiurban",
          "Urban",
          "Semiurban",
          "Urban",
          "Rural",
          "Urban",
          "Rural",
          "Rural",
          "Urban",
          "Rural",
          "Semiurban",
          "Rural",
          "Semiurban",
          "Rural",
          "Rural",
          "Rural",
          "Rural",
          "Urban",
          "Rural",
          "Urban",
          "Semiurban",
          "Rural",
          "Semiurban",
          "Rural",
          "Semiurban",
          "Semiurban",
          "Urban",
          "Urban",
          "Rural",
          "Semiurban",
          "Rural",
          "Semiurban",
          "Urban",
          "Semiurban",
          "Urban",
          "Urban",
          "Semiurban",
          "Semiurban",
          "Semiurban",
          "Rural",
          "Semiurban",
          "Urban",
          "Rural",
          "Urban",
          "Urban",
          "Urban",
          "Urban",
          "Semiurban",
          "Urban",
          "Urban",
          "Rural",
          "Urban",
          "Rural",
          "Semiurban",
          "Semiurban",
          "Rural",
          "Urban",
          "Rural",
          "Semiurban",
          "Semiurban",
          "Urban",
          "Rural",
          "Urban",
          "Urban",
          "Urban",
          "Urban",
          "Rural",
          "Rural",
          "Rural",
          "Rural",
          "Urban",
          "Urban",
          "Rural",
          "Rural",
          "Rural",
          "Rural",
          "Rural",
          "Urban",
          "Urban",
          "Semiurban",
          "Rural",
          "Semiurban",
          "Rural",
          "Rural",
          "Urban",
          "Urban",
          "Urban",
          "Urban",
          "Urban",
          "Semiurban",
          "Urban",
          "Rural",
          "Rural",
          "Semiurban",
          "Rural",
          "Semiurban",
          "Rural",
          "Semiurban",
          "Urban",
          "Urban",
          "Urban",
          "Urban",
          "Rural",
          "Rural",
          "Urban",
          "Rural",
          "Rural",
          "Semiurban",
          "Rural",
          "Rural",
          "Urban",
          "Semiurban",
          "Semiurban",
          "Urban",
          "Urban",
          "Rural",
          "Semiurban",
          "Urban",
          "Rural",
          "Urban",
          "Urban",
          "Rural",
          "Rural",
          "Rural",
          "Urban",
          "Rural",
          "Semiurban",
          "Rural",
          "Semiurban",
          "Semiurban",
          "Rural",
          "Semiurban",
          "Rural",
          "Semiurban",
          "Rural",
          "Semiurban",
          "Semiurban",
          "Semiurban",
          "Rural",
          "Urban",
          "Rural",
          "Urban",
          "Rural",
          "Urban",
          "Urban",
          "Urban",
          "Semiurban",
          "Semiurban",
          "Semiurban",
          "Urban",
          "Rural",
          "Rural",
          "Rural",
          "Semiurban",
          "Semiurban",
          "Rural",
          "Semiurban",
          "Urban",
          "Urban",
          "Semiurban"
         ],
         "xaxis": "x",
         "yaxis": "y"
        }
       ],
       "layout": {
        "barmode": "group",
        "legend": {
         "title": {
          "text": "Loan_Status"
         },
         "tracegroupgap": 0
        },
        "template": {
         "data": {
          "bar": [
           {
            "error_x": {
             "color": "#2a3f5f"
            },
            "error_y": {
             "color": "#2a3f5f"
            },
            "marker": {
             "line": {
              "color": "#E5ECF6",
              "width": 0.5
             },
             "pattern": {
              "fillmode": "overlay",
              "size": 10,
              "solidity": 0.2
             }
            },
            "type": "bar"
           }
          ],
          "barpolar": [
           {
            "marker": {
             "line": {
              "color": "#E5ECF6",
              "width": 0.5
             },
             "pattern": {
              "fillmode": "overlay",
              "size": 10,
              "solidity": 0.2
             }
            },
            "type": "barpolar"
           }
          ],
          "carpet": [
           {
            "aaxis": {
             "endlinecolor": "#2a3f5f",
             "gridcolor": "white",
             "linecolor": "white",
             "minorgridcolor": "white",
             "startlinecolor": "#2a3f5f"
            },
            "baxis": {
             "endlinecolor": "#2a3f5f",
             "gridcolor": "white",
             "linecolor": "white",
             "minorgridcolor": "white",
             "startlinecolor": "#2a3f5f"
            },
            "type": "carpet"
           }
          ],
          "choropleth": [
           {
            "colorbar": {
             "outlinewidth": 0,
             "ticks": ""
            },
            "type": "choropleth"
           }
          ],
          "contour": [
           {
            "colorbar": {
             "outlinewidth": 0,
             "ticks": ""
            },
            "colorscale": [
             [
              0,
              "#0d0887"
             ],
             [
              0.1111111111111111,
              "#46039f"
             ],
             [
              0.2222222222222222,
              "#7201a8"
             ],
             [
              0.3333333333333333,
              "#9c179e"
             ],
             [
              0.4444444444444444,
              "#bd3786"
             ],
             [
              0.5555555555555556,
              "#d8576b"
             ],
             [
              0.6666666666666666,
              "#ed7953"
             ],
             [
              0.7777777777777778,
              "#fb9f3a"
             ],
             [
              0.8888888888888888,
              "#fdca26"
             ],
             [
              1,
              "#f0f921"
             ]
            ],
            "type": "contour"
           }
          ],
          "contourcarpet": [
           {
            "colorbar": {
             "outlinewidth": 0,
             "ticks": ""
            },
            "type": "contourcarpet"
           }
          ],
          "heatmap": [
           {
            "colorbar": {
             "outlinewidth": 0,
             "ticks": ""
            },
            "colorscale": [
             [
              0,
              "#0d0887"
             ],
             [
              0.1111111111111111,
              "#46039f"
             ],
             [
              0.2222222222222222,
              "#7201a8"
             ],
             [
              0.3333333333333333,
              "#9c179e"
             ],
             [
              0.4444444444444444,
              "#bd3786"
             ],
             [
              0.5555555555555556,
              "#d8576b"
             ],
             [
              0.6666666666666666,
              "#ed7953"
             ],
             [
              0.7777777777777778,
              "#fb9f3a"
             ],
             [
              0.8888888888888888,
              "#fdca26"
             ],
             [
              1,
              "#f0f921"
             ]
            ],
            "type": "heatmap"
           }
          ],
          "heatmapgl": [
           {
            "colorbar": {
             "outlinewidth": 0,
             "ticks": ""
            },
            "colorscale": [
             [
              0,
              "#0d0887"
             ],
             [
              0.1111111111111111,
              "#46039f"
             ],
             [
              0.2222222222222222,
              "#7201a8"
             ],
             [
              0.3333333333333333,
              "#9c179e"
             ],
             [
              0.4444444444444444,
              "#bd3786"
             ],
             [
              0.5555555555555556,
              "#d8576b"
             ],
             [
              0.6666666666666666,
              "#ed7953"
             ],
             [
              0.7777777777777778,
              "#fb9f3a"
             ],
             [
              0.8888888888888888,
              "#fdca26"
             ],
             [
              1,
              "#f0f921"
             ]
            ],
            "type": "heatmapgl"
           }
          ],
          "histogram": [
           {
            "marker": {
             "pattern": {
              "fillmode": "overlay",
              "size": 10,
              "solidity": 0.2
             }
            },
            "type": "histogram"
           }
          ],
          "histogram2d": [
           {
            "colorbar": {
             "outlinewidth": 0,
             "ticks": ""
            },
            "colorscale": [
             [
              0,
              "#0d0887"
             ],
             [
              0.1111111111111111,
              "#46039f"
             ],
             [
              0.2222222222222222,
              "#7201a8"
             ],
             [
              0.3333333333333333,
              "#9c179e"
             ],
             [
              0.4444444444444444,
              "#bd3786"
             ],
             [
              0.5555555555555556,
              "#d8576b"
             ],
             [
              0.6666666666666666,
              "#ed7953"
             ],
             [
              0.7777777777777778,
              "#fb9f3a"
             ],
             [
              0.8888888888888888,
              "#fdca26"
             ],
             [
              1,
              "#f0f921"
             ]
            ],
            "type": "histogram2d"
           }
          ],
          "histogram2dcontour": [
           {
            "colorbar": {
             "outlinewidth": 0,
             "ticks": ""
            },
            "colorscale": [
             [
              0,
              "#0d0887"
             ],
             [
              0.1111111111111111,
              "#46039f"
             ],
             [
              0.2222222222222222,
              "#7201a8"
             ],
             [
              0.3333333333333333,
              "#9c179e"
             ],
             [
              0.4444444444444444,
              "#bd3786"
             ],
             [
              0.5555555555555556,
              "#d8576b"
             ],
             [
              0.6666666666666666,
              "#ed7953"
             ],
             [
              0.7777777777777778,
              "#fb9f3a"
             ],
             [
              0.8888888888888888,
              "#fdca26"
             ],
             [
              1,
              "#f0f921"
             ]
            ],
            "type": "histogram2dcontour"
           }
          ],
          "mesh3d": [
           {
            "colorbar": {
             "outlinewidth": 0,
             "ticks": ""
            },
            "type": "mesh3d"
           }
          ],
          "parcoords": [
           {
            "line": {
             "colorbar": {
              "outlinewidth": 0,
              "ticks": ""
             }
            },
            "type": "parcoords"
           }
          ],
          "pie": [
           {
            "automargin": true,
            "type": "pie"
           }
          ],
          "scatter": [
           {
            "fillpattern": {
             "fillmode": "overlay",
             "size": 10,
             "solidity": 0.2
            },
            "type": "scatter"
           }
          ],
          "scatter3d": [
           {
            "line": {
             "colorbar": {
              "outlinewidth": 0,
              "ticks": ""
             }
            },
            "marker": {
             "colorbar": {
              "outlinewidth": 0,
              "ticks": ""
             }
            },
            "type": "scatter3d"
           }
          ],
          "scattercarpet": [
           {
            "marker": {
             "colorbar": {
              "outlinewidth": 0,
              "ticks": ""
             }
            },
            "type": "scattercarpet"
           }
          ],
          "scattergeo": [
           {
            "marker": {
             "colorbar": {
              "outlinewidth": 0,
              "ticks": ""
             }
            },
            "type": "scattergeo"
           }
          ],
          "scattergl": [
           {
            "marker": {
             "colorbar": {
              "outlinewidth": 0,
              "ticks": ""
             }
            },
            "type": "scattergl"
           }
          ],
          "scattermapbox": [
           {
            "marker": {
             "colorbar": {
              "outlinewidth": 0,
              "ticks": ""
             }
            },
            "type": "scattermapbox"
           }
          ],
          "scatterpolar": [
           {
            "marker": {
             "colorbar": {
              "outlinewidth": 0,
              "ticks": ""
             }
            },
            "type": "scatterpolar"
           }
          ],
          "scatterpolargl": [
           {
            "marker": {
             "colorbar": {
              "outlinewidth": 0,
              "ticks": ""
             }
            },
            "type": "scatterpolargl"
           }
          ],
          "scatterternary": [
           {
            "marker": {
             "colorbar": {
              "outlinewidth": 0,
              "ticks": ""
             }
            },
            "type": "scatterternary"
           }
          ],
          "surface": [
           {
            "colorbar": {
             "outlinewidth": 0,
             "ticks": ""
            },
            "colorscale": [
             [
              0,
              "#0d0887"
             ],
             [
              0.1111111111111111,
              "#46039f"
             ],
             [
              0.2222222222222222,
              "#7201a8"
             ],
             [
              0.3333333333333333,
              "#9c179e"
             ],
             [
              0.4444444444444444,
              "#bd3786"
             ],
             [
              0.5555555555555556,
              "#d8576b"
             ],
             [
              0.6666666666666666,
              "#ed7953"
             ],
             [
              0.7777777777777778,
              "#fb9f3a"
             ],
             [
              0.8888888888888888,
              "#fdca26"
             ],
             [
              1,
              "#f0f921"
             ]
            ],
            "type": "surface"
           }
          ],
          "table": [
           {
            "cells": {
             "fill": {
              "color": "#EBF0F8"
             },
             "line": {
              "color": "white"
             }
            },
            "header": {
             "fill": {
              "color": "#C8D4E3"
             },
             "line": {
              "color": "white"
             }
            },
            "type": "table"
           }
          ]
         },
         "layout": {
          "annotationdefaults": {
           "arrowcolor": "#2a3f5f",
           "arrowhead": 0,
           "arrowwidth": 1
          },
          "autotypenumbers": "strict",
          "coloraxis": {
           "colorbar": {
            "outlinewidth": 0,
            "ticks": ""
           }
          },
          "colorscale": {
           "diverging": [
            [
             0,
             "#8e0152"
            ],
            [
             0.1,
             "#c51b7d"
            ],
            [
             0.2,
             "#de77ae"
            ],
            [
             0.3,
             "#f1b6da"
            ],
            [
             0.4,
             "#fde0ef"
            ],
            [
             0.5,
             "#f7f7f7"
            ],
            [
             0.6,
             "#e6f5d0"
            ],
            [
             0.7,
             "#b8e186"
            ],
            [
             0.8,
             "#7fbc41"
            ],
            [
             0.9,
             "#4d9221"
            ],
            [
             1,
             "#276419"
            ]
           ],
           "sequential": [
            [
             0,
             "#0d0887"
            ],
            [
             0.1111111111111111,
             "#46039f"
            ],
            [
             0.2222222222222222,
             "#7201a8"
            ],
            [
             0.3333333333333333,
             "#9c179e"
            ],
            [
             0.4444444444444444,
             "#bd3786"
            ],
            [
             0.5555555555555556,
             "#d8576b"
            ],
            [
             0.6666666666666666,
             "#ed7953"
            ],
            [
             0.7777777777777778,
             "#fb9f3a"
            ],
            [
             0.8888888888888888,
             "#fdca26"
            ],
            [
             1,
             "#f0f921"
            ]
           ],
           "sequentialminus": [
            [
             0,
             "#0d0887"
            ],
            [
             0.1111111111111111,
             "#46039f"
            ],
            [
             0.2222222222222222,
             "#7201a8"
            ],
            [
             0.3333333333333333,
             "#9c179e"
            ],
            [
             0.4444444444444444,
             "#bd3786"
            ],
            [
             0.5555555555555556,
             "#d8576b"
            ],
            [
             0.6666666666666666,
             "#ed7953"
            ],
            [
             0.7777777777777778,
             "#fb9f3a"
            ],
            [
             0.8888888888888888,
             "#fdca26"
            ],
            [
             1,
             "#f0f921"
            ]
           ]
          },
          "colorway": [
           "#636efa",
           "#EF553B",
           "#00cc96",
           "#ab63fa",
           "#FFA15A",
           "#19d3f3",
           "#FF6692",
           "#B6E880",
           "#FF97FF",
           "#FECB52"
          ],
          "font": {
           "color": "#2a3f5f"
          },
          "geo": {
           "bgcolor": "white",
           "lakecolor": "white",
           "landcolor": "#E5ECF6",
           "showlakes": true,
           "showland": true,
           "subunitcolor": "white"
          },
          "hoverlabel": {
           "align": "left"
          },
          "hovermode": "closest",
          "mapbox": {
           "style": "light"
          },
          "paper_bgcolor": "white",
          "plot_bgcolor": "#E5ECF6",
          "polar": {
           "angularaxis": {
            "gridcolor": "white",
            "linecolor": "white",
            "ticks": ""
           },
           "bgcolor": "#E5ECF6",
           "radialaxis": {
            "gridcolor": "white",
            "linecolor": "white",
            "ticks": ""
           }
          },
          "scene": {
           "xaxis": {
            "backgroundcolor": "#E5ECF6",
            "gridcolor": "white",
            "gridwidth": 2,
            "linecolor": "white",
            "showbackground": true,
            "ticks": "",
            "zerolinecolor": "white"
           },
           "yaxis": {
            "backgroundcolor": "#E5ECF6",
            "gridcolor": "white",
            "gridwidth": 2,
            "linecolor": "white",
            "showbackground": true,
            "ticks": "",
            "zerolinecolor": "white"
           },
           "zaxis": {
            "backgroundcolor": "#E5ECF6",
            "gridcolor": "white",
            "gridwidth": 2,
            "linecolor": "white",
            "showbackground": true,
            "ticks": "",
            "zerolinecolor": "white"
           }
          },
          "shapedefaults": {
           "line": {
            "color": "#2a3f5f"
           }
          },
          "ternary": {
           "aaxis": {
            "gridcolor": "white",
            "linecolor": "white",
            "ticks": ""
           },
           "baxis": {
            "gridcolor": "white",
            "linecolor": "white",
            "ticks": ""
           },
           "bgcolor": "#E5ECF6",
           "caxis": {
            "gridcolor": "white",
            "linecolor": "white",
            "ticks": ""
           }
          },
          "title": {
           "x": 0.05
          },
          "xaxis": {
           "automargin": true,
           "gridcolor": "white",
           "linecolor": "white",
           "ticks": "",
           "title": {
            "standoff": 15
           },
           "zerolinecolor": "white",
           "zerolinewidth": 2
          },
          "yaxis": {
           "automargin": true,
           "gridcolor": "white",
           "linecolor": "white",
           "ticks": "",
           "title": {
            "standoff": 15
           },
           "zerolinecolor": "white",
           "zerolinewidth": 2
          }
         }
        },
        "title": {
         "text": "Loan_Status vs Property_Area"
        },
        "xaxis": {
         "anchor": "y",
         "domain": [
          0,
          1
         ],
         "title": {
          "text": "Property_Area"
         }
        },
        "yaxis": {
         "anchor": "x",
         "domain": [
          0,
          1
         ],
         "title": {
          "text": "count"
         }
        }
       }
      }
     },
     "metadata": {},
     "output_type": "display_data"
    }
   ],
   "source": [
    "fig_property_area = px.histogram(df, x='Property_Area', color='Loan_Status', barmode='group', title='Loan_Status vs Property_Area')\n",
    "fig_property_area.show()"
   ]
  },
  {
   "cell_type": "markdown",
   "metadata": {
    "id": "m2zKt6p0n6vi"
   },
   "source": [
    "### *Detecting outliers and removing them*"
   ]
  },
  {
   "cell_type": "code",
   "execution_count": 484,
   "metadata": {
    "colab": {
     "base_uri": "https://localhost:8080/",
     "height": 542
    },
    "id": "EFRT71ZYIani",
    "outputId": "2909d9ea-05d6-48a5-a487-e46018010f2c"
   },
   "outputs": [
    {
     "data": {
      "application/vnd.plotly.v1+json": {
       "config": {
        "plotlyServerURL": "https://plot.ly"
       },
       "data": [
        {
         "alignmentgroup": "True",
         "hovertemplate": "Loan_Status=%{x}<br>ApplicantIncome=%{y}<extra></extra>",
         "legendgroup": "Y",
         "marker": {
          "color": "#636efa"
         },
         "name": "Y",
         "notched": false,
         "offsetgroup": "Y",
         "orientation": "v",
         "showlegend": true,
         "type": "box",
         "x": [
          "Y",
          "Y",
          "Y",
          "Y",
          "Y",
          "Y",
          "Y",
          "Y",
          "Y",
          "Y",
          "Y",
          "Y",
          "Y",
          "Y",
          "Y",
          "Y",
          "Y",
          "Y",
          "Y",
          "Y",
          "Y",
          "Y",
          "Y",
          "Y",
          "Y",
          "Y",
          "Y",
          "Y",
          "Y",
          "Y",
          "Y",
          "Y",
          "Y",
          "Y",
          "Y",
          "Y",
          "Y",
          "Y",
          "Y",
          "Y",
          "Y",
          "Y",
          "Y",
          "Y",
          "Y",
          "Y",
          "Y",
          "Y",
          "Y",
          "Y",
          "Y",
          "Y",
          "Y",
          "Y",
          "Y",
          "Y",
          "Y",
          "Y",
          "Y",
          "Y",
          "Y",
          "Y",
          "Y",
          "Y",
          "Y",
          "Y",
          "Y",
          "Y",
          "Y",
          "Y",
          "Y",
          "Y",
          "Y",
          "Y",
          "Y",
          "Y",
          "Y",
          "Y",
          "Y",
          "Y",
          "Y",
          "Y",
          "Y",
          "Y",
          "Y",
          "Y",
          "Y",
          "Y",
          "Y",
          "Y",
          "Y",
          "Y",
          "Y",
          "Y",
          "Y",
          "Y",
          "Y",
          "Y",
          "Y",
          "Y",
          "Y",
          "Y",
          "Y",
          "Y",
          "Y",
          "Y",
          "Y",
          "Y",
          "Y",
          "Y",
          "Y",
          "Y",
          "Y",
          "Y",
          "Y",
          "Y",
          "Y",
          "Y",
          "Y",
          "Y",
          "Y",
          "Y",
          "Y",
          "Y",
          "Y",
          "Y",
          "Y",
          "Y",
          "Y",
          "Y",
          "Y",
          "Y",
          "Y",
          "Y",
          "Y",
          "Y",
          "Y",
          "Y",
          "Y",
          "Y",
          "Y",
          "Y",
          "Y",
          "Y",
          "Y",
          "Y",
          "Y",
          "Y",
          "Y",
          "Y",
          "Y",
          "Y",
          "Y",
          "Y",
          "Y",
          "Y",
          "Y",
          "Y",
          "Y",
          "Y",
          "Y",
          "Y",
          "Y",
          "Y",
          "Y",
          "Y",
          "Y",
          "Y",
          "Y",
          "Y",
          "Y",
          "Y",
          "Y",
          "Y",
          "Y",
          "Y",
          "Y",
          "Y",
          "Y",
          "Y",
          "Y",
          "Y",
          "Y",
          "Y",
          "Y",
          "Y",
          "Y",
          "Y",
          "Y",
          "Y",
          "Y",
          "Y",
          "Y",
          "Y",
          "Y",
          "Y",
          "Y",
          "Y",
          "Y",
          "Y",
          "Y",
          "Y",
          "Y",
          "Y",
          "Y",
          "Y",
          "Y",
          "Y",
          "Y",
          "Y",
          "Y",
          "Y",
          "Y",
          "Y",
          "Y",
          "Y",
          "Y",
          "Y",
          "Y",
          "Y",
          "Y",
          "Y",
          "Y",
          "Y",
          "Y",
          "Y",
          "Y",
          "Y",
          "Y",
          "Y",
          "Y",
          "Y",
          "Y",
          "Y",
          "Y",
          "Y",
          "Y",
          "Y",
          "Y",
          "Y",
          "Y",
          "Y",
          "Y",
          "Y",
          "Y",
          "Y",
          "Y",
          "Y",
          "Y",
          "Y",
          "Y",
          "Y",
          "Y",
          "Y",
          "Y",
          "Y",
          "Y",
          "Y",
          "Y",
          "Y",
          "Y",
          "Y",
          "Y",
          "Y",
          "Y",
          "Y",
          "Y",
          "Y",
          "Y",
          "Y",
          "Y",
          "Y",
          "Y",
          "Y",
          "Y",
          "Y",
          "Y",
          "Y",
          "Y",
          "Y",
          "Y",
          "Y",
          "Y",
          "Y",
          "Y",
          "Y",
          "Y",
          "Y",
          "Y",
          "Y",
          "Y",
          "Y",
          "Y",
          "Y",
          "Y",
          "Y",
          "Y",
          "Y",
          "Y",
          "Y",
          "Y",
          "Y",
          "Y",
          "Y",
          "Y",
          "Y",
          "Y",
          "Y",
          "Y",
          "Y",
          "Y",
          "Y",
          "Y",
          "Y",
          "Y",
          "Y",
          "Y",
          "Y",
          "Y",
          "Y",
          "Y",
          "Y",
          "Y",
          "Y",
          "Y",
          "Y",
          "Y",
          "Y",
          "Y",
          "Y",
          "Y",
          "Y",
          "Y",
          "Y",
          "Y",
          "Y",
          "Y",
          "Y",
          "Y",
          "Y",
          "Y",
          "Y",
          "Y",
          "Y",
          "Y",
          "Y",
          "Y",
          "Y",
          "Y",
          "Y",
          "Y",
          "Y",
          "Y",
          "Y",
          "Y",
          "Y",
          "Y",
          "Y",
          "Y",
          "Y",
          "Y",
          "Y",
          "Y",
          "Y",
          "Y",
          "Y",
          "Y",
          "Y",
          "Y",
          "Y",
          "Y",
          "Y",
          "Y",
          "Y",
          "Y",
          "Y",
          "Y",
          "Y",
          "Y",
          "Y",
          "Y",
          "Y",
          "Y",
          "Y",
          "Y",
          "Y",
          "Y",
          "Y",
          "Y",
          "Y",
          "Y",
          "Y",
          "Y",
          "Y",
          "Y",
          "Y",
          "Y",
          "Y",
          "Y",
          "Y",
          "Y",
          "Y",
          "Y",
          "Y",
          "Y",
          "Y",
          "Y",
          "Y",
          "Y",
          "Y",
          "Y",
          "Y",
          "Y",
          "Y",
          "Y",
          "Y",
          "Y",
          "Y",
          "Y",
          "Y",
          "Y",
          "Y"
         ],
         "x0": " ",
         "xaxis": "x",
         "y": [
          5849,
          3000,
          2583,
          6000,
          5417,
          2333,
          4006,
          3200,
          2500,
          3073,
          1299,
          4950,
          3596,
          2600,
          5955,
          9560,
          2799,
          4226,
          3750,
          3500,
          2275,
          3667,
          4166,
          3748,
          1800,
          2400,
          3941,
          4695,
          3410,
          5649,
          5821,
          4000,
          1928,
          3086,
          2708,
          2132,
          8080,
          3357,
          2500,
          3029,
          10750,
          7100,
          3208,
          1875,
          3500,
          5266,
          3333,
          3846,
          2395,
          3988,
          2366,
          3333,
          2500,
          8566,
          5695,
          2958,
          6250,
          3273,
          4133,
          3620,
          2484,
          1977,
          4188,
          1759,
          4288,
          4843,
          13650,
          4652,
          3816,
          3052,
          11417,
          2071,
          5316,
          2929,
          7451,
          5050,
          14583,
          3167,
          2214,
          10408,
          5667,
          4166,
          2137,
          2957,
          4300,
          3692,
          23803,
          3865,
          20166,
          2014,
          2718,
          3459,
          4895,
          3316,
          5417,
          6950,
          2698,
          11757,
          2330,
          14866,
          1538,
          4860,
          2577,
          3254,
          39999,
          6000,
          9538,
          2980,
          4583,
          1863,
          4167,
          9323,
          3707,
          2439,
          8000,
          1820,
          51763,
          5708,
          3497,
          2045,
          3750,
          4600,
          3625,
          39147,
          2383,
          674,
          9328,
          4885,
          3858,
          4191,
          8333,
          1907,
          3416,
          2600,
          4923,
          3500,
          3917,
          4408,
          3244,
          3975,
          2479,
          7787,
          5703,
          3173,
          3850,
          3727,
          4283,
          4009,
          2971,
          7578,
          6250,
          6250,
          4758,
          6400,
          2491,
          3716,
          3189,
          8333,
          3155,
          5500,
          3463,
          3812,
          3315,
          5819,
          2965,
          6250,
          3406,
          9703,
          6608,
          2882,
          1809,
          2583,
          2661,
          3083,
          6083,
          2060,
          7200,
          5166,
          4095,
          4708,
          4333,
          2876,
          3237,
          11146,
          2833,
          2620,
          3900,
          2750,
          3993,
          3103,
          14583,
          4100,
          3927,
          2301,
          1811,
          3158,
          3704,
          4124,
          9508,
          3075,
          3153,
          2383,
          4416,
          6875,
          4666,
          2875,
          5000,
          1625,
          4000,
          3762,
          7667,
          2917,
          2927,
          2507,
          5746,
          3399,
          3717,
          2058,
          3541,
          2400,
          4342,
          3601,
          3166,
          15000,
          4917,
          5818,
          2500,
          4384,
          2935,
          2833,
          63337,
          9833,
          5503,
          5250,
          2500,
          4160,
          4554,
          3173,
          2583,
          2499,
          3083,
          6333,
          2625,
          9083,
          2666,
          2423,
          3813,
          8333,
          5167,
          5000,
          4750,
          3013,
          6822,
          6325,
          15759,
          5185,
          9323,
          2764,
          4817,
          8750,
          4310,
          5391,
          3333,
          5941,
          6000,
          7167,
          3667,
          2346,
          2333,
          5488,
          9167,
          9504,
          2583,
          1993,
          3100,
          3276,
          3033,
          3902,
          2500,
          1963,
          4547,
          2167,
          2213,
          6256,
          2253,
          2995,
          1025,
          3246,
          5829,
          1820,
          14880,
          2666,
          5935,
          2920,
          2717,
          8624,
          12876,
          2425,
          3750,
          10047,
          1926,
          2213,
          7142,
          3660,
          7901,
          4707,
          37719,
          7333,
          3466,
          4652,
          1958,
          2483,
          7085,
          3859,
          4301,
          4354,
          2083,
          7740,
          3015,
          5191,
          6000,
          16692,
          210,
          3450,
          4691,
          2500,
          5532,
          16525,
          6700,
          16667,
          4350,
          3095,
          2083,
          10833,
          8333,
          1958,
          4583,
          2699,
          5333,
          3691,
          17263,
          3326,
          2600,
          4625,
          2895,
          645,
          3159,
          4865,
          3814,
          3510,
          20833,
          2479,
          13262,
          6065,
          3283,
          3466,
          2031,
          2192,
          2500,
          5677,
          7948,
          17500,
          3775,
          5285,
          2679,
          6783,
          1025,
          4281,
          18165,
          2550,
          6133,
          3617,
          6417,
          4608,
          3652,
          2239,
          3017,
          2768,
          2526,
          2785,
          2492,
          3333,
          5468,
          2667,
          10139,
          3887,
          4180,
          3675,
          19484,
          5923,
          5800,
          4467,
          3333,
          3417,
          16666,
          3159,
          3229,
          1782,
          3182,
          6540,
          3166,
          2297,
          2165,
          4750,
          3000,
          9357,
          3859,
          16120,
          3833,
          9963,
          5780,
          2894,
          5703,
          3676,
          12000,
          3400,
          3987,
          3232,
          2900,
          4106,
          8072,
          7583
         ],
         "y0": " ",
         "yaxis": "y"
        },
        {
         "alignmentgroup": "True",
         "hovertemplate": "Loan_Status=%{x}<br>ApplicantIncome=%{y}<extra></extra>",
         "legendgroup": "N",
         "marker": {
          "color": "#EF553B"
         },
         "name": "N",
         "notched": false,
         "offsetgroup": "N",
         "orientation": "v",
         "showlegend": true,
         "type": "box",
         "x": [
          "N",
          "N",
          "N",
          "N",
          "N",
          "N",
          "N",
          "N",
          "N",
          "N",
          "N",
          "N",
          "N",
          "N",
          "N",
          "N",
          "N",
          "N",
          "N",
          "N",
          "N",
          "N",
          "N",
          "N",
          "N",
          "N",
          "N",
          "N",
          "N",
          "N",
          "N",
          "N",
          "N",
          "N",
          "N",
          "N",
          "N",
          "N",
          "N",
          "N",
          "N",
          "N",
          "N",
          "N",
          "N",
          "N",
          "N",
          "N",
          "N",
          "N",
          "N",
          "N",
          "N",
          "N",
          "N",
          "N",
          "N",
          "N",
          "N",
          "N",
          "N",
          "N",
          "N",
          "N",
          "N",
          "N",
          "N",
          "N",
          "N",
          "N",
          "N",
          "N",
          "N",
          "N",
          "N",
          "N",
          "N",
          "N",
          "N",
          "N",
          "N",
          "N",
          "N",
          "N",
          "N",
          "N",
          "N",
          "N",
          "N",
          "N",
          "N",
          "N",
          "N",
          "N",
          "N",
          "N",
          "N",
          "N",
          "N",
          "N",
          "N",
          "N",
          "N",
          "N",
          "N",
          "N",
          "N",
          "N",
          "N",
          "N",
          "N",
          "N",
          "N",
          "N",
          "N",
          "N",
          "N",
          "N",
          "N",
          "N",
          "N",
          "N",
          "N",
          "N",
          "N",
          "N",
          "N",
          "N",
          "N",
          "N",
          "N",
          "N",
          "N",
          "N",
          "N",
          "N",
          "N",
          "N",
          "N",
          "N",
          "N",
          "N",
          "N",
          "N",
          "N",
          "N",
          "N",
          "N",
          "N",
          "N",
          "N",
          "N",
          "N",
          "N",
          "N",
          "N",
          "N",
          "N",
          "N",
          "N",
          "N",
          "N",
          "N",
          "N",
          "N",
          "N",
          "N",
          "N",
          "N",
          "N",
          "N",
          "N",
          "N",
          "N",
          "N",
          "N",
          "N",
          "N",
          "N",
          "N",
          "N",
          "N",
          "N",
          "N",
          "N",
          "N",
          "N",
          "N",
          "N",
          "N",
          "N",
          "N"
         ],
         "x0": " ",
         "xaxis": "x",
         "y": [
          4583,
          3036,
          12841,
          1853,
          3510,
          4887,
          7660,
          2600,
          3365,
          3717,
          1442,
          4166,
          3167,
          4692,
          12500,
          1828,
          3600,
          2645,
          4230,
          4616,
          11500,
          3366,
          2609,
          4945,
          4166,
          5726,
          3200,
          4300,
          4755,
          3750,
          3750,
          1000,
          3167,
          1378,
          6000,
          6782,
          7333,
          3800,
          3572,
          5568,
          10513,
          6080,
          4000,
          4583,
          14999,
          4200,
          5042,
          10000,
          6277,
          9166,
          2281,
          7933,
          3089,
          4583,
          2237,
          3522,
          4344,
          5516,
          2333,
          6400,
          1916,
          33846,
          2178,
          12000,
          6033,
          3125,
          11000,
          3992,
          3418,
          10000,
          3430,
          150,
          5000,
          2221,
          3250,
          4735,
          5746,
          2510,
          6050,
          1668,
          3427,
          16250,
          6045,
          5250,
          14683,
          4931,
          3481,
          3418,
          4053,
          20667,
          2600,
          4400,
          5417,
          5000,
          2014,
          1800,
          2000,
          2400,
          20233,
          2473,
          10000,
          8666,
          4333,
          1830,
          2647,
          2378,
          3523,
          8750,
          5500,
          3875,
          3000,
          4723,
          6216,
          2500,
          5124,
          19730,
          3062,
          3069,
          4566,
          3010,
          3180,
          1500,
          2889,
          2755,
          7441,
          8300,
          81000,
          3867,
          6096,
          2149,
          2600,
          1600,
          2720,
          7250,
          4606,
          6500,
          10416,
          3539,
          3340,
          2769,
          2309,
          3948,
          3708,
          8334,
          4166,
          2947,
          4333,
          2653,
          2873,
          2947,
          3547,
          18333,
          2435,
          3597,
          6283,
          4050,
          3583,
          3598,
          2130,
          5815,
          3074,
          4683,
          3400,
          4680,
          3588,
          11250,
          2917,
          2138,
          3358,
          5000,
          6633,
          2454,
          3593,
          8799,
          3400,
          2378,
          3166,
          5116,
          6125,
          6406,
          3087,
          1836,
          1880,
          2787,
          4283,
          2726,
          6000,
          6383,
          2987,
          416,
          2400,
          4583
         ],
         "y0": " ",
         "yaxis": "y"
        }
       ],
       "layout": {
        "boxmode": "overlay",
        "legend": {
         "title": {
          "text": "Loan_Status"
         },
         "tracegroupgap": 0
        },
        "template": {
         "data": {
          "bar": [
           {
            "error_x": {
             "color": "#2a3f5f"
            },
            "error_y": {
             "color": "#2a3f5f"
            },
            "marker": {
             "line": {
              "color": "#E5ECF6",
              "width": 0.5
             },
             "pattern": {
              "fillmode": "overlay",
              "size": 10,
              "solidity": 0.2
             }
            },
            "type": "bar"
           }
          ],
          "barpolar": [
           {
            "marker": {
             "line": {
              "color": "#E5ECF6",
              "width": 0.5
             },
             "pattern": {
              "fillmode": "overlay",
              "size": 10,
              "solidity": 0.2
             }
            },
            "type": "barpolar"
           }
          ],
          "carpet": [
           {
            "aaxis": {
             "endlinecolor": "#2a3f5f",
             "gridcolor": "white",
             "linecolor": "white",
             "minorgridcolor": "white",
             "startlinecolor": "#2a3f5f"
            },
            "baxis": {
             "endlinecolor": "#2a3f5f",
             "gridcolor": "white",
             "linecolor": "white",
             "minorgridcolor": "white",
             "startlinecolor": "#2a3f5f"
            },
            "type": "carpet"
           }
          ],
          "choropleth": [
           {
            "colorbar": {
             "outlinewidth": 0,
             "ticks": ""
            },
            "type": "choropleth"
           }
          ],
          "contour": [
           {
            "colorbar": {
             "outlinewidth": 0,
             "ticks": ""
            },
            "colorscale": [
             [
              0,
              "#0d0887"
             ],
             [
              0.1111111111111111,
              "#46039f"
             ],
             [
              0.2222222222222222,
              "#7201a8"
             ],
             [
              0.3333333333333333,
              "#9c179e"
             ],
             [
              0.4444444444444444,
              "#bd3786"
             ],
             [
              0.5555555555555556,
              "#d8576b"
             ],
             [
              0.6666666666666666,
              "#ed7953"
             ],
             [
              0.7777777777777778,
              "#fb9f3a"
             ],
             [
              0.8888888888888888,
              "#fdca26"
             ],
             [
              1,
              "#f0f921"
             ]
            ],
            "type": "contour"
           }
          ],
          "contourcarpet": [
           {
            "colorbar": {
             "outlinewidth": 0,
             "ticks": ""
            },
            "type": "contourcarpet"
           }
          ],
          "heatmap": [
           {
            "colorbar": {
             "outlinewidth": 0,
             "ticks": ""
            },
            "colorscale": [
             [
              0,
              "#0d0887"
             ],
             [
              0.1111111111111111,
              "#46039f"
             ],
             [
              0.2222222222222222,
              "#7201a8"
             ],
             [
              0.3333333333333333,
              "#9c179e"
             ],
             [
              0.4444444444444444,
              "#bd3786"
             ],
             [
              0.5555555555555556,
              "#d8576b"
             ],
             [
              0.6666666666666666,
              "#ed7953"
             ],
             [
              0.7777777777777778,
              "#fb9f3a"
             ],
             [
              0.8888888888888888,
              "#fdca26"
             ],
             [
              1,
              "#f0f921"
             ]
            ],
            "type": "heatmap"
           }
          ],
          "heatmapgl": [
           {
            "colorbar": {
             "outlinewidth": 0,
             "ticks": ""
            },
            "colorscale": [
             [
              0,
              "#0d0887"
             ],
             [
              0.1111111111111111,
              "#46039f"
             ],
             [
              0.2222222222222222,
              "#7201a8"
             ],
             [
              0.3333333333333333,
              "#9c179e"
             ],
             [
              0.4444444444444444,
              "#bd3786"
             ],
             [
              0.5555555555555556,
              "#d8576b"
             ],
             [
              0.6666666666666666,
              "#ed7953"
             ],
             [
              0.7777777777777778,
              "#fb9f3a"
             ],
             [
              0.8888888888888888,
              "#fdca26"
             ],
             [
              1,
              "#f0f921"
             ]
            ],
            "type": "heatmapgl"
           }
          ],
          "histogram": [
           {
            "marker": {
             "pattern": {
              "fillmode": "overlay",
              "size": 10,
              "solidity": 0.2
             }
            },
            "type": "histogram"
           }
          ],
          "histogram2d": [
           {
            "colorbar": {
             "outlinewidth": 0,
             "ticks": ""
            },
            "colorscale": [
             [
              0,
              "#0d0887"
             ],
             [
              0.1111111111111111,
              "#46039f"
             ],
             [
              0.2222222222222222,
              "#7201a8"
             ],
             [
              0.3333333333333333,
              "#9c179e"
             ],
             [
              0.4444444444444444,
              "#bd3786"
             ],
             [
              0.5555555555555556,
              "#d8576b"
             ],
             [
              0.6666666666666666,
              "#ed7953"
             ],
             [
              0.7777777777777778,
              "#fb9f3a"
             ],
             [
              0.8888888888888888,
              "#fdca26"
             ],
             [
              1,
              "#f0f921"
             ]
            ],
            "type": "histogram2d"
           }
          ],
          "histogram2dcontour": [
           {
            "colorbar": {
             "outlinewidth": 0,
             "ticks": ""
            },
            "colorscale": [
             [
              0,
              "#0d0887"
             ],
             [
              0.1111111111111111,
              "#46039f"
             ],
             [
              0.2222222222222222,
              "#7201a8"
             ],
             [
              0.3333333333333333,
              "#9c179e"
             ],
             [
              0.4444444444444444,
              "#bd3786"
             ],
             [
              0.5555555555555556,
              "#d8576b"
             ],
             [
              0.6666666666666666,
              "#ed7953"
             ],
             [
              0.7777777777777778,
              "#fb9f3a"
             ],
             [
              0.8888888888888888,
              "#fdca26"
             ],
             [
              1,
              "#f0f921"
             ]
            ],
            "type": "histogram2dcontour"
           }
          ],
          "mesh3d": [
           {
            "colorbar": {
             "outlinewidth": 0,
             "ticks": ""
            },
            "type": "mesh3d"
           }
          ],
          "parcoords": [
           {
            "line": {
             "colorbar": {
              "outlinewidth": 0,
              "ticks": ""
             }
            },
            "type": "parcoords"
           }
          ],
          "pie": [
           {
            "automargin": true,
            "type": "pie"
           }
          ],
          "scatter": [
           {
            "fillpattern": {
             "fillmode": "overlay",
             "size": 10,
             "solidity": 0.2
            },
            "type": "scatter"
           }
          ],
          "scatter3d": [
           {
            "line": {
             "colorbar": {
              "outlinewidth": 0,
              "ticks": ""
             }
            },
            "marker": {
             "colorbar": {
              "outlinewidth": 0,
              "ticks": ""
             }
            },
            "type": "scatter3d"
           }
          ],
          "scattercarpet": [
           {
            "marker": {
             "colorbar": {
              "outlinewidth": 0,
              "ticks": ""
             }
            },
            "type": "scattercarpet"
           }
          ],
          "scattergeo": [
           {
            "marker": {
             "colorbar": {
              "outlinewidth": 0,
              "ticks": ""
             }
            },
            "type": "scattergeo"
           }
          ],
          "scattergl": [
           {
            "marker": {
             "colorbar": {
              "outlinewidth": 0,
              "ticks": ""
             }
            },
            "type": "scattergl"
           }
          ],
          "scattermapbox": [
           {
            "marker": {
             "colorbar": {
              "outlinewidth": 0,
              "ticks": ""
             }
            },
            "type": "scattermapbox"
           }
          ],
          "scatterpolar": [
           {
            "marker": {
             "colorbar": {
              "outlinewidth": 0,
              "ticks": ""
             }
            },
            "type": "scatterpolar"
           }
          ],
          "scatterpolargl": [
           {
            "marker": {
             "colorbar": {
              "outlinewidth": 0,
              "ticks": ""
             }
            },
            "type": "scatterpolargl"
           }
          ],
          "scatterternary": [
           {
            "marker": {
             "colorbar": {
              "outlinewidth": 0,
              "ticks": ""
             }
            },
            "type": "scatterternary"
           }
          ],
          "surface": [
           {
            "colorbar": {
             "outlinewidth": 0,
             "ticks": ""
            },
            "colorscale": [
             [
              0,
              "#0d0887"
             ],
             [
              0.1111111111111111,
              "#46039f"
             ],
             [
              0.2222222222222222,
              "#7201a8"
             ],
             [
              0.3333333333333333,
              "#9c179e"
             ],
             [
              0.4444444444444444,
              "#bd3786"
             ],
             [
              0.5555555555555556,
              "#d8576b"
             ],
             [
              0.6666666666666666,
              "#ed7953"
             ],
             [
              0.7777777777777778,
              "#fb9f3a"
             ],
             [
              0.8888888888888888,
              "#fdca26"
             ],
             [
              1,
              "#f0f921"
             ]
            ],
            "type": "surface"
           }
          ],
          "table": [
           {
            "cells": {
             "fill": {
              "color": "#EBF0F8"
             },
             "line": {
              "color": "white"
             }
            },
            "header": {
             "fill": {
              "color": "#C8D4E3"
             },
             "line": {
              "color": "white"
             }
            },
            "type": "table"
           }
          ]
         },
         "layout": {
          "annotationdefaults": {
           "arrowcolor": "#2a3f5f",
           "arrowhead": 0,
           "arrowwidth": 1
          },
          "autotypenumbers": "strict",
          "coloraxis": {
           "colorbar": {
            "outlinewidth": 0,
            "ticks": ""
           }
          },
          "colorscale": {
           "diverging": [
            [
             0,
             "#8e0152"
            ],
            [
             0.1,
             "#c51b7d"
            ],
            [
             0.2,
             "#de77ae"
            ],
            [
             0.3,
             "#f1b6da"
            ],
            [
             0.4,
             "#fde0ef"
            ],
            [
             0.5,
             "#f7f7f7"
            ],
            [
             0.6,
             "#e6f5d0"
            ],
            [
             0.7,
             "#b8e186"
            ],
            [
             0.8,
             "#7fbc41"
            ],
            [
             0.9,
             "#4d9221"
            ],
            [
             1,
             "#276419"
            ]
           ],
           "sequential": [
            [
             0,
             "#0d0887"
            ],
            [
             0.1111111111111111,
             "#46039f"
            ],
            [
             0.2222222222222222,
             "#7201a8"
            ],
            [
             0.3333333333333333,
             "#9c179e"
            ],
            [
             0.4444444444444444,
             "#bd3786"
            ],
            [
             0.5555555555555556,
             "#d8576b"
            ],
            [
             0.6666666666666666,
             "#ed7953"
            ],
            [
             0.7777777777777778,
             "#fb9f3a"
            ],
            [
             0.8888888888888888,
             "#fdca26"
            ],
            [
             1,
             "#f0f921"
            ]
           ],
           "sequentialminus": [
            [
             0,
             "#0d0887"
            ],
            [
             0.1111111111111111,
             "#46039f"
            ],
            [
             0.2222222222222222,
             "#7201a8"
            ],
            [
             0.3333333333333333,
             "#9c179e"
            ],
            [
             0.4444444444444444,
             "#bd3786"
            ],
            [
             0.5555555555555556,
             "#d8576b"
            ],
            [
             0.6666666666666666,
             "#ed7953"
            ],
            [
             0.7777777777777778,
             "#fb9f3a"
            ],
            [
             0.8888888888888888,
             "#fdca26"
            ],
            [
             1,
             "#f0f921"
            ]
           ]
          },
          "colorway": [
           "#636efa",
           "#EF553B",
           "#00cc96",
           "#ab63fa",
           "#FFA15A",
           "#19d3f3",
           "#FF6692",
           "#B6E880",
           "#FF97FF",
           "#FECB52"
          ],
          "font": {
           "color": "#2a3f5f"
          },
          "geo": {
           "bgcolor": "white",
           "lakecolor": "white",
           "landcolor": "#E5ECF6",
           "showlakes": true,
           "showland": true,
           "subunitcolor": "white"
          },
          "hoverlabel": {
           "align": "left"
          },
          "hovermode": "closest",
          "mapbox": {
           "style": "light"
          },
          "paper_bgcolor": "white",
          "plot_bgcolor": "#E5ECF6",
          "polar": {
           "angularaxis": {
            "gridcolor": "white",
            "linecolor": "white",
            "ticks": ""
           },
           "bgcolor": "#E5ECF6",
           "radialaxis": {
            "gridcolor": "white",
            "linecolor": "white",
            "ticks": ""
           }
          },
          "scene": {
           "xaxis": {
            "backgroundcolor": "#E5ECF6",
            "gridcolor": "white",
            "gridwidth": 2,
            "linecolor": "white",
            "showbackground": true,
            "ticks": "",
            "zerolinecolor": "white"
           },
           "yaxis": {
            "backgroundcolor": "#E5ECF6",
            "gridcolor": "white",
            "gridwidth": 2,
            "linecolor": "white",
            "showbackground": true,
            "ticks": "",
            "zerolinecolor": "white"
           },
           "zaxis": {
            "backgroundcolor": "#E5ECF6",
            "gridcolor": "white",
            "gridwidth": 2,
            "linecolor": "white",
            "showbackground": true,
            "ticks": "",
            "zerolinecolor": "white"
           }
          },
          "shapedefaults": {
           "line": {
            "color": "#2a3f5f"
           }
          },
          "ternary": {
           "aaxis": {
            "gridcolor": "white",
            "linecolor": "white",
            "ticks": ""
           },
           "baxis": {
            "gridcolor": "white",
            "linecolor": "white",
            "ticks": ""
           },
           "bgcolor": "#E5ECF6",
           "caxis": {
            "gridcolor": "white",
            "linecolor": "white",
            "ticks": ""
           }
          },
          "title": {
           "x": 0.05
          },
          "xaxis": {
           "automargin": true,
           "gridcolor": "white",
           "linecolor": "white",
           "ticks": "",
           "title": {
            "standoff": 15
           },
           "zerolinecolor": "white",
           "zerolinewidth": 2
          },
          "yaxis": {
           "automargin": true,
           "gridcolor": "white",
           "linecolor": "white",
           "ticks": "",
           "title": {
            "standoff": 15
           },
           "zerolinecolor": "white",
           "zerolinewidth": 2
          }
         }
        },
        "title": {
         "text": "Loan_Status vs ApplicantIncome"
        },
        "xaxis": {
         "anchor": "y",
         "categoryarray": [
          "Y",
          "N"
         ],
         "categoryorder": "array",
         "domain": [
          0,
          1
         ],
         "title": {
          "text": "Loan_Status"
         }
        },
        "yaxis": {
         "anchor": "x",
         "domain": [
          0,
          1
         ],
         "title": {
          "text": "ApplicantIncome"
         }
        }
       }
      }
     },
     "metadata": {},
     "output_type": "display_data"
    }
   ],
   "source": [
    "fig_income = px.box(df, x='Loan_Status', y='ApplicantIncome', color=\"Loan_Status\", title='Loan_Status vs ApplicantIncome')\n",
    "fig_income.show()"
   ]
  },
  {
   "cell_type": "code",
   "execution_count": 485,
   "metadata": {
    "id": "biylteCf4O6R"
   },
   "outputs": [],
   "source": [
    "# Calculate the IQR\n",
    "Q1 = df['ApplicantIncome'].quantile(0.25)\n",
    "Q3 = df['ApplicantIncome'].quantile(0.75)\n",
    "IQR = Q3 - Q1\n",
    "\n",
    "# Define the lower and upper bounds for outliers\n",
    "lower_bound = Q1 - 1.5 * IQR\n",
    "upper_bound = Q3 + 1.5 * IQR\n",
    "\n",
    "# Remove outliers\n",
    "df = df[(df['ApplicantIncome'] >= lower_bound) & (df['ApplicantIncome'] <= upper_bound)]"
   ]
  },
  {
   "cell_type": "code",
   "execution_count": 486,
   "metadata": {},
   "outputs": [
    {
     "data": {
      "application/vnd.plotly.v1+json": {
       "config": {
        "plotlyServerURL": "https://plot.ly"
       },
       "data": [
        {
         "alignmentgroup": "True",
         "hovertemplate": "Loan_Status=%{x}<br>ApplicantIncome=%{y}<extra></extra>",
         "legendgroup": "Y",
         "marker": {
          "color": "#636efa"
         },
         "name": "Y",
         "notched": false,
         "offsetgroup": "Y",
         "orientation": "v",
         "showlegend": true,
         "type": "box",
         "x": [
          "Y",
          "Y",
          "Y",
          "Y",
          "Y",
          "Y",
          "Y",
          "Y",
          "Y",
          "Y",
          "Y",
          "Y",
          "Y",
          "Y",
          "Y",
          "Y",
          "Y",
          "Y",
          "Y",
          "Y",
          "Y",
          "Y",
          "Y",
          "Y",
          "Y",
          "Y",
          "Y",
          "Y",
          "Y",
          "Y",
          "Y",
          "Y",
          "Y",
          "Y",
          "Y",
          "Y",
          "Y",
          "Y",
          "Y",
          "Y",
          "Y",
          "Y",
          "Y",
          "Y",
          "Y",
          "Y",
          "Y",
          "Y",
          "Y",
          "Y",
          "Y",
          "Y",
          "Y",
          "Y",
          "Y",
          "Y",
          "Y",
          "Y",
          "Y",
          "Y",
          "Y",
          "Y",
          "Y",
          "Y",
          "Y",
          "Y",
          "Y",
          "Y",
          "Y",
          "Y",
          "Y",
          "Y",
          "Y",
          "Y",
          "Y",
          "Y",
          "Y",
          "Y",
          "Y",
          "Y",
          "Y",
          "Y",
          "Y",
          "Y",
          "Y",
          "Y",
          "Y",
          "Y",
          "Y",
          "Y",
          "Y",
          "Y",
          "Y",
          "Y",
          "Y",
          "Y",
          "Y",
          "Y",
          "Y",
          "Y",
          "Y",
          "Y",
          "Y",
          "Y",
          "Y",
          "Y",
          "Y",
          "Y",
          "Y",
          "Y",
          "Y",
          "Y",
          "Y",
          "Y",
          "Y",
          "Y",
          "Y",
          "Y",
          "Y",
          "Y",
          "Y",
          "Y",
          "Y",
          "Y",
          "Y",
          "Y",
          "Y",
          "Y",
          "Y",
          "Y",
          "Y",
          "Y",
          "Y",
          "Y",
          "Y",
          "Y",
          "Y",
          "Y",
          "Y",
          "Y",
          "Y",
          "Y",
          "Y",
          "Y",
          "Y",
          "Y",
          "Y",
          "Y",
          "Y",
          "Y",
          "Y",
          "Y",
          "Y",
          "Y",
          "Y",
          "Y",
          "Y",
          "Y",
          "Y",
          "Y",
          "Y",
          "Y",
          "Y",
          "Y",
          "Y",
          "Y",
          "Y",
          "Y",
          "Y",
          "Y",
          "Y",
          "Y",
          "Y",
          "Y",
          "Y",
          "Y",
          "Y",
          "Y",
          "Y",
          "Y",
          "Y",
          "Y",
          "Y",
          "Y",
          "Y",
          "Y",
          "Y",
          "Y",
          "Y",
          "Y",
          "Y",
          "Y",
          "Y",
          "Y",
          "Y",
          "Y",
          "Y",
          "Y",
          "Y",
          "Y",
          "Y",
          "Y",
          "Y",
          "Y",
          "Y",
          "Y",
          "Y",
          "Y",
          "Y",
          "Y",
          "Y",
          "Y",
          "Y",
          "Y",
          "Y",
          "Y",
          "Y",
          "Y",
          "Y",
          "Y",
          "Y",
          "Y",
          "Y",
          "Y",
          "Y",
          "Y",
          "Y",
          "Y",
          "Y",
          "Y",
          "Y",
          "Y",
          "Y",
          "Y",
          "Y",
          "Y",
          "Y",
          "Y",
          "Y",
          "Y",
          "Y",
          "Y",
          "Y",
          "Y",
          "Y",
          "Y",
          "Y",
          "Y",
          "Y",
          "Y",
          "Y",
          "Y",
          "Y",
          "Y",
          "Y",
          "Y",
          "Y",
          "Y",
          "Y",
          "Y",
          "Y",
          "Y",
          "Y",
          "Y",
          "Y",
          "Y",
          "Y",
          "Y",
          "Y",
          "Y",
          "Y",
          "Y",
          "Y",
          "Y",
          "Y",
          "Y",
          "Y",
          "Y",
          "Y",
          "Y",
          "Y",
          "Y",
          "Y",
          "Y",
          "Y",
          "Y",
          "Y",
          "Y",
          "Y",
          "Y",
          "Y",
          "Y",
          "Y",
          "Y",
          "Y",
          "Y",
          "Y",
          "Y",
          "Y",
          "Y",
          "Y",
          "Y",
          "Y",
          "Y",
          "Y",
          "Y",
          "Y",
          "Y",
          "Y",
          "Y",
          "Y",
          "Y",
          "Y",
          "Y",
          "Y",
          "Y",
          "Y",
          "Y",
          "Y",
          "Y",
          "Y",
          "Y",
          "Y",
          "Y",
          "Y",
          "Y",
          "Y",
          "Y",
          "Y",
          "Y",
          "Y",
          "Y",
          "Y",
          "Y",
          "Y",
          "Y",
          "Y",
          "Y",
          "Y",
          "Y",
          "Y",
          "Y",
          "Y",
          "Y",
          "Y",
          "Y",
          "Y",
          "Y",
          "Y",
          "Y",
          "Y",
          "Y",
          "Y",
          "Y",
          "Y",
          "Y",
          "Y",
          "Y",
          "Y",
          "Y",
          "Y",
          "Y",
          "Y",
          "Y",
          "Y",
          "Y",
          "Y",
          "Y",
          "Y",
          "Y",
          "Y",
          "Y",
          "Y",
          "Y",
          "Y",
          "Y",
          "Y",
          "Y",
          "Y",
          "Y",
          "Y",
          "Y",
          "Y",
          "Y",
          "Y",
          "Y",
          "Y",
          "Y",
          "Y"
         ],
         "x0": " ",
         "xaxis": "x",
         "y": [
          5849,
          3000,
          2583,
          6000,
          5417,
          2333,
          4006,
          3200,
          2500,
          3073,
          1299,
          4950,
          3596,
          2600,
          5955,
          9560,
          2799,
          4226,
          3750,
          3500,
          2275,
          3667,
          4166,
          3748,
          1800,
          2400,
          3941,
          4695,
          3410,
          5649,
          5821,
          4000,
          1928,
          3086,
          2708,
          2132,
          8080,
          3357,
          2500,
          3029,
          7100,
          3208,
          1875,
          3500,
          5266,
          3333,
          3846,
          2395,
          3988,
          2366,
          3333,
          2500,
          8566,
          5695,
          2958,
          6250,
          3273,
          4133,
          3620,
          2484,
          1977,
          4188,
          1759,
          4288,
          4843,
          4652,
          3816,
          3052,
          2071,
          5316,
          2929,
          7451,
          5050,
          3167,
          2214,
          5667,
          4166,
          2137,
          2957,
          4300,
          3692,
          3865,
          2014,
          2718,
          3459,
          4895,
          3316,
          5417,
          6950,
          2698,
          2330,
          1538,
          4860,
          2577,
          3254,
          6000,
          9538,
          2980,
          4583,
          1863,
          4167,
          9323,
          3707,
          2439,
          8000,
          1820,
          5708,
          3497,
          2045,
          3750,
          4600,
          3625,
          2383,
          674,
          9328,
          4885,
          3858,
          4191,
          8333,
          1907,
          3416,
          2600,
          4923,
          3500,
          3917,
          4408,
          3244,
          3975,
          2479,
          7787,
          5703,
          3173,
          3850,
          3727,
          4283,
          4009,
          2971,
          7578,
          6250,
          6250,
          4758,
          6400,
          2491,
          3716,
          3189,
          8333,
          3155,
          5500,
          3463,
          3812,
          3315,
          5819,
          2965,
          6250,
          3406,
          9703,
          6608,
          2882,
          1809,
          2583,
          2661,
          3083,
          6083,
          2060,
          7200,
          5166,
          4095,
          4708,
          4333,
          2876,
          3237,
          2833,
          2620,
          3900,
          2750,
          3993,
          3103,
          4100,
          3927,
          2301,
          1811,
          3158,
          3704,
          4124,
          9508,
          3075,
          3153,
          2383,
          4416,
          6875,
          4666,
          2875,
          5000,
          1625,
          4000,
          3762,
          7667,
          2917,
          2927,
          2507,
          5746,
          3399,
          3717,
          2058,
          3541,
          2400,
          4342,
          3601,
          3166,
          4917,
          5818,
          2500,
          4384,
          2935,
          2833,
          9833,
          5503,
          5250,
          2500,
          4160,
          4554,
          3173,
          2583,
          2499,
          3083,
          6333,
          2625,
          9083,
          2666,
          2423,
          3813,
          8333,
          5167,
          5000,
          4750,
          3013,
          6822,
          6325,
          5185,
          9323,
          2764,
          4817,
          8750,
          4310,
          5391,
          3333,
          5941,
          6000,
          7167,
          3667,
          2346,
          2333,
          5488,
          9167,
          9504,
          2583,
          1993,
          3100,
          3276,
          3033,
          3902,
          2500,
          1963,
          4547,
          2167,
          2213,
          6256,
          2253,
          2995,
          1025,
          3246,
          5829,
          1820,
          2666,
          5935,
          2920,
          2717,
          8624,
          2425,
          3750,
          10047,
          1926,
          2213,
          7142,
          3660,
          7901,
          4707,
          7333,
          3466,
          4652,
          1958,
          2483,
          7085,
          3859,
          4301,
          4354,
          2083,
          7740,
          3015,
          5191,
          6000,
          210,
          3450,
          4691,
          2500,
          5532,
          6700,
          4350,
          3095,
          2083,
          8333,
          1958,
          4583,
          2699,
          5333,
          3691,
          3326,
          2600,
          4625,
          2895,
          645,
          3159,
          4865,
          3814,
          3510,
          2479,
          6065,
          3283,
          3466,
          2031,
          2192,
          2500,
          5677,
          7948,
          3775,
          5285,
          2679,
          6783,
          1025,
          4281,
          2550,
          6133,
          3617,
          6417,
          4608,
          3652,
          2239,
          3017,
          2768,
          2526,
          2785,
          2492,
          3333,
          5468,
          2667,
          10139,
          3887,
          4180,
          3675,
          5923,
          5800,
          4467,
          3333,
          3417,
          3159,
          3229,
          1782,
          3182,
          6540,
          3166,
          2297,
          2165,
          4750,
          3000,
          9357,
          3859,
          3833,
          9963,
          5780,
          2894,
          5703,
          3676,
          3400,
          3987,
          3232,
          2900,
          4106,
          8072,
          7583
         ],
         "y0": " ",
         "yaxis": "y"
        },
        {
         "alignmentgroup": "True",
         "hovertemplate": "Loan_Status=%{x}<br>ApplicantIncome=%{y}<extra></extra>",
         "legendgroup": "N",
         "marker": {
          "color": "#EF553B"
         },
         "name": "N",
         "notched": false,
         "offsetgroup": "N",
         "orientation": "v",
         "showlegend": true,
         "type": "box",
         "x": [
          "N",
          "N",
          "N",
          "N",
          "N",
          "N",
          "N",
          "N",
          "N",
          "N",
          "N",
          "N",
          "N",
          "N",
          "N",
          "N",
          "N",
          "N",
          "N",
          "N",
          "N",
          "N",
          "N",
          "N",
          "N",
          "N",
          "N",
          "N",
          "N",
          "N",
          "N",
          "N",
          "N",
          "N",
          "N",
          "N",
          "N",
          "N",
          "N",
          "N",
          "N",
          "N",
          "N",
          "N",
          "N",
          "N",
          "N",
          "N",
          "N",
          "N",
          "N",
          "N",
          "N",
          "N",
          "N",
          "N",
          "N",
          "N",
          "N",
          "N",
          "N",
          "N",
          "N",
          "N",
          "N",
          "N",
          "N",
          "N",
          "N",
          "N",
          "N",
          "N",
          "N",
          "N",
          "N",
          "N",
          "N",
          "N",
          "N",
          "N",
          "N",
          "N",
          "N",
          "N",
          "N",
          "N",
          "N",
          "N",
          "N",
          "N",
          "N",
          "N",
          "N",
          "N",
          "N",
          "N",
          "N",
          "N",
          "N",
          "N",
          "N",
          "N",
          "N",
          "N",
          "N",
          "N",
          "N",
          "N",
          "N",
          "N",
          "N",
          "N",
          "N",
          "N",
          "N",
          "N",
          "N",
          "N",
          "N",
          "N",
          "N",
          "N",
          "N",
          "N",
          "N",
          "N",
          "N",
          "N",
          "N",
          "N",
          "N",
          "N",
          "N",
          "N",
          "N",
          "N",
          "N",
          "N",
          "N",
          "N",
          "N",
          "N",
          "N",
          "N",
          "N",
          "N",
          "N",
          "N",
          "N",
          "N",
          "N",
          "N",
          "N",
          "N",
          "N",
          "N",
          "N",
          "N",
          "N",
          "N",
          "N",
          "N",
          "N",
          "N",
          "N",
          "N",
          "N",
          "N",
          "N",
          "N",
          "N",
          "N",
          "N",
          "N",
          "N"
         ],
         "x0": " ",
         "xaxis": "x",
         "y": [
          4583,
          3036,
          1853,
          3510,
          4887,
          7660,
          2600,
          3365,
          3717,
          1442,
          4166,
          3167,
          4692,
          1828,
          3600,
          2645,
          4230,
          4616,
          3366,
          2609,
          4945,
          4166,
          5726,
          3200,
          4300,
          4755,
          3750,
          3750,
          1000,
          3167,
          1378,
          6000,
          6782,
          7333,
          3800,
          3572,
          5568,
          6080,
          4000,
          4583,
          4200,
          5042,
          10000,
          6277,
          9166,
          2281,
          7933,
          3089,
          4583,
          2237,
          3522,
          4344,
          5516,
          2333,
          6400,
          1916,
          2178,
          6033,
          3125,
          3992,
          3418,
          10000,
          3430,
          150,
          5000,
          2221,
          3250,
          4735,
          5746,
          2510,
          6050,
          1668,
          3427,
          6045,
          5250,
          4931,
          3481,
          3418,
          4053,
          2600,
          4400,
          5417,
          5000,
          2014,
          1800,
          2000,
          2400,
          2473,
          10000,
          8666,
          4333,
          1830,
          2647,
          2378,
          3523,
          8750,
          5500,
          3875,
          3000,
          4723,
          6216,
          2500,
          5124,
          3062,
          3069,
          4566,
          3010,
          3180,
          1500,
          2889,
          2755,
          7441,
          8300,
          3867,
          6096,
          2149,
          2600,
          1600,
          2720,
          7250,
          4606,
          6500,
          3539,
          3340,
          2769,
          2309,
          3948,
          3708,
          8334,
          4166,
          2947,
          4333,
          2653,
          2873,
          2947,
          3547,
          2435,
          3597,
          6283,
          4050,
          3583,
          3598,
          2130,
          5815,
          3074,
          4683,
          3400,
          4680,
          3588,
          2917,
          2138,
          3358,
          5000,
          6633,
          2454,
          3593,
          8799,
          3400,
          2378,
          3166,
          5116,
          6125,
          6406,
          3087,
          1836,
          1880,
          2787,
          4283,
          2726,
          6000,
          6383,
          2987,
          416,
          2400,
          4583
         ],
         "y0": " ",
         "yaxis": "y"
        }
       ],
       "layout": {
        "boxmode": "overlay",
        "legend": {
         "title": {
          "text": "Loan_Status"
         },
         "tracegroupgap": 0
        },
        "template": {
         "data": {
          "bar": [
           {
            "error_x": {
             "color": "#2a3f5f"
            },
            "error_y": {
             "color": "#2a3f5f"
            },
            "marker": {
             "line": {
              "color": "#E5ECF6",
              "width": 0.5
             },
             "pattern": {
              "fillmode": "overlay",
              "size": 10,
              "solidity": 0.2
             }
            },
            "type": "bar"
           }
          ],
          "barpolar": [
           {
            "marker": {
             "line": {
              "color": "#E5ECF6",
              "width": 0.5
             },
             "pattern": {
              "fillmode": "overlay",
              "size": 10,
              "solidity": 0.2
             }
            },
            "type": "barpolar"
           }
          ],
          "carpet": [
           {
            "aaxis": {
             "endlinecolor": "#2a3f5f",
             "gridcolor": "white",
             "linecolor": "white",
             "minorgridcolor": "white",
             "startlinecolor": "#2a3f5f"
            },
            "baxis": {
             "endlinecolor": "#2a3f5f",
             "gridcolor": "white",
             "linecolor": "white",
             "minorgridcolor": "white",
             "startlinecolor": "#2a3f5f"
            },
            "type": "carpet"
           }
          ],
          "choropleth": [
           {
            "colorbar": {
             "outlinewidth": 0,
             "ticks": ""
            },
            "type": "choropleth"
           }
          ],
          "contour": [
           {
            "colorbar": {
             "outlinewidth": 0,
             "ticks": ""
            },
            "colorscale": [
             [
              0,
              "#0d0887"
             ],
             [
              0.1111111111111111,
              "#46039f"
             ],
             [
              0.2222222222222222,
              "#7201a8"
             ],
             [
              0.3333333333333333,
              "#9c179e"
             ],
             [
              0.4444444444444444,
              "#bd3786"
             ],
             [
              0.5555555555555556,
              "#d8576b"
             ],
             [
              0.6666666666666666,
              "#ed7953"
             ],
             [
              0.7777777777777778,
              "#fb9f3a"
             ],
             [
              0.8888888888888888,
              "#fdca26"
             ],
             [
              1,
              "#f0f921"
             ]
            ],
            "type": "contour"
           }
          ],
          "contourcarpet": [
           {
            "colorbar": {
             "outlinewidth": 0,
             "ticks": ""
            },
            "type": "contourcarpet"
           }
          ],
          "heatmap": [
           {
            "colorbar": {
             "outlinewidth": 0,
             "ticks": ""
            },
            "colorscale": [
             [
              0,
              "#0d0887"
             ],
             [
              0.1111111111111111,
              "#46039f"
             ],
             [
              0.2222222222222222,
              "#7201a8"
             ],
             [
              0.3333333333333333,
              "#9c179e"
             ],
             [
              0.4444444444444444,
              "#bd3786"
             ],
             [
              0.5555555555555556,
              "#d8576b"
             ],
             [
              0.6666666666666666,
              "#ed7953"
             ],
             [
              0.7777777777777778,
              "#fb9f3a"
             ],
             [
              0.8888888888888888,
              "#fdca26"
             ],
             [
              1,
              "#f0f921"
             ]
            ],
            "type": "heatmap"
           }
          ],
          "heatmapgl": [
           {
            "colorbar": {
             "outlinewidth": 0,
             "ticks": ""
            },
            "colorscale": [
             [
              0,
              "#0d0887"
             ],
             [
              0.1111111111111111,
              "#46039f"
             ],
             [
              0.2222222222222222,
              "#7201a8"
             ],
             [
              0.3333333333333333,
              "#9c179e"
             ],
             [
              0.4444444444444444,
              "#bd3786"
             ],
             [
              0.5555555555555556,
              "#d8576b"
             ],
             [
              0.6666666666666666,
              "#ed7953"
             ],
             [
              0.7777777777777778,
              "#fb9f3a"
             ],
             [
              0.8888888888888888,
              "#fdca26"
             ],
             [
              1,
              "#f0f921"
             ]
            ],
            "type": "heatmapgl"
           }
          ],
          "histogram": [
           {
            "marker": {
             "pattern": {
              "fillmode": "overlay",
              "size": 10,
              "solidity": 0.2
             }
            },
            "type": "histogram"
           }
          ],
          "histogram2d": [
           {
            "colorbar": {
             "outlinewidth": 0,
             "ticks": ""
            },
            "colorscale": [
             [
              0,
              "#0d0887"
             ],
             [
              0.1111111111111111,
              "#46039f"
             ],
             [
              0.2222222222222222,
              "#7201a8"
             ],
             [
              0.3333333333333333,
              "#9c179e"
             ],
             [
              0.4444444444444444,
              "#bd3786"
             ],
             [
              0.5555555555555556,
              "#d8576b"
             ],
             [
              0.6666666666666666,
              "#ed7953"
             ],
             [
              0.7777777777777778,
              "#fb9f3a"
             ],
             [
              0.8888888888888888,
              "#fdca26"
             ],
             [
              1,
              "#f0f921"
             ]
            ],
            "type": "histogram2d"
           }
          ],
          "histogram2dcontour": [
           {
            "colorbar": {
             "outlinewidth": 0,
             "ticks": ""
            },
            "colorscale": [
             [
              0,
              "#0d0887"
             ],
             [
              0.1111111111111111,
              "#46039f"
             ],
             [
              0.2222222222222222,
              "#7201a8"
             ],
             [
              0.3333333333333333,
              "#9c179e"
             ],
             [
              0.4444444444444444,
              "#bd3786"
             ],
             [
              0.5555555555555556,
              "#d8576b"
             ],
             [
              0.6666666666666666,
              "#ed7953"
             ],
             [
              0.7777777777777778,
              "#fb9f3a"
             ],
             [
              0.8888888888888888,
              "#fdca26"
             ],
             [
              1,
              "#f0f921"
             ]
            ],
            "type": "histogram2dcontour"
           }
          ],
          "mesh3d": [
           {
            "colorbar": {
             "outlinewidth": 0,
             "ticks": ""
            },
            "type": "mesh3d"
           }
          ],
          "parcoords": [
           {
            "line": {
             "colorbar": {
              "outlinewidth": 0,
              "ticks": ""
             }
            },
            "type": "parcoords"
           }
          ],
          "pie": [
           {
            "automargin": true,
            "type": "pie"
           }
          ],
          "scatter": [
           {
            "fillpattern": {
             "fillmode": "overlay",
             "size": 10,
             "solidity": 0.2
            },
            "type": "scatter"
           }
          ],
          "scatter3d": [
           {
            "line": {
             "colorbar": {
              "outlinewidth": 0,
              "ticks": ""
             }
            },
            "marker": {
             "colorbar": {
              "outlinewidth": 0,
              "ticks": ""
             }
            },
            "type": "scatter3d"
           }
          ],
          "scattercarpet": [
           {
            "marker": {
             "colorbar": {
              "outlinewidth": 0,
              "ticks": ""
             }
            },
            "type": "scattercarpet"
           }
          ],
          "scattergeo": [
           {
            "marker": {
             "colorbar": {
              "outlinewidth": 0,
              "ticks": ""
             }
            },
            "type": "scattergeo"
           }
          ],
          "scattergl": [
           {
            "marker": {
             "colorbar": {
              "outlinewidth": 0,
              "ticks": ""
             }
            },
            "type": "scattergl"
           }
          ],
          "scattermapbox": [
           {
            "marker": {
             "colorbar": {
              "outlinewidth": 0,
              "ticks": ""
             }
            },
            "type": "scattermapbox"
           }
          ],
          "scatterpolar": [
           {
            "marker": {
             "colorbar": {
              "outlinewidth": 0,
              "ticks": ""
             }
            },
            "type": "scatterpolar"
           }
          ],
          "scatterpolargl": [
           {
            "marker": {
             "colorbar": {
              "outlinewidth": 0,
              "ticks": ""
             }
            },
            "type": "scatterpolargl"
           }
          ],
          "scatterternary": [
           {
            "marker": {
             "colorbar": {
              "outlinewidth": 0,
              "ticks": ""
             }
            },
            "type": "scatterternary"
           }
          ],
          "surface": [
           {
            "colorbar": {
             "outlinewidth": 0,
             "ticks": ""
            },
            "colorscale": [
             [
              0,
              "#0d0887"
             ],
             [
              0.1111111111111111,
              "#46039f"
             ],
             [
              0.2222222222222222,
              "#7201a8"
             ],
             [
              0.3333333333333333,
              "#9c179e"
             ],
             [
              0.4444444444444444,
              "#bd3786"
             ],
             [
              0.5555555555555556,
              "#d8576b"
             ],
             [
              0.6666666666666666,
              "#ed7953"
             ],
             [
              0.7777777777777778,
              "#fb9f3a"
             ],
             [
              0.8888888888888888,
              "#fdca26"
             ],
             [
              1,
              "#f0f921"
             ]
            ],
            "type": "surface"
           }
          ],
          "table": [
           {
            "cells": {
             "fill": {
              "color": "#EBF0F8"
             },
             "line": {
              "color": "white"
             }
            },
            "header": {
             "fill": {
              "color": "#C8D4E3"
             },
             "line": {
              "color": "white"
             }
            },
            "type": "table"
           }
          ]
         },
         "layout": {
          "annotationdefaults": {
           "arrowcolor": "#2a3f5f",
           "arrowhead": 0,
           "arrowwidth": 1
          },
          "autotypenumbers": "strict",
          "coloraxis": {
           "colorbar": {
            "outlinewidth": 0,
            "ticks": ""
           }
          },
          "colorscale": {
           "diverging": [
            [
             0,
             "#8e0152"
            ],
            [
             0.1,
             "#c51b7d"
            ],
            [
             0.2,
             "#de77ae"
            ],
            [
             0.3,
             "#f1b6da"
            ],
            [
             0.4,
             "#fde0ef"
            ],
            [
             0.5,
             "#f7f7f7"
            ],
            [
             0.6,
             "#e6f5d0"
            ],
            [
             0.7,
             "#b8e186"
            ],
            [
             0.8,
             "#7fbc41"
            ],
            [
             0.9,
             "#4d9221"
            ],
            [
             1,
             "#276419"
            ]
           ],
           "sequential": [
            [
             0,
             "#0d0887"
            ],
            [
             0.1111111111111111,
             "#46039f"
            ],
            [
             0.2222222222222222,
             "#7201a8"
            ],
            [
             0.3333333333333333,
             "#9c179e"
            ],
            [
             0.4444444444444444,
             "#bd3786"
            ],
            [
             0.5555555555555556,
             "#d8576b"
            ],
            [
             0.6666666666666666,
             "#ed7953"
            ],
            [
             0.7777777777777778,
             "#fb9f3a"
            ],
            [
             0.8888888888888888,
             "#fdca26"
            ],
            [
             1,
             "#f0f921"
            ]
           ],
           "sequentialminus": [
            [
             0,
             "#0d0887"
            ],
            [
             0.1111111111111111,
             "#46039f"
            ],
            [
             0.2222222222222222,
             "#7201a8"
            ],
            [
             0.3333333333333333,
             "#9c179e"
            ],
            [
             0.4444444444444444,
             "#bd3786"
            ],
            [
             0.5555555555555556,
             "#d8576b"
            ],
            [
             0.6666666666666666,
             "#ed7953"
            ],
            [
             0.7777777777777778,
             "#fb9f3a"
            ],
            [
             0.8888888888888888,
             "#fdca26"
            ],
            [
             1,
             "#f0f921"
            ]
           ]
          },
          "colorway": [
           "#636efa",
           "#EF553B",
           "#00cc96",
           "#ab63fa",
           "#FFA15A",
           "#19d3f3",
           "#FF6692",
           "#B6E880",
           "#FF97FF",
           "#FECB52"
          ],
          "font": {
           "color": "#2a3f5f"
          },
          "geo": {
           "bgcolor": "white",
           "lakecolor": "white",
           "landcolor": "#E5ECF6",
           "showlakes": true,
           "showland": true,
           "subunitcolor": "white"
          },
          "hoverlabel": {
           "align": "left"
          },
          "hovermode": "closest",
          "mapbox": {
           "style": "light"
          },
          "paper_bgcolor": "white",
          "plot_bgcolor": "#E5ECF6",
          "polar": {
           "angularaxis": {
            "gridcolor": "white",
            "linecolor": "white",
            "ticks": ""
           },
           "bgcolor": "#E5ECF6",
           "radialaxis": {
            "gridcolor": "white",
            "linecolor": "white",
            "ticks": ""
           }
          },
          "scene": {
           "xaxis": {
            "backgroundcolor": "#E5ECF6",
            "gridcolor": "white",
            "gridwidth": 2,
            "linecolor": "white",
            "showbackground": true,
            "ticks": "",
            "zerolinecolor": "white"
           },
           "yaxis": {
            "backgroundcolor": "#E5ECF6",
            "gridcolor": "white",
            "gridwidth": 2,
            "linecolor": "white",
            "showbackground": true,
            "ticks": "",
            "zerolinecolor": "white"
           },
           "zaxis": {
            "backgroundcolor": "#E5ECF6",
            "gridcolor": "white",
            "gridwidth": 2,
            "linecolor": "white",
            "showbackground": true,
            "ticks": "",
            "zerolinecolor": "white"
           }
          },
          "shapedefaults": {
           "line": {
            "color": "#2a3f5f"
           }
          },
          "ternary": {
           "aaxis": {
            "gridcolor": "white",
            "linecolor": "white",
            "ticks": ""
           },
           "baxis": {
            "gridcolor": "white",
            "linecolor": "white",
            "ticks": ""
           },
           "bgcolor": "#E5ECF6",
           "caxis": {
            "gridcolor": "white",
            "linecolor": "white",
            "ticks": ""
           }
          },
          "title": {
           "x": 0.05
          },
          "xaxis": {
           "automargin": true,
           "gridcolor": "white",
           "linecolor": "white",
           "ticks": "",
           "title": {
            "standoff": 15
           },
           "zerolinecolor": "white",
           "zerolinewidth": 2
          },
          "yaxis": {
           "automargin": true,
           "gridcolor": "white",
           "linecolor": "white",
           "ticks": "",
           "title": {
            "standoff": 15
           },
           "zerolinecolor": "white",
           "zerolinewidth": 2
          }
         }
        },
        "title": {
         "text": "Loan_Status vs ApplicantIncome"
        },
        "xaxis": {
         "anchor": "y",
         "categoryarray": [
          "Y",
          "N"
         ],
         "categoryorder": "array",
         "domain": [
          0,
          1
         ],
         "title": {
          "text": "Loan_Status"
         }
        },
        "yaxis": {
         "anchor": "x",
         "domain": [
          0,
          1
         ],
         "title": {
          "text": "ApplicantIncome"
         }
        }
       }
      }
     },
     "metadata": {},
     "output_type": "display_data"
    }
   ],
   "source": [
    "fig_income = px.box(df, x='Loan_Status', y='ApplicantIncome', color=\"Loan_Status\", title='Loan_Status vs ApplicantIncome')\n",
    "fig_income.show()"
   ]
  },
  {
   "cell_type": "code",
   "execution_count": 487,
   "metadata": {
    "colab": {
     "base_uri": "https://localhost:8080/",
     "height": 542
    },
    "id": "Ncuf5-WyFGOq",
    "outputId": "f575fa67-bc14-424b-a10e-6c8a4e1c390b"
   },
   "outputs": [
    {
     "data": {
      "application/vnd.plotly.v1+json": {
       "config": {
        "plotlyServerURL": "https://plot.ly"
       },
       "data": [
        {
         "alignmentgroup": "True",
         "hovertemplate": "Loan_Status=%{x}<br>CoapplicantIncome=%{y}<extra></extra>",
         "legendgroup": "Y",
         "marker": {
          "color": "#636efa"
         },
         "name": "Y",
         "notched": false,
         "offsetgroup": "Y",
         "orientation": "v",
         "showlegend": true,
         "type": "box",
         "x": [
          "Y",
          "Y",
          "Y",
          "Y",
          "Y",
          "Y",
          "Y",
          "Y",
          "Y",
          "Y",
          "Y",
          "Y",
          "Y",
          "Y",
          "Y",
          "Y",
          "Y",
          "Y",
          "Y",
          "Y",
          "Y",
          "Y",
          "Y",
          "Y",
          "Y",
          "Y",
          "Y",
          "Y",
          "Y",
          "Y",
          "Y",
          "Y",
          "Y",
          "Y",
          "Y",
          "Y",
          "Y",
          "Y",
          "Y",
          "Y",
          "Y",
          "Y",
          "Y",
          "Y",
          "Y",
          "Y",
          "Y",
          "Y",
          "Y",
          "Y",
          "Y",
          "Y",
          "Y",
          "Y",
          "Y",
          "Y",
          "Y",
          "Y",
          "Y",
          "Y",
          "Y",
          "Y",
          "Y",
          "Y",
          "Y",
          "Y",
          "Y",
          "Y",
          "Y",
          "Y",
          "Y",
          "Y",
          "Y",
          "Y",
          "Y",
          "Y",
          "Y",
          "Y",
          "Y",
          "Y",
          "Y",
          "Y",
          "Y",
          "Y",
          "Y",
          "Y",
          "Y",
          "Y",
          "Y",
          "Y",
          "Y",
          "Y",
          "Y",
          "Y",
          "Y",
          "Y",
          "Y",
          "Y",
          "Y",
          "Y",
          "Y",
          "Y",
          "Y",
          "Y",
          "Y",
          "Y",
          "Y",
          "Y",
          "Y",
          "Y",
          "Y",
          "Y",
          "Y",
          "Y",
          "Y",
          "Y",
          "Y",
          "Y",
          "Y",
          "Y",
          "Y",
          "Y",
          "Y",
          "Y",
          "Y",
          "Y",
          "Y",
          "Y",
          "Y",
          "Y",
          "Y",
          "Y",
          "Y",
          "Y",
          "Y",
          "Y",
          "Y",
          "Y",
          "Y",
          "Y",
          "Y",
          "Y",
          "Y",
          "Y",
          "Y",
          "Y",
          "Y",
          "Y",
          "Y",
          "Y",
          "Y",
          "Y",
          "Y",
          "Y",
          "Y",
          "Y",
          "Y",
          "Y",
          "Y",
          "Y",
          "Y",
          "Y",
          "Y",
          "Y",
          "Y",
          "Y",
          "Y",
          "Y",
          "Y",
          "Y",
          "Y",
          "Y",
          "Y",
          "Y",
          "Y",
          "Y",
          "Y",
          "Y",
          "Y",
          "Y",
          "Y",
          "Y",
          "Y",
          "Y",
          "Y",
          "Y",
          "Y",
          "Y",
          "Y",
          "Y",
          "Y",
          "Y",
          "Y",
          "Y",
          "Y",
          "Y",
          "Y",
          "Y",
          "Y",
          "Y",
          "Y",
          "Y",
          "Y",
          "Y",
          "Y",
          "Y",
          "Y",
          "Y",
          "Y",
          "Y",
          "Y",
          "Y",
          "Y",
          "Y",
          "Y",
          "Y",
          "Y",
          "Y",
          "Y",
          "Y",
          "Y",
          "Y",
          "Y",
          "Y",
          "Y",
          "Y",
          "Y",
          "Y",
          "Y",
          "Y",
          "Y",
          "Y",
          "Y",
          "Y",
          "Y",
          "Y",
          "Y",
          "Y",
          "Y",
          "Y",
          "Y",
          "Y",
          "Y",
          "Y",
          "Y",
          "Y",
          "Y",
          "Y",
          "Y",
          "Y",
          "Y",
          "Y",
          "Y",
          "Y",
          "Y",
          "Y",
          "Y",
          "Y",
          "Y",
          "Y",
          "Y",
          "Y",
          "Y",
          "Y",
          "Y",
          "Y",
          "Y",
          "Y",
          "Y",
          "Y",
          "Y",
          "Y",
          "Y",
          "Y",
          "Y",
          "Y",
          "Y",
          "Y",
          "Y",
          "Y",
          "Y",
          "Y",
          "Y",
          "Y",
          "Y",
          "Y",
          "Y",
          "Y",
          "Y",
          "Y",
          "Y",
          "Y",
          "Y",
          "Y",
          "Y",
          "Y",
          "Y",
          "Y",
          "Y",
          "Y",
          "Y",
          "Y",
          "Y",
          "Y",
          "Y",
          "Y",
          "Y",
          "Y",
          "Y",
          "Y",
          "Y",
          "Y",
          "Y",
          "Y",
          "Y",
          "Y",
          "Y",
          "Y",
          "Y",
          "Y",
          "Y",
          "Y",
          "Y",
          "Y",
          "Y",
          "Y",
          "Y",
          "Y",
          "Y",
          "Y",
          "Y",
          "Y",
          "Y",
          "Y",
          "Y",
          "Y",
          "Y",
          "Y",
          "Y",
          "Y",
          "Y",
          "Y",
          "Y",
          "Y",
          "Y",
          "Y",
          "Y",
          "Y",
          "Y",
          "Y",
          "Y",
          "Y",
          "Y",
          "Y",
          "Y",
          "Y",
          "Y",
          "Y",
          "Y",
          "Y",
          "Y",
          "Y",
          "Y",
          "Y",
          "Y",
          "Y",
          "Y",
          "Y",
          "Y",
          "Y",
          "Y",
          "Y",
          "Y",
          "Y",
          "Y",
          "Y",
          "Y",
          "Y",
          "Y",
          "Y",
          "Y",
          "Y",
          "Y",
          "Y",
          "Y",
          "Y",
          "Y",
          "Y",
          "Y"
         ],
         "x0": " ",
         "xaxis": "x",
         "y": [
          0,
          0,
          2358,
          0,
          4196,
          1516,
          1526,
          700,
          1840,
          8106,
          1086,
          0,
          0,
          3500,
          5625,
          0,
          2253,
          1040,
          2083,
          1667,
          2067,
          1459,
          7210,
          1668,
          1213,
          0,
          2336,
          0,
          0,
          0,
          0,
          2275,
          1644,
          0,
          1167,
          1591,
          2250,
          2859,
          3796,
          0,
          0,
          3066,
          1875,
          0,
          1774,
          2166,
          0,
          0,
          0,
          2531,
          2000,
          2118,
          0,
          4167,
          2900,
          5654,
          1820,
          0,
          0,
          2302,
          997,
          0,
          3541,
          3263,
          3806,
          3583,
          754,
          1030,
          754,
          0,
          2333,
          0,
          0,
          2283,
          1398,
          2667,
          0,
          8980,
          0,
          2014,
          0,
          1640,
          1929,
          0,
          0,
          0,
          3500,
          0,
          0,
          2034,
          4486,
          1425,
          830,
          3750,
          0,
          0,
          0,
          2083,
          5625,
          1041,
          1447,
          0,
          3166,
          3333,
          0,
          1769,
          5625,
          1964,
          1619,
          0,
          0,
          0,
          2138,
          5296,
          0,
          0,
          0,
          0,
          3750,
          2365,
          2816,
          2500,
          0,
          1083,
          0,
          0,
          0,
          2531,
          0,
          0,
          0,
          3021,
          983,
          1775,
          2383,
          1717,
          2791,
          1010,
          0,
          1695,
          0,
          0,
          2054,
          0,
          2598,
          0,
          1779,
          1260,
          0,
          0,
          0,
          5000,
          5701,
          1300,
          4417,
          0,
          0,
          1843,
          1868,
          2167,
          7101,
          0,
          4250,
          2209,
          0,
          0,
          3447,
          1387,
          1811,
          1560,
          0,
          1857,
          2223,
          0,
          1842,
          3274,
          1300,
          0,
          800,
          985.7999878,
          1666,
          3053,
          2000,
          0,
          0,
          2416,
          1560,
          3334,
          1250,
          0,
          0,
          1750,
          0,
          1803,
          2500,
          1666,
          0,
          0,
          2405,
          0,
          0,
          1640,
          0,
          2134,
          0,
          2167,
          189,
          1590,
          2985,
          0,
          2160,
          0,
          1793,
          0,
          0,
          1833,
          4490,
          688,
          4600,
          0,
          1229,
          0,
          2330,
          2458,
          2168,
          4583,
          6250,
          0,
          2083,
          505,
          0,
          3167,
          3167,
          3667,
          2333,
          3033,
          0,
          0,
          0,
          7873,
          1459,
          923,
          4996,
          0,
          0,
          2500,
          4232,
          0,
          0,
          0,
          1600,
          2417,
          0,
          0,
          0,
          2115,
          1625,
          1400,
          484,
          1459,
          1666,
          20000,
          0,
          0,
          2400,
          0,
          0,
          2033,
          0,
          2773,
          1417,
          0,
          1719,
          4300,
          0,
          16.12000084,
          0,
          0,
          2340,
          0,
          0,
          1851,
          1125,
          0,
          5064,
          1833,
          1993,
          8333,
          1210,
          0,
          1456,
          2466,
          0,
          0,
          0,
          0,
          4083,
          0,
          2188,
          0,
          0,
          2917,
          2079,
          0,
          0,
          4648,
          1750,
          0,
          0,
          3150,
          0,
          2436,
          2083,
          2785,
          1131,
          0,
          913,
          1700,
          2857,
          0,
          3683,
          0,
          5624,
          1483,
          4416,
          3013,
          2004,
          2035,
          3428,
          1632,
          1742,
          0,
          1424,
          7166,
          0,
          1430,
          1302,
          0,
          5500,
          0,
          2042,
          3906,
          0,
          0,
          2845,
          0,
          2524,
          663,
          1950,
          1783,
          2016,
          2375,
          3250,
          1032,
          1625,
          0,
          2669,
          2306,
          242,
          2054,
          0,
          0,
          0,
          1750,
          461,
          2739,
          2232,
          2917,
          0,
          0,
          1522,
          0,
          0,
          3416,
          0,
          3300,
          0,
          0,
          0,
          2792,
          0,
          4301,
          2500,
          1411,
          1950,
          0,
          0,
          240,
          0
         ],
         "y0": " ",
         "yaxis": "y"
        },
        {
         "alignmentgroup": "True",
         "hovertemplate": "Loan_Status=%{x}<br>CoapplicantIncome=%{y}<extra></extra>",
         "legendgroup": "N",
         "marker": {
          "color": "#EF553B"
         },
         "name": "N",
         "notched": false,
         "offsetgroup": "N",
         "orientation": "v",
         "showlegend": true,
         "type": "box",
         "x": [
          "N",
          "N",
          "N",
          "N",
          "N",
          "N",
          "N",
          "N",
          "N",
          "N",
          "N",
          "N",
          "N",
          "N",
          "N",
          "N",
          "N",
          "N",
          "N",
          "N",
          "N",
          "N",
          "N",
          "N",
          "N",
          "N",
          "N",
          "N",
          "N",
          "N",
          "N",
          "N",
          "N",
          "N",
          "N",
          "N",
          "N",
          "N",
          "N",
          "N",
          "N",
          "N",
          "N",
          "N",
          "N",
          "N",
          "N",
          "N",
          "N",
          "N",
          "N",
          "N",
          "N",
          "N",
          "N",
          "N",
          "N",
          "N",
          "N",
          "N",
          "N",
          "N",
          "N",
          "N",
          "N",
          "N",
          "N",
          "N",
          "N",
          "N",
          "N",
          "N",
          "N",
          "N",
          "N",
          "N",
          "N",
          "N",
          "N",
          "N",
          "N",
          "N",
          "N",
          "N",
          "N",
          "N",
          "N",
          "N",
          "N",
          "N",
          "N",
          "N",
          "N",
          "N",
          "N",
          "N",
          "N",
          "N",
          "N",
          "N",
          "N",
          "N",
          "N",
          "N",
          "N",
          "N",
          "N",
          "N",
          "N",
          "N",
          "N",
          "N",
          "N",
          "N",
          "N",
          "N",
          "N",
          "N",
          "N",
          "N",
          "N",
          "N",
          "N",
          "N",
          "N",
          "N",
          "N",
          "N",
          "N",
          "N",
          "N",
          "N",
          "N",
          "N",
          "N",
          "N",
          "N",
          "N",
          "N",
          "N",
          "N",
          "N",
          "N",
          "N",
          "N",
          "N",
          "N",
          "N",
          "N",
          "N",
          "N",
          "N",
          "N",
          "N",
          "N",
          "N",
          "N",
          "N",
          "N",
          "N",
          "N",
          "N",
          "N",
          "N",
          "N",
          "N",
          "N",
          "N",
          "N",
          "N",
          "N",
          "N",
          "N",
          "N",
          "N"
         ],
         "x0": " ",
         "xaxis": "x",
         "y": [
          1508,
          2504,
          2840,
          0,
          0,
          0,
          1911,
          1917,
          2925,
          0,
          3369,
          0,
          0,
          1330,
          0,
          3440,
          0,
          0,
          2200,
          3449,
          0,
          0,
          4595,
          2254,
          0,
          0,
          0,
          4750,
          3022,
          4000,
          1881,
          2250,
          0,
          0,
          3600,
          4114,
          2142,
          2569,
          7750,
          0,
          1430,
          2083,
          1666,
          0,
          0,
          0,
          0,
          1280,
          0,
          0,
          0,
          736,
          11300,
          1451,
          7250,
          5063,
          0,
          0,
          2583,
          0,
          0,
          0,
          1250,
          1800,
          0,
          0,
          0,
          0,
          0,
          1983,
          4333,
          3890,
          0,
          0,
          0,
          0,
          0,
          0,
          2426,
          1717,
          0,
          0,
          2541,
          2925,
          2934,
          0,
          1863,
          1843,
          0,
          4983,
          2451,
          0,
          1587,
          0,
          3230,
          4167,
          0,
          0,
          1666,
          0,
          0,
          0,
          0,
          1987,
          0,
          0,
          3136,
          0,
          1800,
          0,
          0,
          0,
          0,
          0,
          0,
          3237,
          0,
          20000,
          0,
          1667,
          0,
          0,
          1376,
          1710,
          1542,
          1255,
          1733,
          2569,
          0,
          0,
          1664,
          2451,
          1500,
          1872,
          1603,
          0,
          0,
          2157,
          4416,
          5302,
          0,
          1287,
          6666,
          3666,
          1800,
          1915,
          0,
          2087,
          0,
          536,
          0,
          0,
          0,
          0,
          2333,
          4266,
          0,
          2500,
          0,
          2064,
          1451,
          1625,
          0,
          2210,
          33837,
          0,
          1917,
          3000,
          0,
          0,
          1000,
          0,
          41667,
          3800,
          0
         ],
         "y0": " ",
         "yaxis": "y"
        }
       ],
       "layout": {
        "boxmode": "overlay",
        "legend": {
         "title": {
          "text": "Loan_Status"
         },
         "tracegroupgap": 0
        },
        "template": {
         "data": {
          "bar": [
           {
            "error_x": {
             "color": "#2a3f5f"
            },
            "error_y": {
             "color": "#2a3f5f"
            },
            "marker": {
             "line": {
              "color": "#E5ECF6",
              "width": 0.5
             },
             "pattern": {
              "fillmode": "overlay",
              "size": 10,
              "solidity": 0.2
             }
            },
            "type": "bar"
           }
          ],
          "barpolar": [
           {
            "marker": {
             "line": {
              "color": "#E5ECF6",
              "width": 0.5
             },
             "pattern": {
              "fillmode": "overlay",
              "size": 10,
              "solidity": 0.2
             }
            },
            "type": "barpolar"
           }
          ],
          "carpet": [
           {
            "aaxis": {
             "endlinecolor": "#2a3f5f",
             "gridcolor": "white",
             "linecolor": "white",
             "minorgridcolor": "white",
             "startlinecolor": "#2a3f5f"
            },
            "baxis": {
             "endlinecolor": "#2a3f5f",
             "gridcolor": "white",
             "linecolor": "white",
             "minorgridcolor": "white",
             "startlinecolor": "#2a3f5f"
            },
            "type": "carpet"
           }
          ],
          "choropleth": [
           {
            "colorbar": {
             "outlinewidth": 0,
             "ticks": ""
            },
            "type": "choropleth"
           }
          ],
          "contour": [
           {
            "colorbar": {
             "outlinewidth": 0,
             "ticks": ""
            },
            "colorscale": [
             [
              0,
              "#0d0887"
             ],
             [
              0.1111111111111111,
              "#46039f"
             ],
             [
              0.2222222222222222,
              "#7201a8"
             ],
             [
              0.3333333333333333,
              "#9c179e"
             ],
             [
              0.4444444444444444,
              "#bd3786"
             ],
             [
              0.5555555555555556,
              "#d8576b"
             ],
             [
              0.6666666666666666,
              "#ed7953"
             ],
             [
              0.7777777777777778,
              "#fb9f3a"
             ],
             [
              0.8888888888888888,
              "#fdca26"
             ],
             [
              1,
              "#f0f921"
             ]
            ],
            "type": "contour"
           }
          ],
          "contourcarpet": [
           {
            "colorbar": {
             "outlinewidth": 0,
             "ticks": ""
            },
            "type": "contourcarpet"
           }
          ],
          "heatmap": [
           {
            "colorbar": {
             "outlinewidth": 0,
             "ticks": ""
            },
            "colorscale": [
             [
              0,
              "#0d0887"
             ],
             [
              0.1111111111111111,
              "#46039f"
             ],
             [
              0.2222222222222222,
              "#7201a8"
             ],
             [
              0.3333333333333333,
              "#9c179e"
             ],
             [
              0.4444444444444444,
              "#bd3786"
             ],
             [
              0.5555555555555556,
              "#d8576b"
             ],
             [
              0.6666666666666666,
              "#ed7953"
             ],
             [
              0.7777777777777778,
              "#fb9f3a"
             ],
             [
              0.8888888888888888,
              "#fdca26"
             ],
             [
              1,
              "#f0f921"
             ]
            ],
            "type": "heatmap"
           }
          ],
          "heatmapgl": [
           {
            "colorbar": {
             "outlinewidth": 0,
             "ticks": ""
            },
            "colorscale": [
             [
              0,
              "#0d0887"
             ],
             [
              0.1111111111111111,
              "#46039f"
             ],
             [
              0.2222222222222222,
              "#7201a8"
             ],
             [
              0.3333333333333333,
              "#9c179e"
             ],
             [
              0.4444444444444444,
              "#bd3786"
             ],
             [
              0.5555555555555556,
              "#d8576b"
             ],
             [
              0.6666666666666666,
              "#ed7953"
             ],
             [
              0.7777777777777778,
              "#fb9f3a"
             ],
             [
              0.8888888888888888,
              "#fdca26"
             ],
             [
              1,
              "#f0f921"
             ]
            ],
            "type": "heatmapgl"
           }
          ],
          "histogram": [
           {
            "marker": {
             "pattern": {
              "fillmode": "overlay",
              "size": 10,
              "solidity": 0.2
             }
            },
            "type": "histogram"
           }
          ],
          "histogram2d": [
           {
            "colorbar": {
             "outlinewidth": 0,
             "ticks": ""
            },
            "colorscale": [
             [
              0,
              "#0d0887"
             ],
             [
              0.1111111111111111,
              "#46039f"
             ],
             [
              0.2222222222222222,
              "#7201a8"
             ],
             [
              0.3333333333333333,
              "#9c179e"
             ],
             [
              0.4444444444444444,
              "#bd3786"
             ],
             [
              0.5555555555555556,
              "#d8576b"
             ],
             [
              0.6666666666666666,
              "#ed7953"
             ],
             [
              0.7777777777777778,
              "#fb9f3a"
             ],
             [
              0.8888888888888888,
              "#fdca26"
             ],
             [
              1,
              "#f0f921"
             ]
            ],
            "type": "histogram2d"
           }
          ],
          "histogram2dcontour": [
           {
            "colorbar": {
             "outlinewidth": 0,
             "ticks": ""
            },
            "colorscale": [
             [
              0,
              "#0d0887"
             ],
             [
              0.1111111111111111,
              "#46039f"
             ],
             [
              0.2222222222222222,
              "#7201a8"
             ],
             [
              0.3333333333333333,
              "#9c179e"
             ],
             [
              0.4444444444444444,
              "#bd3786"
             ],
             [
              0.5555555555555556,
              "#d8576b"
             ],
             [
              0.6666666666666666,
              "#ed7953"
             ],
             [
              0.7777777777777778,
              "#fb9f3a"
             ],
             [
              0.8888888888888888,
              "#fdca26"
             ],
             [
              1,
              "#f0f921"
             ]
            ],
            "type": "histogram2dcontour"
           }
          ],
          "mesh3d": [
           {
            "colorbar": {
             "outlinewidth": 0,
             "ticks": ""
            },
            "type": "mesh3d"
           }
          ],
          "parcoords": [
           {
            "line": {
             "colorbar": {
              "outlinewidth": 0,
              "ticks": ""
             }
            },
            "type": "parcoords"
           }
          ],
          "pie": [
           {
            "automargin": true,
            "type": "pie"
           }
          ],
          "scatter": [
           {
            "fillpattern": {
             "fillmode": "overlay",
             "size": 10,
             "solidity": 0.2
            },
            "type": "scatter"
           }
          ],
          "scatter3d": [
           {
            "line": {
             "colorbar": {
              "outlinewidth": 0,
              "ticks": ""
             }
            },
            "marker": {
             "colorbar": {
              "outlinewidth": 0,
              "ticks": ""
             }
            },
            "type": "scatter3d"
           }
          ],
          "scattercarpet": [
           {
            "marker": {
             "colorbar": {
              "outlinewidth": 0,
              "ticks": ""
             }
            },
            "type": "scattercarpet"
           }
          ],
          "scattergeo": [
           {
            "marker": {
             "colorbar": {
              "outlinewidth": 0,
              "ticks": ""
             }
            },
            "type": "scattergeo"
           }
          ],
          "scattergl": [
           {
            "marker": {
             "colorbar": {
              "outlinewidth": 0,
              "ticks": ""
             }
            },
            "type": "scattergl"
           }
          ],
          "scattermapbox": [
           {
            "marker": {
             "colorbar": {
              "outlinewidth": 0,
              "ticks": ""
             }
            },
            "type": "scattermapbox"
           }
          ],
          "scatterpolar": [
           {
            "marker": {
             "colorbar": {
              "outlinewidth": 0,
              "ticks": ""
             }
            },
            "type": "scatterpolar"
           }
          ],
          "scatterpolargl": [
           {
            "marker": {
             "colorbar": {
              "outlinewidth": 0,
              "ticks": ""
             }
            },
            "type": "scatterpolargl"
           }
          ],
          "scatterternary": [
           {
            "marker": {
             "colorbar": {
              "outlinewidth": 0,
              "ticks": ""
             }
            },
            "type": "scatterternary"
           }
          ],
          "surface": [
           {
            "colorbar": {
             "outlinewidth": 0,
             "ticks": ""
            },
            "colorscale": [
             [
              0,
              "#0d0887"
             ],
             [
              0.1111111111111111,
              "#46039f"
             ],
             [
              0.2222222222222222,
              "#7201a8"
             ],
             [
              0.3333333333333333,
              "#9c179e"
             ],
             [
              0.4444444444444444,
              "#bd3786"
             ],
             [
              0.5555555555555556,
              "#d8576b"
             ],
             [
              0.6666666666666666,
              "#ed7953"
             ],
             [
              0.7777777777777778,
              "#fb9f3a"
             ],
             [
              0.8888888888888888,
              "#fdca26"
             ],
             [
              1,
              "#f0f921"
             ]
            ],
            "type": "surface"
           }
          ],
          "table": [
           {
            "cells": {
             "fill": {
              "color": "#EBF0F8"
             },
             "line": {
              "color": "white"
             }
            },
            "header": {
             "fill": {
              "color": "#C8D4E3"
             },
             "line": {
              "color": "white"
             }
            },
            "type": "table"
           }
          ]
         },
         "layout": {
          "annotationdefaults": {
           "arrowcolor": "#2a3f5f",
           "arrowhead": 0,
           "arrowwidth": 1
          },
          "autotypenumbers": "strict",
          "coloraxis": {
           "colorbar": {
            "outlinewidth": 0,
            "ticks": ""
           }
          },
          "colorscale": {
           "diverging": [
            [
             0,
             "#8e0152"
            ],
            [
             0.1,
             "#c51b7d"
            ],
            [
             0.2,
             "#de77ae"
            ],
            [
             0.3,
             "#f1b6da"
            ],
            [
             0.4,
             "#fde0ef"
            ],
            [
             0.5,
             "#f7f7f7"
            ],
            [
             0.6,
             "#e6f5d0"
            ],
            [
             0.7,
             "#b8e186"
            ],
            [
             0.8,
             "#7fbc41"
            ],
            [
             0.9,
             "#4d9221"
            ],
            [
             1,
             "#276419"
            ]
           ],
           "sequential": [
            [
             0,
             "#0d0887"
            ],
            [
             0.1111111111111111,
             "#46039f"
            ],
            [
             0.2222222222222222,
             "#7201a8"
            ],
            [
             0.3333333333333333,
             "#9c179e"
            ],
            [
             0.4444444444444444,
             "#bd3786"
            ],
            [
             0.5555555555555556,
             "#d8576b"
            ],
            [
             0.6666666666666666,
             "#ed7953"
            ],
            [
             0.7777777777777778,
             "#fb9f3a"
            ],
            [
             0.8888888888888888,
             "#fdca26"
            ],
            [
             1,
             "#f0f921"
            ]
           ],
           "sequentialminus": [
            [
             0,
             "#0d0887"
            ],
            [
             0.1111111111111111,
             "#46039f"
            ],
            [
             0.2222222222222222,
             "#7201a8"
            ],
            [
             0.3333333333333333,
             "#9c179e"
            ],
            [
             0.4444444444444444,
             "#bd3786"
            ],
            [
             0.5555555555555556,
             "#d8576b"
            ],
            [
             0.6666666666666666,
             "#ed7953"
            ],
            [
             0.7777777777777778,
             "#fb9f3a"
            ],
            [
             0.8888888888888888,
             "#fdca26"
            ],
            [
             1,
             "#f0f921"
            ]
           ]
          },
          "colorway": [
           "#636efa",
           "#EF553B",
           "#00cc96",
           "#ab63fa",
           "#FFA15A",
           "#19d3f3",
           "#FF6692",
           "#B6E880",
           "#FF97FF",
           "#FECB52"
          ],
          "font": {
           "color": "#2a3f5f"
          },
          "geo": {
           "bgcolor": "white",
           "lakecolor": "white",
           "landcolor": "#E5ECF6",
           "showlakes": true,
           "showland": true,
           "subunitcolor": "white"
          },
          "hoverlabel": {
           "align": "left"
          },
          "hovermode": "closest",
          "mapbox": {
           "style": "light"
          },
          "paper_bgcolor": "white",
          "plot_bgcolor": "#E5ECF6",
          "polar": {
           "angularaxis": {
            "gridcolor": "white",
            "linecolor": "white",
            "ticks": ""
           },
           "bgcolor": "#E5ECF6",
           "radialaxis": {
            "gridcolor": "white",
            "linecolor": "white",
            "ticks": ""
           }
          },
          "scene": {
           "xaxis": {
            "backgroundcolor": "#E5ECF6",
            "gridcolor": "white",
            "gridwidth": 2,
            "linecolor": "white",
            "showbackground": true,
            "ticks": "",
            "zerolinecolor": "white"
           },
           "yaxis": {
            "backgroundcolor": "#E5ECF6",
            "gridcolor": "white",
            "gridwidth": 2,
            "linecolor": "white",
            "showbackground": true,
            "ticks": "",
            "zerolinecolor": "white"
           },
           "zaxis": {
            "backgroundcolor": "#E5ECF6",
            "gridcolor": "white",
            "gridwidth": 2,
            "linecolor": "white",
            "showbackground": true,
            "ticks": "",
            "zerolinecolor": "white"
           }
          },
          "shapedefaults": {
           "line": {
            "color": "#2a3f5f"
           }
          },
          "ternary": {
           "aaxis": {
            "gridcolor": "white",
            "linecolor": "white",
            "ticks": ""
           },
           "baxis": {
            "gridcolor": "white",
            "linecolor": "white",
            "ticks": ""
           },
           "bgcolor": "#E5ECF6",
           "caxis": {
            "gridcolor": "white",
            "linecolor": "white",
            "ticks": ""
           }
          },
          "title": {
           "x": 0.05
          },
          "xaxis": {
           "automargin": true,
           "gridcolor": "white",
           "linecolor": "white",
           "ticks": "",
           "title": {
            "standoff": 15
           },
           "zerolinecolor": "white",
           "zerolinewidth": 2
          },
          "yaxis": {
           "automargin": true,
           "gridcolor": "white",
           "linecolor": "white",
           "ticks": "",
           "title": {
            "standoff": 15
           },
           "zerolinecolor": "white",
           "zerolinewidth": 2
          }
         }
        },
        "title": {
         "text": "Loan_Status vs CoapplicantIncome"
        },
        "xaxis": {
         "anchor": "y",
         "categoryarray": [
          "Y",
          "N"
         ],
         "categoryorder": "array",
         "domain": [
          0,
          1
         ],
         "title": {
          "text": "Loan_Status"
         }
        },
        "yaxis": {
         "anchor": "x",
         "domain": [
          0,
          1
         ],
         "title": {
          "text": "CoapplicantIncome"
         }
        }
       }
      }
     },
     "metadata": {},
     "output_type": "display_data"
    }
   ],
   "source": [
    "fig_coapplicant_income = px.box(df, x='Loan_Status', y='CoapplicantIncome', color=\"Loan_Status\", title='Loan_Status vs CoapplicantIncome')\n",
    "fig_coapplicant_income.show()"
   ]
  },
  {
   "cell_type": "code",
   "execution_count": 488,
   "metadata": {
    "id": "dgp0rP13FVGd"
   },
   "outputs": [],
   "source": [
    "# Calculate the IQR\n",
    "Q1 = df['CoapplicantIncome'].quantile(0.25)\n",
    "Q3 = df['CoapplicantIncome'].quantile(0.75)\n",
    "IQR = Q3 - Q1\n",
    "\n",
    "# Define the lower and upper bounds for outliers\n",
    "\n",
    "lower_bound = Q1 - 1.5 * IQR\n",
    "upper_bound = Q3 + 1.5 * IQR\n",
    "\n",
    "# Remove outliers\n",
    "df = df[(df['CoapplicantIncome'] >= lower_bound) & (df['CoapplicantIncome'])]"
   ]
  },
  {
   "cell_type": "markdown",
   "metadata": {
    "id": "lWOJk6aboXmw"
   },
   "source": [
    "## *Relationship between the Property Area and the Loan Status*"
   ]
  },
  {
   "cell_type": "code",
   "execution_count": 489,
   "metadata": {
    "colab": {
     "base_uri": "https://localhost:8080/",
     "height": 542
    },
    "id": "RYa8-hu9Gdcl",
    "outputId": "1e068bd9-e0bd-4ce0-94ec-4ce1d5c51436"
   },
   "outputs": [
    {
     "data": {
      "application/vnd.plotly.v1+json": {
       "config": {
        "plotlyServerURL": "https://plot.ly"
       },
       "data": [
        {
         "alignmentgroup": "True",
         "bingroup": "x",
         "hovertemplate": "Loan_Status=N<br>Property_Area=%{x}<br>count=%{y}<extra></extra>",
         "legendgroup": "N",
         "marker": {
          "color": "#636efa",
          "pattern": {
           "shape": ""
          }
         },
         "name": "N",
         "offsetgroup": "N",
         "orientation": "v",
         "showlegend": true,
         "type": "histogram",
         "x": [
          "Rural",
          "Semiurban",
          "Rural",
          "Semiurban",
          "Rural",
          "Semiurban",
          "Urban",
          "Urban",
          "Urban",
          "Rural",
          "Rural",
          "Semiurban",
          "Urban",
          "Urban",
          "Urban",
          "Semiurban",
          "Urban",
          "Semiurban",
          "Urban",
          "Rural",
          "Rural",
          "Rural",
          "Semiurban",
          "Rural",
          "Rural",
          "Rural",
          "Semiurban",
          "Semiurban",
          "Semiurban",
          "Urban",
          "Urban",
          "Rural",
          "Semiurban",
          "Semiurban",
          "Rural",
          "Urban",
          "Urban",
          "Semiurban",
          "Urban",
          "Semiurban",
          "Rural",
          "Urban",
          "Urban",
          "Urban",
          "Rural",
          "Rural",
          "Urban",
          "Rural",
          "Rural",
          "Rural",
          "Urban",
          "Urban",
          "Urban",
          "Semiurban",
          "Semiurban",
          "Urban",
          "Urban",
          "Rural",
          "Rural",
          "Semiurban",
          "Rural",
          "Rural",
          "Urban",
          "Urban",
          "Urban",
          "Rural",
          "Semiurban",
          "Urban",
          "Rural",
          "Rural",
          "Rural",
          "Rural",
          "Semiurban",
          "Rural",
          "Semiurban",
          "Semiurban",
          "Semiurban",
          "Rural",
          "Urban",
          "Rural",
          "Rural",
          "Urban",
          "Urban",
          "Semiurban",
          "Semiurban",
          "Urban",
          "Rural",
          "Rural",
          "Rural",
          "Urban",
          "Urban"
         ],
         "xaxis": "x",
         "yaxis": "y"
        },
        {
         "alignmentgroup": "True",
         "bingroup": "x",
         "hovertemplate": "Loan_Status=Y<br>Property_Area=%{x}<br>count=%{y}<extra></extra>",
         "legendgroup": "Y",
         "marker": {
          "color": "#EF553B",
          "pattern": {
           "shape": ""
          }
         },
         "name": "Y",
         "offsetgroup": "Y",
         "orientation": "v",
         "showlegend": true,
         "type": "histogram",
         "x": [
          "Urban",
          "Urban",
          "Urban",
          "Urban",
          "Urban",
          "Urban",
          "Urban",
          "Urban",
          "Urban",
          "Urban",
          "Semiurban",
          "Urban",
          "Semiurban",
          "Semiurban",
          "Urban",
          "Semiurban",
          "Urban",
          "Semiurban",
          "Urban",
          "Semiurban",
          "Semiurban",
          "Semiurban",
          "Semiurban",
          "Semiurban",
          "Urban",
          "Urban",
          "Urban",
          "Urban",
          "Semiurban",
          "Semiurban",
          "Semiurban",
          "Semiurban",
          "Semiurban",
          "Semiurban",
          "Semiurban",
          "Semiurban",
          "Semiurban",
          "Urban",
          "Semiurban",
          "Semiurban",
          "Semiurban",
          "Urban",
          "Semiurban",
          "Semiurban",
          "Urban",
          "Urban",
          "Semiurban",
          "Semiurban",
          "Semiurban",
          "Urban",
          "Rural",
          "Semiurban",
          "Rural",
          "Rural",
          "Urban",
          "Urban",
          "Semiurban",
          "Semiurban",
          "Urban",
          "Semiurban",
          "Rural",
          "Rural",
          "Semiurban",
          "Semiurban",
          "Rural",
          "Rural",
          "Rural",
          "Rural",
          "Semiurban",
          "Rural",
          "Rural",
          "Rural",
          "Rural",
          "Rural",
          "Urban",
          "Semiurban",
          "Semiurban",
          "Urban",
          "Rural",
          "Urban",
          "Semiurban",
          "Semiurban",
          "Semiurban",
          "Semiurban",
          "Semiurban",
          "Semiurban",
          "Semiurban",
          "Semiurban",
          "Rural",
          "Semiurban",
          "Rural",
          "Rural",
          "Urban",
          "Rural",
          "Semiurban",
          "Semiurban",
          "Urban",
          "Rural",
          "Semiurban",
          "Urban",
          "Semiurban",
          "Rural",
          "Semiurban",
          "Urban",
          "Urban",
          "Rural",
          "Semiurban",
          "Semiurban",
          "Semiurban",
          "Urban",
          "Semiurban",
          "Urban",
          "Urban",
          "Rural",
          "Rural",
          "Rural",
          "Urban",
          "Semiurban",
          "Urban",
          "Semiurban",
          "Urban",
          "Rural",
          "Rural",
          "Semiurban",
          "Urban",
          "Urban",
          "Semiurban",
          "Semiurban",
          "Rural",
          "Rural",
          "Semiurban",
          "Urban",
          "Urban",
          "Semiurban",
          "Rural",
          "Rural",
          "Urban",
          "Rural",
          "Semiurban",
          "Urban",
          "Semiurban",
          "Rural",
          "Rural",
          "Semiurban",
          "Rural",
          "Semiurban",
          "Semiurban",
          "Urban",
          "Urban",
          "Rural",
          "Urban",
          "Urban",
          "Rural",
          "Semiurban",
          "Semiurban",
          "Semiurban",
          "Urban",
          "Urban",
          "Semiurban",
          "Urban",
          "Semiurban",
          "Urban",
          "Rural",
          "Semiurban",
          "Urban",
          "Rural",
          "Rural",
          "Semiurban",
          "Urban",
          "Rural",
          "Rural",
          "Semiurban",
          "Semiurban",
          "Urban",
          "Semiurban",
          "Rural",
          "Semiurban",
          "Rural",
          "Rural",
          "Urban",
          "Rural",
          "Semiurban",
          "Rural",
          "Semiurban",
          "Semiurban",
          "Rural",
          "Semiurban",
          "Semiurban",
          "Rural",
          "Semiurban",
          "Semiurban",
          "Urban",
          "Semiurban",
          "Rural",
          "Urban",
          "Rural",
          "Semiurban",
          "Semiurban",
          "Rural",
          "Urban",
          "Semiurban",
          "Urban",
          "Rural",
          "Semiurban",
          "Semiurban",
          "Rural",
          "Rural",
          "Semiurban",
          "Semiurban",
          "Rural",
          "Rural",
          "Urban",
          "Semiurban",
          "Urban",
          "Semiurban",
          "Rural",
          "Rural",
          "Rural",
          "Rural",
          "Urban",
          "Semiurban",
          "Urban",
          "Semiurban",
          "Semiurban",
          "Semiurban",
          "Rural",
          "Urban",
          "Urban",
          "Urban",
          "Rural",
          "Urban",
          "Urban",
          "Semiurban",
          "Rural",
          "Rural",
          "Rural",
          "Semiurban",
          "Rural",
          "Rural",
          "Urban"
         ],
         "xaxis": "x",
         "yaxis": "y"
        }
       ],
       "layout": {
        "barmode": "group",
        "legend": {
         "title": {
          "text": "Loan_Status"
         },
         "tracegroupgap": 0
        },
        "template": {
         "data": {
          "bar": [
           {
            "error_x": {
             "color": "#2a3f5f"
            },
            "error_y": {
             "color": "#2a3f5f"
            },
            "marker": {
             "line": {
              "color": "#E5ECF6",
              "width": 0.5
             },
             "pattern": {
              "fillmode": "overlay",
              "size": 10,
              "solidity": 0.2
             }
            },
            "type": "bar"
           }
          ],
          "barpolar": [
           {
            "marker": {
             "line": {
              "color": "#E5ECF6",
              "width": 0.5
             },
             "pattern": {
              "fillmode": "overlay",
              "size": 10,
              "solidity": 0.2
             }
            },
            "type": "barpolar"
           }
          ],
          "carpet": [
           {
            "aaxis": {
             "endlinecolor": "#2a3f5f",
             "gridcolor": "white",
             "linecolor": "white",
             "minorgridcolor": "white",
             "startlinecolor": "#2a3f5f"
            },
            "baxis": {
             "endlinecolor": "#2a3f5f",
             "gridcolor": "white",
             "linecolor": "white",
             "minorgridcolor": "white",
             "startlinecolor": "#2a3f5f"
            },
            "type": "carpet"
           }
          ],
          "choropleth": [
           {
            "colorbar": {
             "outlinewidth": 0,
             "ticks": ""
            },
            "type": "choropleth"
           }
          ],
          "contour": [
           {
            "colorbar": {
             "outlinewidth": 0,
             "ticks": ""
            },
            "colorscale": [
             [
              0,
              "#0d0887"
             ],
             [
              0.1111111111111111,
              "#46039f"
             ],
             [
              0.2222222222222222,
              "#7201a8"
             ],
             [
              0.3333333333333333,
              "#9c179e"
             ],
             [
              0.4444444444444444,
              "#bd3786"
             ],
             [
              0.5555555555555556,
              "#d8576b"
             ],
             [
              0.6666666666666666,
              "#ed7953"
             ],
             [
              0.7777777777777778,
              "#fb9f3a"
             ],
             [
              0.8888888888888888,
              "#fdca26"
             ],
             [
              1,
              "#f0f921"
             ]
            ],
            "type": "contour"
           }
          ],
          "contourcarpet": [
           {
            "colorbar": {
             "outlinewidth": 0,
             "ticks": ""
            },
            "type": "contourcarpet"
           }
          ],
          "heatmap": [
           {
            "colorbar": {
             "outlinewidth": 0,
             "ticks": ""
            },
            "colorscale": [
             [
              0,
              "#0d0887"
             ],
             [
              0.1111111111111111,
              "#46039f"
             ],
             [
              0.2222222222222222,
              "#7201a8"
             ],
             [
              0.3333333333333333,
              "#9c179e"
             ],
             [
              0.4444444444444444,
              "#bd3786"
             ],
             [
              0.5555555555555556,
              "#d8576b"
             ],
             [
              0.6666666666666666,
              "#ed7953"
             ],
             [
              0.7777777777777778,
              "#fb9f3a"
             ],
             [
              0.8888888888888888,
              "#fdca26"
             ],
             [
              1,
              "#f0f921"
             ]
            ],
            "type": "heatmap"
           }
          ],
          "heatmapgl": [
           {
            "colorbar": {
             "outlinewidth": 0,
             "ticks": ""
            },
            "colorscale": [
             [
              0,
              "#0d0887"
             ],
             [
              0.1111111111111111,
              "#46039f"
             ],
             [
              0.2222222222222222,
              "#7201a8"
             ],
             [
              0.3333333333333333,
              "#9c179e"
             ],
             [
              0.4444444444444444,
              "#bd3786"
             ],
             [
              0.5555555555555556,
              "#d8576b"
             ],
             [
              0.6666666666666666,
              "#ed7953"
             ],
             [
              0.7777777777777778,
              "#fb9f3a"
             ],
             [
              0.8888888888888888,
              "#fdca26"
             ],
             [
              1,
              "#f0f921"
             ]
            ],
            "type": "heatmapgl"
           }
          ],
          "histogram": [
           {
            "marker": {
             "pattern": {
              "fillmode": "overlay",
              "size": 10,
              "solidity": 0.2
             }
            },
            "type": "histogram"
           }
          ],
          "histogram2d": [
           {
            "colorbar": {
             "outlinewidth": 0,
             "ticks": ""
            },
            "colorscale": [
             [
              0,
              "#0d0887"
             ],
             [
              0.1111111111111111,
              "#46039f"
             ],
             [
              0.2222222222222222,
              "#7201a8"
             ],
             [
              0.3333333333333333,
              "#9c179e"
             ],
             [
              0.4444444444444444,
              "#bd3786"
             ],
             [
              0.5555555555555556,
              "#d8576b"
             ],
             [
              0.6666666666666666,
              "#ed7953"
             ],
             [
              0.7777777777777778,
              "#fb9f3a"
             ],
             [
              0.8888888888888888,
              "#fdca26"
             ],
             [
              1,
              "#f0f921"
             ]
            ],
            "type": "histogram2d"
           }
          ],
          "histogram2dcontour": [
           {
            "colorbar": {
             "outlinewidth": 0,
             "ticks": ""
            },
            "colorscale": [
             [
              0,
              "#0d0887"
             ],
             [
              0.1111111111111111,
              "#46039f"
             ],
             [
              0.2222222222222222,
              "#7201a8"
             ],
             [
              0.3333333333333333,
              "#9c179e"
             ],
             [
              0.4444444444444444,
              "#bd3786"
             ],
             [
              0.5555555555555556,
              "#d8576b"
             ],
             [
              0.6666666666666666,
              "#ed7953"
             ],
             [
              0.7777777777777778,
              "#fb9f3a"
             ],
             [
              0.8888888888888888,
              "#fdca26"
             ],
             [
              1,
              "#f0f921"
             ]
            ],
            "type": "histogram2dcontour"
           }
          ],
          "mesh3d": [
           {
            "colorbar": {
             "outlinewidth": 0,
             "ticks": ""
            },
            "type": "mesh3d"
           }
          ],
          "parcoords": [
           {
            "line": {
             "colorbar": {
              "outlinewidth": 0,
              "ticks": ""
             }
            },
            "type": "parcoords"
           }
          ],
          "pie": [
           {
            "automargin": true,
            "type": "pie"
           }
          ],
          "scatter": [
           {
            "fillpattern": {
             "fillmode": "overlay",
             "size": 10,
             "solidity": 0.2
            },
            "type": "scatter"
           }
          ],
          "scatter3d": [
           {
            "line": {
             "colorbar": {
              "outlinewidth": 0,
              "ticks": ""
             }
            },
            "marker": {
             "colorbar": {
              "outlinewidth": 0,
              "ticks": ""
             }
            },
            "type": "scatter3d"
           }
          ],
          "scattercarpet": [
           {
            "marker": {
             "colorbar": {
              "outlinewidth": 0,
              "ticks": ""
             }
            },
            "type": "scattercarpet"
           }
          ],
          "scattergeo": [
           {
            "marker": {
             "colorbar": {
              "outlinewidth": 0,
              "ticks": ""
             }
            },
            "type": "scattergeo"
           }
          ],
          "scattergl": [
           {
            "marker": {
             "colorbar": {
              "outlinewidth": 0,
              "ticks": ""
             }
            },
            "type": "scattergl"
           }
          ],
          "scattermapbox": [
           {
            "marker": {
             "colorbar": {
              "outlinewidth": 0,
              "ticks": ""
             }
            },
            "type": "scattermapbox"
           }
          ],
          "scatterpolar": [
           {
            "marker": {
             "colorbar": {
              "outlinewidth": 0,
              "ticks": ""
             }
            },
            "type": "scatterpolar"
           }
          ],
          "scatterpolargl": [
           {
            "marker": {
             "colorbar": {
              "outlinewidth": 0,
              "ticks": ""
             }
            },
            "type": "scatterpolargl"
           }
          ],
          "scatterternary": [
           {
            "marker": {
             "colorbar": {
              "outlinewidth": 0,
              "ticks": ""
             }
            },
            "type": "scatterternary"
           }
          ],
          "surface": [
           {
            "colorbar": {
             "outlinewidth": 0,
             "ticks": ""
            },
            "colorscale": [
             [
              0,
              "#0d0887"
             ],
             [
              0.1111111111111111,
              "#46039f"
             ],
             [
              0.2222222222222222,
              "#7201a8"
             ],
             [
              0.3333333333333333,
              "#9c179e"
             ],
             [
              0.4444444444444444,
              "#bd3786"
             ],
             [
              0.5555555555555556,
              "#d8576b"
             ],
             [
              0.6666666666666666,
              "#ed7953"
             ],
             [
              0.7777777777777778,
              "#fb9f3a"
             ],
             [
              0.8888888888888888,
              "#fdca26"
             ],
             [
              1,
              "#f0f921"
             ]
            ],
            "type": "surface"
           }
          ],
          "table": [
           {
            "cells": {
             "fill": {
              "color": "#EBF0F8"
             },
             "line": {
              "color": "white"
             }
            },
            "header": {
             "fill": {
              "color": "#C8D4E3"
             },
             "line": {
              "color": "white"
             }
            },
            "type": "table"
           }
          ]
         },
         "layout": {
          "annotationdefaults": {
           "arrowcolor": "#2a3f5f",
           "arrowhead": 0,
           "arrowwidth": 1
          },
          "autotypenumbers": "strict",
          "coloraxis": {
           "colorbar": {
            "outlinewidth": 0,
            "ticks": ""
           }
          },
          "colorscale": {
           "diverging": [
            [
             0,
             "#8e0152"
            ],
            [
             0.1,
             "#c51b7d"
            ],
            [
             0.2,
             "#de77ae"
            ],
            [
             0.3,
             "#f1b6da"
            ],
            [
             0.4,
             "#fde0ef"
            ],
            [
             0.5,
             "#f7f7f7"
            ],
            [
             0.6,
             "#e6f5d0"
            ],
            [
             0.7,
             "#b8e186"
            ],
            [
             0.8,
             "#7fbc41"
            ],
            [
             0.9,
             "#4d9221"
            ],
            [
             1,
             "#276419"
            ]
           ],
           "sequential": [
            [
             0,
             "#0d0887"
            ],
            [
             0.1111111111111111,
             "#46039f"
            ],
            [
             0.2222222222222222,
             "#7201a8"
            ],
            [
             0.3333333333333333,
             "#9c179e"
            ],
            [
             0.4444444444444444,
             "#bd3786"
            ],
            [
             0.5555555555555556,
             "#d8576b"
            ],
            [
             0.6666666666666666,
             "#ed7953"
            ],
            [
             0.7777777777777778,
             "#fb9f3a"
            ],
            [
             0.8888888888888888,
             "#fdca26"
            ],
            [
             1,
             "#f0f921"
            ]
           ],
           "sequentialminus": [
            [
             0,
             "#0d0887"
            ],
            [
             0.1111111111111111,
             "#46039f"
            ],
            [
             0.2222222222222222,
             "#7201a8"
            ],
            [
             0.3333333333333333,
             "#9c179e"
            ],
            [
             0.4444444444444444,
             "#bd3786"
            ],
            [
             0.5555555555555556,
             "#d8576b"
            ],
            [
             0.6666666666666666,
             "#ed7953"
            ],
            [
             0.7777777777777778,
             "#fb9f3a"
            ],
            [
             0.8888888888888888,
             "#fdca26"
            ],
            [
             1,
             "#f0f921"
            ]
           ]
          },
          "colorway": [
           "#636efa",
           "#EF553B",
           "#00cc96",
           "#ab63fa",
           "#FFA15A",
           "#19d3f3",
           "#FF6692",
           "#B6E880",
           "#FF97FF",
           "#FECB52"
          ],
          "font": {
           "color": "#2a3f5f"
          },
          "geo": {
           "bgcolor": "white",
           "lakecolor": "white",
           "landcolor": "#E5ECF6",
           "showlakes": true,
           "showland": true,
           "subunitcolor": "white"
          },
          "hoverlabel": {
           "align": "left"
          },
          "hovermode": "closest",
          "mapbox": {
           "style": "light"
          },
          "paper_bgcolor": "white",
          "plot_bgcolor": "#E5ECF6",
          "polar": {
           "angularaxis": {
            "gridcolor": "white",
            "linecolor": "white",
            "ticks": ""
           },
           "bgcolor": "#E5ECF6",
           "radialaxis": {
            "gridcolor": "white",
            "linecolor": "white",
            "ticks": ""
           }
          },
          "scene": {
           "xaxis": {
            "backgroundcolor": "#E5ECF6",
            "gridcolor": "white",
            "gridwidth": 2,
            "linecolor": "white",
            "showbackground": true,
            "ticks": "",
            "zerolinecolor": "white"
           },
           "yaxis": {
            "backgroundcolor": "#E5ECF6",
            "gridcolor": "white",
            "gridwidth": 2,
            "linecolor": "white",
            "showbackground": true,
            "ticks": "",
            "zerolinecolor": "white"
           },
           "zaxis": {
            "backgroundcolor": "#E5ECF6",
            "gridcolor": "white",
            "gridwidth": 2,
            "linecolor": "white",
            "showbackground": true,
            "ticks": "",
            "zerolinecolor": "white"
           }
          },
          "shapedefaults": {
           "line": {
            "color": "#2a3f5f"
           }
          },
          "ternary": {
           "aaxis": {
            "gridcolor": "white",
            "linecolor": "white",
            "ticks": ""
           },
           "baxis": {
            "gridcolor": "white",
            "linecolor": "white",
            "ticks": ""
           },
           "bgcolor": "#E5ECF6",
           "caxis": {
            "gridcolor": "white",
            "linecolor": "white",
            "ticks": ""
           }
          },
          "title": {
           "x": 0.05
          },
          "xaxis": {
           "automargin": true,
           "gridcolor": "white",
           "linecolor": "white",
           "ticks": "",
           "title": {
            "standoff": 15
           },
           "zerolinecolor": "white",
           "zerolinewidth": 2
          },
          "yaxis": {
           "automargin": true,
           "gridcolor": "white",
           "linecolor": "white",
           "ticks": "",
           "title": {
            "standoff": 15
           },
           "zerolinecolor": "white",
           "zerolinewidth": 2
          }
         }
        },
        "title": {
         "text": "Loan_Status vs Property_Area"
        },
        "xaxis": {
         "anchor": "y",
         "domain": [
          0,
          1
         ],
         "title": {
          "text": "Property_Area"
         }
        },
        "yaxis": {
         "anchor": "x",
         "domain": [
          0,
          1
         ],
         "title": {
          "text": "count"
         }
        }
       }
      }
     },
     "metadata": {},
     "output_type": "display_data"
    }
   ],
   "source": [
    "fig_property_area = px.histogram(df, x='Property_Area', color='Loan_Status', barmode='group', title='Loan_Status vs Property_Area')\n",
    "fig_property_area.show()"
   ]
  },
  {
   "cell_type": "markdown",
   "metadata": {
    "id": "5Erx1Ev3o_dV"
   },
   "source": [
    "## *Relationship between Credit History and Loan Status*"
   ]
  },
  {
   "cell_type": "code",
   "execution_count": 490,
   "metadata": {
    "colab": {
     "base_uri": "https://localhost:8080/",
     "height": 542
    },
    "id": "roIuJb_CG4nq",
    "outputId": "74096fc4-6cd1-409a-c103-ada39fc52d01"
   },
   "outputs": [
    {
     "data": {
      "application/vnd.plotly.v1+json": {
       "config": {
        "plotlyServerURL": "https://plot.ly"
       },
       "data": [
        {
         "alignmentgroup": "True",
         "bingroup": "x",
         "hovertemplate": "Loan_Status=N<br>Credit_History=%{x}<br>count=%{y}<extra></extra>",
         "legendgroup": "N",
         "marker": {
          "color": "#636efa",
          "pattern": {
           "shape": ""
          }
         },
         "name": "N",
         "offsetgroup": "N",
         "orientation": "v",
         "showlegend": true,
         "type": "histogram",
         "x": [
          1,
          0,
          1,
          0,
          0,
          1,
          1,
          0,
          0,
          1,
          0,
          1,
          0,
          1,
          1,
          0,
          1,
          1,
          0,
          0,
          1,
          1,
          1,
          1,
          1,
          1,
          0,
          1,
          0,
          0,
          0,
          1,
          1,
          0,
          1,
          1,
          1,
          0,
          0,
          1,
          1,
          1,
          0,
          0,
          1,
          0,
          1,
          1,
          0,
          1,
          0,
          0,
          0,
          0,
          0,
          1,
          0,
          1,
          0,
          1,
          0,
          0,
          1,
          0,
          1,
          0,
          0,
          1,
          0,
          0,
          1,
          1,
          1,
          1,
          0,
          1,
          1,
          1,
          0,
          0,
          0,
          0,
          0,
          1,
          0,
          1,
          0,
          1,
          1,
          1,
          1
         ],
         "xaxis": "x",
         "yaxis": "y"
        },
        {
         "alignmentgroup": "True",
         "bingroup": "x",
         "hovertemplate": "Loan_Status=Y<br>Credit_History=%{x}<br>count=%{y}<extra></extra>",
         "legendgroup": "Y",
         "marker": {
          "color": "#EF553B",
          "pattern": {
           "shape": ""
          }
         },
         "name": "Y",
         "offsetgroup": "Y",
         "orientation": "v",
         "showlegend": true,
         "type": "histogram",
         "x": [
          1,
          1,
          1,
          1,
          1,
          1,
          1,
          1,
          1,
          1,
          1,
          1,
          1,
          1,
          1,
          1,
          1,
          1,
          1,
          1,
          1,
          1,
          1,
          1,
          1,
          1,
          1,
          1,
          1,
          1,
          1,
          1,
          1,
          1,
          1,
          1,
          1,
          1,
          1,
          1,
          1,
          1,
          1,
          1,
          1,
          1,
          1,
          1,
          1,
          1,
          1,
          0,
          1,
          1,
          1,
          1,
          1,
          1,
          1,
          1,
          1,
          1,
          1,
          1,
          1,
          1,
          1,
          1,
          1,
          1,
          1,
          1,
          1,
          1,
          1,
          1,
          1,
          1,
          1,
          1,
          1,
          1,
          1,
          1,
          1,
          1,
          1,
          1,
          1,
          1,
          1,
          1,
          1,
          1,
          1,
          1,
          1,
          1,
          1,
          1,
          1,
          1,
          1,
          0,
          1,
          1,
          1,
          1,
          1,
          1,
          1,
          1,
          1,
          1,
          1,
          1,
          1,
          1,
          1,
          1,
          1,
          1,
          1,
          1,
          1,
          1,
          1,
          1,
          1,
          1,
          1,
          1,
          1,
          1,
          1,
          1,
          1,
          1,
          1,
          1,
          1,
          1,
          1,
          1,
          1,
          1,
          1,
          1,
          1,
          1,
          1,
          1,
          1,
          1,
          1,
          1,
          1,
          1,
          1,
          1,
          1,
          1,
          1,
          1,
          1,
          1,
          1,
          1,
          1,
          1,
          1,
          1,
          1,
          1,
          1,
          1,
          1,
          1,
          1,
          1,
          0,
          1,
          1,
          1,
          1,
          1,
          1,
          1,
          1,
          1,
          1,
          1,
          1,
          1,
          1,
          1,
          1,
          1,
          1,
          1,
          1,
          1,
          1,
          1,
          1,
          1,
          1,
          0,
          1,
          1,
          1,
          1,
          1,
          1,
          1,
          1,
          1,
          1,
          1,
          1,
          1,
          1,
          1,
          1,
          1,
          1,
          1,
          1,
          1,
          1,
          1,
          1,
          1,
          1,
          1,
          1,
          1,
          1,
          1,
          1
         ],
         "xaxis": "x",
         "yaxis": "y"
        }
       ],
       "layout": {
        "barmode": "group",
        "legend": {
         "title": {
          "text": "Loan_Status"
         },
         "tracegroupgap": 0
        },
        "template": {
         "data": {
          "bar": [
           {
            "error_x": {
             "color": "#2a3f5f"
            },
            "error_y": {
             "color": "#2a3f5f"
            },
            "marker": {
             "line": {
              "color": "#E5ECF6",
              "width": 0.5
             },
             "pattern": {
              "fillmode": "overlay",
              "size": 10,
              "solidity": 0.2
             }
            },
            "type": "bar"
           }
          ],
          "barpolar": [
           {
            "marker": {
             "line": {
              "color": "#E5ECF6",
              "width": 0.5
             },
             "pattern": {
              "fillmode": "overlay",
              "size": 10,
              "solidity": 0.2
             }
            },
            "type": "barpolar"
           }
          ],
          "carpet": [
           {
            "aaxis": {
             "endlinecolor": "#2a3f5f",
             "gridcolor": "white",
             "linecolor": "white",
             "minorgridcolor": "white",
             "startlinecolor": "#2a3f5f"
            },
            "baxis": {
             "endlinecolor": "#2a3f5f",
             "gridcolor": "white",
             "linecolor": "white",
             "minorgridcolor": "white",
             "startlinecolor": "#2a3f5f"
            },
            "type": "carpet"
           }
          ],
          "choropleth": [
           {
            "colorbar": {
             "outlinewidth": 0,
             "ticks": ""
            },
            "type": "choropleth"
           }
          ],
          "contour": [
           {
            "colorbar": {
             "outlinewidth": 0,
             "ticks": ""
            },
            "colorscale": [
             [
              0,
              "#0d0887"
             ],
             [
              0.1111111111111111,
              "#46039f"
             ],
             [
              0.2222222222222222,
              "#7201a8"
             ],
             [
              0.3333333333333333,
              "#9c179e"
             ],
             [
              0.4444444444444444,
              "#bd3786"
             ],
             [
              0.5555555555555556,
              "#d8576b"
             ],
             [
              0.6666666666666666,
              "#ed7953"
             ],
             [
              0.7777777777777778,
              "#fb9f3a"
             ],
             [
              0.8888888888888888,
              "#fdca26"
             ],
             [
              1,
              "#f0f921"
             ]
            ],
            "type": "contour"
           }
          ],
          "contourcarpet": [
           {
            "colorbar": {
             "outlinewidth": 0,
             "ticks": ""
            },
            "type": "contourcarpet"
           }
          ],
          "heatmap": [
           {
            "colorbar": {
             "outlinewidth": 0,
             "ticks": ""
            },
            "colorscale": [
             [
              0,
              "#0d0887"
             ],
             [
              0.1111111111111111,
              "#46039f"
             ],
             [
              0.2222222222222222,
              "#7201a8"
             ],
             [
              0.3333333333333333,
              "#9c179e"
             ],
             [
              0.4444444444444444,
              "#bd3786"
             ],
             [
              0.5555555555555556,
              "#d8576b"
             ],
             [
              0.6666666666666666,
              "#ed7953"
             ],
             [
              0.7777777777777778,
              "#fb9f3a"
             ],
             [
              0.8888888888888888,
              "#fdca26"
             ],
             [
              1,
              "#f0f921"
             ]
            ],
            "type": "heatmap"
           }
          ],
          "heatmapgl": [
           {
            "colorbar": {
             "outlinewidth": 0,
             "ticks": ""
            },
            "colorscale": [
             [
              0,
              "#0d0887"
             ],
             [
              0.1111111111111111,
              "#46039f"
             ],
             [
              0.2222222222222222,
              "#7201a8"
             ],
             [
              0.3333333333333333,
              "#9c179e"
             ],
             [
              0.4444444444444444,
              "#bd3786"
             ],
             [
              0.5555555555555556,
              "#d8576b"
             ],
             [
              0.6666666666666666,
              "#ed7953"
             ],
             [
              0.7777777777777778,
              "#fb9f3a"
             ],
             [
              0.8888888888888888,
              "#fdca26"
             ],
             [
              1,
              "#f0f921"
             ]
            ],
            "type": "heatmapgl"
           }
          ],
          "histogram": [
           {
            "marker": {
             "pattern": {
              "fillmode": "overlay",
              "size": 10,
              "solidity": 0.2
             }
            },
            "type": "histogram"
           }
          ],
          "histogram2d": [
           {
            "colorbar": {
             "outlinewidth": 0,
             "ticks": ""
            },
            "colorscale": [
             [
              0,
              "#0d0887"
             ],
             [
              0.1111111111111111,
              "#46039f"
             ],
             [
              0.2222222222222222,
              "#7201a8"
             ],
             [
              0.3333333333333333,
              "#9c179e"
             ],
             [
              0.4444444444444444,
              "#bd3786"
             ],
             [
              0.5555555555555556,
              "#d8576b"
             ],
             [
              0.6666666666666666,
              "#ed7953"
             ],
             [
              0.7777777777777778,
              "#fb9f3a"
             ],
             [
              0.8888888888888888,
              "#fdca26"
             ],
             [
              1,
              "#f0f921"
             ]
            ],
            "type": "histogram2d"
           }
          ],
          "histogram2dcontour": [
           {
            "colorbar": {
             "outlinewidth": 0,
             "ticks": ""
            },
            "colorscale": [
             [
              0,
              "#0d0887"
             ],
             [
              0.1111111111111111,
              "#46039f"
             ],
             [
              0.2222222222222222,
              "#7201a8"
             ],
             [
              0.3333333333333333,
              "#9c179e"
             ],
             [
              0.4444444444444444,
              "#bd3786"
             ],
             [
              0.5555555555555556,
              "#d8576b"
             ],
             [
              0.6666666666666666,
              "#ed7953"
             ],
             [
              0.7777777777777778,
              "#fb9f3a"
             ],
             [
              0.8888888888888888,
              "#fdca26"
             ],
             [
              1,
              "#f0f921"
             ]
            ],
            "type": "histogram2dcontour"
           }
          ],
          "mesh3d": [
           {
            "colorbar": {
             "outlinewidth": 0,
             "ticks": ""
            },
            "type": "mesh3d"
           }
          ],
          "parcoords": [
           {
            "line": {
             "colorbar": {
              "outlinewidth": 0,
              "ticks": ""
             }
            },
            "type": "parcoords"
           }
          ],
          "pie": [
           {
            "automargin": true,
            "type": "pie"
           }
          ],
          "scatter": [
           {
            "fillpattern": {
             "fillmode": "overlay",
             "size": 10,
             "solidity": 0.2
            },
            "type": "scatter"
           }
          ],
          "scatter3d": [
           {
            "line": {
             "colorbar": {
              "outlinewidth": 0,
              "ticks": ""
             }
            },
            "marker": {
             "colorbar": {
              "outlinewidth": 0,
              "ticks": ""
             }
            },
            "type": "scatter3d"
           }
          ],
          "scattercarpet": [
           {
            "marker": {
             "colorbar": {
              "outlinewidth": 0,
              "ticks": ""
             }
            },
            "type": "scattercarpet"
           }
          ],
          "scattergeo": [
           {
            "marker": {
             "colorbar": {
              "outlinewidth": 0,
              "ticks": ""
             }
            },
            "type": "scattergeo"
           }
          ],
          "scattergl": [
           {
            "marker": {
             "colorbar": {
              "outlinewidth": 0,
              "ticks": ""
             }
            },
            "type": "scattergl"
           }
          ],
          "scattermapbox": [
           {
            "marker": {
             "colorbar": {
              "outlinewidth": 0,
              "ticks": ""
             }
            },
            "type": "scattermapbox"
           }
          ],
          "scatterpolar": [
           {
            "marker": {
             "colorbar": {
              "outlinewidth": 0,
              "ticks": ""
             }
            },
            "type": "scatterpolar"
           }
          ],
          "scatterpolargl": [
           {
            "marker": {
             "colorbar": {
              "outlinewidth": 0,
              "ticks": ""
             }
            },
            "type": "scatterpolargl"
           }
          ],
          "scatterternary": [
           {
            "marker": {
             "colorbar": {
              "outlinewidth": 0,
              "ticks": ""
             }
            },
            "type": "scatterternary"
           }
          ],
          "surface": [
           {
            "colorbar": {
             "outlinewidth": 0,
             "ticks": ""
            },
            "colorscale": [
             [
              0,
              "#0d0887"
             ],
             [
              0.1111111111111111,
              "#46039f"
             ],
             [
              0.2222222222222222,
              "#7201a8"
             ],
             [
              0.3333333333333333,
              "#9c179e"
             ],
             [
              0.4444444444444444,
              "#bd3786"
             ],
             [
              0.5555555555555556,
              "#d8576b"
             ],
             [
              0.6666666666666666,
              "#ed7953"
             ],
             [
              0.7777777777777778,
              "#fb9f3a"
             ],
             [
              0.8888888888888888,
              "#fdca26"
             ],
             [
              1,
              "#f0f921"
             ]
            ],
            "type": "surface"
           }
          ],
          "table": [
           {
            "cells": {
             "fill": {
              "color": "#EBF0F8"
             },
             "line": {
              "color": "white"
             }
            },
            "header": {
             "fill": {
              "color": "#C8D4E3"
             },
             "line": {
              "color": "white"
             }
            },
            "type": "table"
           }
          ]
         },
         "layout": {
          "annotationdefaults": {
           "arrowcolor": "#2a3f5f",
           "arrowhead": 0,
           "arrowwidth": 1
          },
          "autotypenumbers": "strict",
          "coloraxis": {
           "colorbar": {
            "outlinewidth": 0,
            "ticks": ""
           }
          },
          "colorscale": {
           "diverging": [
            [
             0,
             "#8e0152"
            ],
            [
             0.1,
             "#c51b7d"
            ],
            [
             0.2,
             "#de77ae"
            ],
            [
             0.3,
             "#f1b6da"
            ],
            [
             0.4,
             "#fde0ef"
            ],
            [
             0.5,
             "#f7f7f7"
            ],
            [
             0.6,
             "#e6f5d0"
            ],
            [
             0.7,
             "#b8e186"
            ],
            [
             0.8,
             "#7fbc41"
            ],
            [
             0.9,
             "#4d9221"
            ],
            [
             1,
             "#276419"
            ]
           ],
           "sequential": [
            [
             0,
             "#0d0887"
            ],
            [
             0.1111111111111111,
             "#46039f"
            ],
            [
             0.2222222222222222,
             "#7201a8"
            ],
            [
             0.3333333333333333,
             "#9c179e"
            ],
            [
             0.4444444444444444,
             "#bd3786"
            ],
            [
             0.5555555555555556,
             "#d8576b"
            ],
            [
             0.6666666666666666,
             "#ed7953"
            ],
            [
             0.7777777777777778,
             "#fb9f3a"
            ],
            [
             0.8888888888888888,
             "#fdca26"
            ],
            [
             1,
             "#f0f921"
            ]
           ],
           "sequentialminus": [
            [
             0,
             "#0d0887"
            ],
            [
             0.1111111111111111,
             "#46039f"
            ],
            [
             0.2222222222222222,
             "#7201a8"
            ],
            [
             0.3333333333333333,
             "#9c179e"
            ],
            [
             0.4444444444444444,
             "#bd3786"
            ],
            [
             0.5555555555555556,
             "#d8576b"
            ],
            [
             0.6666666666666666,
             "#ed7953"
            ],
            [
             0.7777777777777778,
             "#fb9f3a"
            ],
            [
             0.8888888888888888,
             "#fdca26"
            ],
            [
             1,
             "#f0f921"
            ]
           ]
          },
          "colorway": [
           "#636efa",
           "#EF553B",
           "#00cc96",
           "#ab63fa",
           "#FFA15A",
           "#19d3f3",
           "#FF6692",
           "#B6E880",
           "#FF97FF",
           "#FECB52"
          ],
          "font": {
           "color": "#2a3f5f"
          },
          "geo": {
           "bgcolor": "white",
           "lakecolor": "white",
           "landcolor": "#E5ECF6",
           "showlakes": true,
           "showland": true,
           "subunitcolor": "white"
          },
          "hoverlabel": {
           "align": "left"
          },
          "hovermode": "closest",
          "mapbox": {
           "style": "light"
          },
          "paper_bgcolor": "white",
          "plot_bgcolor": "#E5ECF6",
          "polar": {
           "angularaxis": {
            "gridcolor": "white",
            "linecolor": "white",
            "ticks": ""
           },
           "bgcolor": "#E5ECF6",
           "radialaxis": {
            "gridcolor": "white",
            "linecolor": "white",
            "ticks": ""
           }
          },
          "scene": {
           "xaxis": {
            "backgroundcolor": "#E5ECF6",
            "gridcolor": "white",
            "gridwidth": 2,
            "linecolor": "white",
            "showbackground": true,
            "ticks": "",
            "zerolinecolor": "white"
           },
           "yaxis": {
            "backgroundcolor": "#E5ECF6",
            "gridcolor": "white",
            "gridwidth": 2,
            "linecolor": "white",
            "showbackground": true,
            "ticks": "",
            "zerolinecolor": "white"
           },
           "zaxis": {
            "backgroundcolor": "#E5ECF6",
            "gridcolor": "white",
            "gridwidth": 2,
            "linecolor": "white",
            "showbackground": true,
            "ticks": "",
            "zerolinecolor": "white"
           }
          },
          "shapedefaults": {
           "line": {
            "color": "#2a3f5f"
           }
          },
          "ternary": {
           "aaxis": {
            "gridcolor": "white",
            "linecolor": "white",
            "ticks": ""
           },
           "baxis": {
            "gridcolor": "white",
            "linecolor": "white",
            "ticks": ""
           },
           "bgcolor": "#E5ECF6",
           "caxis": {
            "gridcolor": "white",
            "linecolor": "white",
            "ticks": ""
           }
          },
          "title": {
           "x": 0.05
          },
          "xaxis": {
           "automargin": true,
           "gridcolor": "white",
           "linecolor": "white",
           "ticks": "",
           "title": {
            "standoff": 15
           },
           "zerolinecolor": "white",
           "zerolinewidth": 2
          },
          "yaxis": {
           "automargin": true,
           "gridcolor": "white",
           "linecolor": "white",
           "ticks": "",
           "title": {
            "standoff": 15
           },
           "zerolinecolor": "white",
           "zerolinewidth": 2
          }
         }
        },
        "title": {
         "text": "Loan_Status vs Credit_His"
        },
        "xaxis": {
         "anchor": "y",
         "domain": [
          0,
          1
         ],
         "title": {
          "text": "Credit_History"
         }
        },
        "yaxis": {
         "anchor": "x",
         "domain": [
          0,
          1
         ],
         "title": {
          "text": "count"
         }
        }
       }
      }
     },
     "metadata": {},
     "output_type": "display_data"
    }
   ],
   "source": [
    "#Now let’s have a look at the relationship between credit history and loan status:\n",
    "\n",
    "fig_credit_history = px.histogram(df, x='Credit_History', color='Loan_Status', barmode='group', title='Loan_Status vs Credit_His')\n",
    "fig_credit_history.show()"
   ]
  },
  {
   "cell_type": "markdown",
   "metadata": {
    "id": "hNGcmrVYIg_w"
   },
   "source": [
    "# **Data Preparation**"
   ]
  },
  {
   "cell_type": "code",
   "execution_count": 491,
   "metadata": {},
   "outputs": [
    {
     "name": "stdout",
     "output_type": "stream",
     "text": [
      "Cột 'Gender': [<class 'str'>]\n",
      "Cột 'Married': [<class 'str'>]\n",
      "Cột 'Dependents': [<class 'int'> <class 'str'>]\n",
      "Cột 'Education': [<class 'str'>]\n",
      "Cột 'Self_Employed': [<class 'str'>]\n",
      "Cột 'Property_Area': [<class 'str'>]\n",
      "Cột 'Loan_Status': [<class 'str'>]\n"
     ]
    }
   ],
   "source": [
    "col_to_encode = ['Gender', 'Married', 'Dependents', 'Education', 'Self_Employed', 'Property_Area','Loan_Status']\n",
    "for col in col_to_encode:\n",
    "    print(f\"Cột '{col}': {df[col].apply(type).unique()}\")"
   ]
  },
  {
   "cell_type": "code",
   "execution_count": 492,
   "metadata": {},
   "outputs": [],
   "source": [
    "df['Dependents'] = df['Dependents'].astype(str)"
   ]
  },
  {
   "cell_type": "code",
   "execution_count": 493,
   "metadata": {
    "colab": {
     "base_uri": "https://localhost:8080/",
     "height": 226
    },
    "id": "xKrcezgypC4E",
    "outputId": "07282f97-d449-4083-a4d6-58654868110c"
   },
   "outputs": [
    {
     "data": {
      "text/html": [
       "<div>\n",
       "<style scoped>\n",
       "    .dataframe tbody tr th:only-of-type {\n",
       "        vertical-align: middle;\n",
       "    }\n",
       "\n",
       "    .dataframe tbody tr th {\n",
       "        vertical-align: top;\n",
       "    }\n",
       "\n",
       "    .dataframe thead th {\n",
       "        text-align: right;\n",
       "    }\n",
       "</style>\n",
       "<table border=\"1\" class=\"dataframe\">\n",
       "  <thead>\n",
       "    <tr style=\"text-align: right;\">\n",
       "      <th></th>\n",
       "      <th>Gender</th>\n",
       "      <th>Married</th>\n",
       "      <th>Dependents</th>\n",
       "      <th>Education</th>\n",
       "      <th>Self_Employed</th>\n",
       "      <th>ApplicantIncome</th>\n",
       "      <th>CoapplicantIncome</th>\n",
       "      <th>LoanAmount</th>\n",
       "      <th>Loan_Amount_Term</th>\n",
       "      <th>Credit_History</th>\n",
       "      <th>Property_Area</th>\n",
       "      <th>Loan_Status</th>\n",
       "    </tr>\n",
       "  </thead>\n",
       "  <tbody>\n",
       "    <tr>\n",
       "      <th>1</th>\n",
       "      <td>1</td>\n",
       "      <td>1</td>\n",
       "      <td>1</td>\n",
       "      <td>0</td>\n",
       "      <td>0</td>\n",
       "      <td>4583</td>\n",
       "      <td>1508.0</td>\n",
       "      <td>128.0</td>\n",
       "      <td>360.0</td>\n",
       "      <td>1.0</td>\n",
       "      <td>0</td>\n",
       "      <td>0</td>\n",
       "    </tr>\n",
       "    <tr>\n",
       "      <th>3</th>\n",
       "      <td>1</td>\n",
       "      <td>1</td>\n",
       "      <td>0</td>\n",
       "      <td>1</td>\n",
       "      <td>0</td>\n",
       "      <td>2583</td>\n",
       "      <td>2358.0</td>\n",
       "      <td>120.0</td>\n",
       "      <td>360.0</td>\n",
       "      <td>1.0</td>\n",
       "      <td>2</td>\n",
       "      <td>1</td>\n",
       "    </tr>\n",
       "    <tr>\n",
       "      <th>5</th>\n",
       "      <td>1</td>\n",
       "      <td>1</td>\n",
       "      <td>2</td>\n",
       "      <td>0</td>\n",
       "      <td>1</td>\n",
       "      <td>5417</td>\n",
       "      <td>4196.0</td>\n",
       "      <td>267.0</td>\n",
       "      <td>360.0</td>\n",
       "      <td>1.0</td>\n",
       "      <td>2</td>\n",
       "      <td>1</td>\n",
       "    </tr>\n",
       "    <tr>\n",
       "      <th>6</th>\n",
       "      <td>1</td>\n",
       "      <td>1</td>\n",
       "      <td>0</td>\n",
       "      <td>1</td>\n",
       "      <td>0</td>\n",
       "      <td>2333</td>\n",
       "      <td>1516.0</td>\n",
       "      <td>95.0</td>\n",
       "      <td>360.0</td>\n",
       "      <td>1.0</td>\n",
       "      <td>2</td>\n",
       "      <td>1</td>\n",
       "    </tr>\n",
       "    <tr>\n",
       "      <th>7</th>\n",
       "      <td>1</td>\n",
       "      <td>1</td>\n",
       "      <td>3</td>\n",
       "      <td>0</td>\n",
       "      <td>0</td>\n",
       "      <td>3036</td>\n",
       "      <td>2504.0</td>\n",
       "      <td>158.0</td>\n",
       "      <td>360.0</td>\n",
       "      <td>0.0</td>\n",
       "      <td>1</td>\n",
       "      <td>0</td>\n",
       "    </tr>\n",
       "  </tbody>\n",
       "</table>\n",
       "</div>"
      ],
      "text/plain": [
       "   Gender  Married  Dependents  Education  Self_Employed  ApplicantIncome  \\\n",
       "1       1        1           1          0              0             4583   \n",
       "3       1        1           0          1              0             2583   \n",
       "5       1        1           2          0              1             5417   \n",
       "6       1        1           0          1              0             2333   \n",
       "7       1        1           3          0              0             3036   \n",
       "\n",
       "   CoapplicantIncome  LoanAmount  Loan_Amount_Term  Credit_History  \\\n",
       "1             1508.0       128.0             360.0             1.0   \n",
       "3             2358.0       120.0             360.0             1.0   \n",
       "5             4196.0       267.0             360.0             1.0   \n",
       "6             1516.0        95.0             360.0             1.0   \n",
       "7             2504.0       158.0             360.0             0.0   \n",
       "\n",
       "   Property_Area  Loan_Status  \n",
       "1              0            0  \n",
       "3              2            1  \n",
       "5              2            1  \n",
       "6              2            1  \n",
       "7              1            0  "
      ]
     },
     "execution_count": 493,
     "metadata": {},
     "output_type": "execute_result"
    }
   ],
   "source": [
    "#Convert categorical Columns into numerical ones\n",
    "from sklearn.preprocessing import LabelEncoder\n",
    "le = LabelEncoder()\n",
    "\n",
    "col_to_encode = ['Gender', 'Married', 'Dependents', 'Education', 'Self_Employed', 'Property_Area','Loan_Status']\n",
    "for i in col_to_encode:\n",
    "    df[i] = le.fit_transform(df[i])\n",
    "\n",
    "df.head()"
   ]
  },
  {
   "cell_type": "code",
   "execution_count": 494,
   "metadata": {
    "id": "oUfYsFx5qhL8"
   },
   "outputs": [],
   "source": [
    "# Scale the numerical columns using StandardScaler\n",
    "scaler = StandardScaler()\n",
    "numerical_cols = ['ApplicantIncome', 'CoapplicantIncome', 'LoanAmount', 'Loan_Amount_Term', 'Credit_History']\n",
    "df[numerical_cols] = scaler.fit_transform(df[numerical_cols])"
   ]
  },
  {
   "cell_type": "code",
   "execution_count": 495,
   "metadata": {
    "colab": {
     "base_uri": "https://localhost:8080/",
     "height": 226
    },
    "id": "KTpEZyuyq0cu",
    "outputId": "eec35f61-0ec5-44df-cd39-c453a1244965"
   },
   "outputs": [
    {
     "data": {
      "text/html": [
       "<div>\n",
       "<style scoped>\n",
       "    .dataframe tbody tr th:only-of-type {\n",
       "        vertical-align: middle;\n",
       "    }\n",
       "\n",
       "    .dataframe tbody tr th {\n",
       "        vertical-align: top;\n",
       "    }\n",
       "\n",
       "    .dataframe thead th {\n",
       "        text-align: right;\n",
       "    }\n",
       "</style>\n",
       "<table border=\"1\" class=\"dataframe\">\n",
       "  <thead>\n",
       "    <tr style=\"text-align: right;\">\n",
       "      <th></th>\n",
       "      <th>Gender</th>\n",
       "      <th>Married</th>\n",
       "      <th>Dependents</th>\n",
       "      <th>Education</th>\n",
       "      <th>Self_Employed</th>\n",
       "      <th>ApplicantIncome</th>\n",
       "      <th>CoapplicantIncome</th>\n",
       "      <th>LoanAmount</th>\n",
       "      <th>Loan_Amount_Term</th>\n",
       "      <th>Credit_History</th>\n",
       "      <th>Property_Area</th>\n",
       "      <th>Loan_Status</th>\n",
       "    </tr>\n",
       "  </thead>\n",
       "  <tbody>\n",
       "    <tr>\n",
       "      <th>1</th>\n",
       "      <td>1</td>\n",
       "      <td>1</td>\n",
       "      <td>1</td>\n",
       "      <td>0</td>\n",
       "      <td>0</td>\n",
       "      <td>0.608614</td>\n",
       "      <td>-0.402801</td>\n",
       "      <td>-0.248490</td>\n",
       "      <td>0.259251</td>\n",
       "      <td>0.406808</td>\n",
       "      <td>0</td>\n",
       "      <td>0</td>\n",
       "    </tr>\n",
       "    <tr>\n",
       "      <th>3</th>\n",
       "      <td>1</td>\n",
       "      <td>1</td>\n",
       "      <td>0</td>\n",
       "      <td>1</td>\n",
       "      <td>0</td>\n",
       "      <td>-0.611545</td>\n",
       "      <td>-0.153896</td>\n",
       "      <td>-0.380965</td>\n",
       "      <td>0.259251</td>\n",
       "      <td>0.406808</td>\n",
       "      <td>2</td>\n",
       "      <td>1</td>\n",
       "    </tr>\n",
       "    <tr>\n",
       "      <th>5</th>\n",
       "      <td>1</td>\n",
       "      <td>1</td>\n",
       "      <td>2</td>\n",
       "      <td>0</td>\n",
       "      <td>1</td>\n",
       "      <td>1.117421</td>\n",
       "      <td>0.384325</td>\n",
       "      <td>2.053258</td>\n",
       "      <td>0.259251</td>\n",
       "      <td>0.406808</td>\n",
       "      <td>2</td>\n",
       "      <td>1</td>\n",
       "    </tr>\n",
       "    <tr>\n",
       "      <th>6</th>\n",
       "      <td>1</td>\n",
       "      <td>1</td>\n",
       "      <td>0</td>\n",
       "      <td>1</td>\n",
       "      <td>0</td>\n",
       "      <td>-0.764065</td>\n",
       "      <td>-0.400458</td>\n",
       "      <td>-0.794949</td>\n",
       "      <td>0.259251</td>\n",
       "      <td>0.406808</td>\n",
       "      <td>2</td>\n",
       "      <td>1</td>\n",
       "    </tr>\n",
       "    <tr>\n",
       "      <th>7</th>\n",
       "      <td>1</td>\n",
       "      <td>1</td>\n",
       "      <td>3</td>\n",
       "      <td>0</td>\n",
       "      <td>0</td>\n",
       "      <td>-0.335179</td>\n",
       "      <td>-0.111142</td>\n",
       "      <td>0.248290</td>\n",
       "      <td>0.259251</td>\n",
       "      <td>-2.458161</td>\n",
       "      <td>1</td>\n",
       "      <td>0</td>\n",
       "    </tr>\n",
       "  </tbody>\n",
       "</table>\n",
       "</div>"
      ],
      "text/plain": [
       "   Gender  Married  Dependents  Education  Self_Employed  ApplicantIncome  \\\n",
       "1       1        1           1          0              0         0.608614   \n",
       "3       1        1           0          1              0        -0.611545   \n",
       "5       1        1           2          0              1         1.117421   \n",
       "6       1        1           0          1              0        -0.764065   \n",
       "7       1        1           3          0              0        -0.335179   \n",
       "\n",
       "   CoapplicantIncome  LoanAmount  Loan_Amount_Term  Credit_History  \\\n",
       "1          -0.402801   -0.248490          0.259251        0.406808   \n",
       "3          -0.153896   -0.380965          0.259251        0.406808   \n",
       "5           0.384325    2.053258          0.259251        0.406808   \n",
       "6          -0.400458   -0.794949          0.259251        0.406808   \n",
       "7          -0.111142    0.248290          0.259251       -2.458161   \n",
       "\n",
       "   Property_Area  Loan_Status  \n",
       "1              0            0  \n",
       "3              2            1  \n",
       "5              2            1  \n",
       "6              2            1  \n",
       "7              1            0  "
      ]
     },
     "execution_count": 495,
     "metadata": {},
     "output_type": "execute_result"
    }
   ],
   "source": [
    "df.head()"
   ]
  },
  {
   "cell_type": "code",
   "execution_count": 496,
   "metadata": {
    "id": "Hma8JiL97Joo"
   },
   "outputs": [],
   "source": [
    "# Split the dataset into features (X) and target (y)\n",
    "X = df.drop('Loan_Status', axis=1)\n",
    "y = df['Loan_Status']\n",
    "\n",
    "# Split the data into training and testing sets\n",
    "X_train, X_test, y_train, y_test = train_test_split(X, y, test_size=0.3, random_state=42)"
   ]
  },
  {
   "cell_type": "markdown",
   "metadata": {
    "id": "jP3btr3M8aMV"
   },
   "source": [
    "# **Model Building and Evaluation**"
   ]
  },
  {
   "cell_type": "code",
   "execution_count": 497,
   "metadata": {
    "colab": {
     "base_uri": "https://localhost:8080/"
    },
    "id": "mbXzxuxUWmQA",
    "outputId": "aa81b1bf-d5d9-4585-f645-7dc08855c0b5"
   },
   "outputs": [
    {
     "name": "stdout",
     "output_type": "stream",
     "text": [
      "\n",
      "Logistic Regression:\n",
      "Accuracy: 0.87\n",
      "Classification Report:\n",
      "               precision    recall  f1-score   support\n",
      "\n",
      "           0       0.94      0.56      0.70        27\n",
      "           1       0.86      0.99      0.92        73\n",
      "\n",
      "    accuracy                           0.87       100\n",
      "   macro avg       0.90      0.77      0.81       100\n",
      "weighted avg       0.88      0.87      0.86       100\n",
      "\n",
      "Confusion Matrix:\n",
      " [[15 12]\n",
      " [ 1 72]]\n",
      "\n",
      "\n",
      "\n",
      "Random Forest Classifier:\n",
      "Accuracy: 0.86\n",
      "Classification Report:\n",
      "               precision    recall  f1-score   support\n",
      "\n",
      "           0       0.84      0.59      0.70        27\n",
      "           1       0.86      0.96      0.91        73\n",
      "\n",
      "    accuracy                           0.86       100\n",
      "   macro avg       0.85      0.78      0.80       100\n",
      "weighted avg       0.86      0.86      0.85       100\n",
      "\n",
      "Confusion Matrix:\n",
      " [[16 11]\n",
      " [ 3 70]]\n",
      "\n",
      "\n",
      "\n",
      "SVC:\n",
      "Accuracy:  0.85\n",
      "\n",
      "Classification Report:                precision    recall  f1-score   support\n",
      "\n",
      "           0       0.93      0.48      0.63        27\n",
      "           1       0.84      0.99      0.91        73\n",
      "\n",
      "    accuracy                           0.85       100\n",
      "   macro avg       0.88      0.73      0.77       100\n",
      "weighted avg       0.86      0.85      0.83       100\n",
      "\n",
      "\n",
      "Confusion Matrix: \n",
      " [[13 14]\n",
      " [ 1 72]]\n",
      "\n",
      "XGBoost Classifier:\n",
      "Accuracy: 0.82\n",
      "Classification Report:\n",
      "               precision    recall  f1-score   support\n",
      "\n",
      "           0       0.70      0.59      0.64        27\n",
      "           1       0.86      0.90      0.88        73\n",
      "\n",
      "    accuracy                           0.82       100\n",
      "   macro avg       0.78      0.75      0.76       100\n",
      "weighted avg       0.81      0.82      0.82       100\n",
      "\n",
      "Confusion Matrix:\n",
      " [[16 11]\n",
      " [ 7 66]]\n",
      "\n",
      "Decision Tree Classifier:\n",
      "Accuracy: 0.78\n",
      "Classification Report:\n",
      "               precision    recall  f1-score   support\n",
      "\n",
      "           0       0.60      0.56      0.58        27\n",
      "           1       0.84      0.86      0.85        73\n",
      "\n",
      "    accuracy                           0.78       100\n",
      "   macro avg       0.72      0.71      0.71       100\n",
      "weighted avg       0.78      0.78      0.78       100\n",
      "\n",
      "Confusion Matrix:\n",
      " [[15 12]\n",
      " [10 63]]\n"
     ]
    }
   ],
   "source": [
    "log_model = LogisticRegression()\n",
    "log_model.fit(X_train, y_train)\n",
    "y_pred_log = log_model.predict(X_test)\n",
    "accuracy_log = accuracy_score(y_test, y_pred_log)\n",
    "classification_report_log = classification_report(y_test, y_pred_log)\n",
    "confusion_matrix_log = confusion_matrix(y_test, y_pred_log)\n",
    "print(\"\\nLogistic Regression:\")\n",
    "print(\"Accuracy:\", accuracy_log)\n",
    "print(\"Classification Report:\\n\", classification_report_log)\n",
    "print(\"Confusion Matrix:\\n\", confusion_matrix_log)\n",
    "print(\"\\n\")\n",
    "\n",
    "rf_model = RandomForestClassifier(random_state=42)\n",
    "rf_model.fit(X_train, y_train)\n",
    "y_pred_rf = rf_model.predict(X_test)\n",
    "accuracy_rf = accuracy_score(y_test, y_pred_rf)\n",
    "classification_report_rf = classification_report(y_test, y_pred_rf)\n",
    "confusion_matrix_rf = confusion_matrix(y_test, y_pred_rf)\n",
    "print(\"\\nRandom Forest Classifier:\")\n",
    "print(\"Accuracy:\", accuracy_rf)\n",
    "print(\"Classification Report:\\n\", classification_report_rf)\n",
    "print(\"Confusion Matrix:\\n\", confusion_matrix_rf)\n",
    "print(\"\\n\")\n",
    "\n",
    "svc_model = SVC(random_state=42)\n",
    "svc_model.fit(X_train, y_train)\n",
    "y_pred_svc = svc_model.predict(X_test)\n",
    "accuracy_svc = accuracy_score(y_test, y_pred_svc)\n",
    "classification_report_svc = classification_report(y_test, y_pred_svc)\n",
    "confusion_matrix_svc = confusion_matrix(y_test, y_pred_svc)\n",
    "print(\"\\nSVC:\")\n",
    "print(\"Accuracy: \", accuracy_svc)\n",
    "print(\"\\nClassification Report: \", classification_report_svc)\n",
    "print(\"\\nConfusion Matrix: \\n\", confusion_matrix_svc)\n",
    "\n",
    "xgb_model = XGBClassifier(random_state=42)\n",
    "xgb_model.fit(X_train, y_train)\n",
    "y_pred_xgb = xgb_model.predict(X_test)\n",
    "accuracy_xgb = accuracy_score(y_test, y_pred_xgb)\n",
    "classification_rep_xgb = classification_report(y_test, y_pred_xgb)\n",
    "confusion_mat_xgb = confusion_matrix(y_test, y_pred_xgb)\n",
    "print(\"\\nXGBoost Classifier:\")\n",
    "print(\"Accuracy:\", accuracy_xgb)\n",
    "print(\"Classification Report:\\n\", classification_rep_xgb)\n",
    "print(\"Confusion Matrix:\\n\", confusion_mat_xgb)\n",
    "\n",
    "dct_model=DecisionTreeClassifier(random_state=42)\n",
    "dct_model.fit(X_train,y_train)\n",
    "y_pred_dct=dct_model.predict(X_test)\n",
    "accuracy_dct=accuracy_score(y_test,y_pred_dct)\n",
    "classification_rep_dct=classification_report(y_test,y_pred_dct)\n",
    "confusion_mat_dct=confusion_matrix(y_test,y_pred_dct)\n",
    "print(\"\\nDecision Tree Classifier:\")\n",
    "print(\"Accuracy:\", accuracy_dct)\n",
    "print(\"Classification Report:\\n\", classification_rep_dct)\n",
    "print(\"Confusion Matrix:\\n\", confusion_mat_dct)"
   ]
  },
  {
   "cell_type": "markdown",
   "metadata": {
    "id": "gpF8lVKZtWMt"
   },
   "source": [
    "# **Hyperparameter Tuning**"
   ]
  },
  {
   "cell_type": "code",
   "execution_count": 498,
   "metadata": {
    "colab": {
     "base_uri": "https://localhost:8080/"
    },
    "id": "B4p-pR_Ptg1y",
    "outputId": "61557f85-6c57-4e6a-8ae5-28e1642a8fe3"
   },
   "outputs": [
    {
     "name": "stdout",
     "output_type": "stream",
     "text": [
      "Logistic Regression:\n",
      "Best parameters: {'C': 0.1, 'penalty': 'l1', 'solver': 'liblinear'}\n",
      "Best Cross-Validation Score: 0.8354978354978355\n",
      "Accuracy: 0.86\n",
      "Classification Report:\n",
      "              precision    recall  f1-score   support\n",
      "\n",
      "           0       0.93      0.52      0.67        27\n",
      "           1       0.85      0.99      0.91        73\n",
      "\n",
      "    accuracy                           0.86       100\n",
      "   macro avg       0.89      0.75      0.79       100\n",
      "weighted avg       0.87      0.86      0.85       100\n",
      "\n",
      "Confusion Matrix:\n",
      "[[14 13]\n",
      " [ 1 72]]\n"
     ]
    }
   ],
   "source": [
    "from sklearn.model_selection import GridSearchCV\n",
    "\n",
    "log_reg_model = LogisticRegression(max_iter=1000, random_state=42)\n",
    "\n",
    "log_reg_params = {\n",
    "    'penalty': ['l1', 'l2', 'elasticnet'],\n",
    "    'C': [0.001, 0.01, 0.1, 1, 10, 100],\n",
    "    'solver': ['newton-cg', 'lbfgs', 'liblinear', 'sag', 'saga']\n",
    "}\n",
    "\n",
    "log_reg_grid = GridSearchCV(log_reg_model, param_grid=log_reg_params, cv=3)\n",
    "\n",
    "log_reg_grid.fit(X_train, y_train)\n",
    "\n",
    "log_reg_best = log_reg_grid.best_estimator_\n",
    "\n",
    "y_pred_log_reg = log_reg_best.predict(X_test)\n",
    "\n",
    "accuracy_log_reg = accuracy_score(y_test, y_pred_log_reg)\n",
    "print(\"Logistic Regression:\")\n",
    "print(f\"Best parameters: {log_reg_grid.best_params_}\")\n",
    "print(f\"Best Cross-Validation Score: {log_reg_grid.best_score_}\")\n",
    "print(f\"Accuracy: {accuracy_log_reg}\")\n",
    "print(\"Classification Report:\")\n",
    "print(classification_report(y_test, y_pred_log_reg))\n",
    "print(\"Confusion Matrix:\")\n",
    "print(confusion_matrix(y_test, y_pred_log_reg))"
   ]
  },
  {
   "cell_type": "code",
   "execution_count": 499,
   "metadata": {},
   "outputs": [],
   "source": [
    "## TAken data from the dataset\n",
    "t = log_reg_best.predict([[0.0,\t0.0, 0.0, 1, 0.0, 1811, 1666.0, 54.0, 360.0, 1.0, 2]])"
   ]
  },
  {
   "cell_type": "code",
   "execution_count": 500,
   "metadata": {},
   "outputs": [],
   "source": [
    "import pickle\n",
    "file=\"model_ml.pkl\"\n",
    "with open(file,'wb') as f:\n",
    "    pickle.dump(log_reg_best,f)"
   ]
  },
  {
   "cell_type": "code",
   "execution_count": 501,
   "metadata": {},
   "outputs": [],
   "source": [
    "with open(file,'rb') as f:\n",
    "    mp=pickle.load(f)"
   ]
  },
  {
   "cell_type": "code",
   "execution_count": 502,
   "metadata": {},
   "outputs": [
    {
     "name": "stdout",
     "output_type": "stream",
     "text": [
      "[1]\n"
     ]
    }
   ],
   "source": [
    "cy = mp.predict([[0.0,0.0,0.0,1,0.0,4230,0.0,112.0,360.0,1.0,1]])\n",
    "print(cy)"
   ]
  }
 ],
 "metadata": {
  "accelerator": "GPU",
  "colab": {
   "provenance": []
  },
  "kernelspec": {
   "display_name": "Python 3",
   "name": "python3"
  },
  "language_info": {
   "codemirror_mode": {
    "name": "ipython",
    "version": 3
   },
   "file_extension": ".py",
   "mimetype": "text/x-python",
   "name": "python",
   "nbconvert_exporter": "python",
   "pygments_lexer": "ipython3",
   "version": "3.12.5"
  }
 },
 "nbformat": 4,
 "nbformat_minor": 0
}
